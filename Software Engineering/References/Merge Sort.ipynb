{
 "cells": [
  {
   "cell_type": "code",
   "execution_count": 1,
   "metadata": {},
   "outputs": [
    {
     "name": "stdout",
     "output_type": "stream",
     "text": [
      "Given array is [12, 11, 13, 5, 6, 7]\n",
      "Sorted Array is [5, 6, 7, 11, 12, 13]\n"
     ]
    }
   ],
   "source": [
    "def merge(arr, left, mid, right):\n",
    "    n1 = mid - left + 1\n",
    "    n2 = right - mid\n",
    "\n",
    "    L = [0] * n1\n",
    "    R = [0] * n2\n",
    "\n",
    "    for i in range(0, n1):\n",
    "        L[i] = arr[left + i]\n",
    "    \n",
    "    for j in range(0, n2):\n",
    "        R[j] = arr[mid + 1 + j]\n",
    "    \n",
    "    i = 0\n",
    "    j = 0\n",
    "    k = left\n",
    "    while i < n1 and j < n2:\n",
    "        if L[i] <= R[j]:\n",
    "            arr[k] = L[i]\n",
    "            i += 1\n",
    "        else:\n",
    "            arr[k] = R[j]\n",
    "            j += 1\n",
    "        k += 1\n",
    "    \n",
    "    while i < n1:\n",
    "        arr[k] = L[i]\n",
    "        i += 1\n",
    "        k += 1\n",
    "\n",
    "def mergeSort(arr, left, right):\n",
    "    if left < right:\n",
    "        mid = left + (right - left) // 2\n",
    "\n",
    "        mergeSort(arr, left, mid)\n",
    "        mergeSort(arr, mid+1, right)\n",
    "        merge(arr, left, mid, right)\n",
    "\n",
    "arr = [12, 11, 13, 5, 6, 7]\n",
    "n = len(arr)\n",
    "print(\"Given array is\", arr)\n",
    "mergeSort(arr, 0, n-1)\n",
    "print(\"Sorted Array is\", arr)"
   ]
  }
 ],
 "metadata": {
  "kernelspec": {
   "display_name": "Python 3",
   "language": "python",
   "name": "python3"
  },
  "language_info": {
   "codemirror_mode": {
    "name": "ipython",
    "version": 3
   },
   "file_extension": ".py",
   "mimetype": "text/x-python",
   "name": "python",
   "nbconvert_exporter": "python",
   "pygments_lexer": "ipython3",
   "version": "3.11.9"
  }
 },
 "nbformat": 4,
 "nbformat_minor": 2
}
