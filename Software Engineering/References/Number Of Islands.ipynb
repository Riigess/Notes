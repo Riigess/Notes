{
 "cells": [
  {
   "cell_type": "markdown",
   "metadata": {},
   "source": [
    "# Problem\n",
    "Given an `m x n` 2D binary grid `grid` which represents a map of `1`s (land) and `0`s (water), return *the number of islands*.\n",
    "\n",
    "An **island** is surrounded by water and is formed by connecting adjacent lands horizontally or vertically. You may assume all four edges of the grid are all surrounded by water.\n",
    "\n",
    "## Example 1\n",
    "```python\n",
    "Input: grid = [\n",
    "    [\"1\", \"1\", \"1\", \"1\", \"0\"],\n",
    "    [\"1\", \"1\", \"0\", \"1\", \"0\"],\n",
    "    [\"1\", \"1\", \"0\", \"0\", \"0\"],\n",
    "    [\"0\", \"0\", \"0\", \"0\", \"0\"]\n",
    "]\n",
    "```\n",
    "\n",
    "Output: 1\n",
    "\n",
    "## Example 2\n",
    "```python\n",
    "Input: grid = [\n",
    "    [\"1\", \"1\", \"0\", \"0\", \"0\"],\n",
    "    [\"1\", \"1\", \"0\", \"0\", \"0\"],\n",
    "    [\"0\", \"0\", \"1\", \"0\", \"0\"],\n",
    "    [\"0\", \"0\", \"0\", \"1\", \"1\"]\n",
    "]\n",
    "```\n",
    "\n",
    "Output: 3\n",
    "\n",
    "## Constraints:\n",
    "- `m == grid.length`\n",
    "- `n == grid[i].length`\n",
    "- `1 <= m, n <= 300`\n",
    "- `grid[i][j]` is `'0'` or `'1'`."
   ]
  },
  {
   "cell_type": "code",
   "execution_count": 8,
   "metadata": {},
   "outputs": [],
   "source": [
    "from collections import deque\n",
    "\n",
    "class Solution:\n",
    "    def numOfIslands(self, grid:list[list[str]]) -> int:\n",
    "        if not grid:\n",
    "            return 0\n",
    "        \n",
    "        rows, cols = len(grid), len(grid[0])\n",
    "        visited = set()\n",
    "        islands = 0\n",
    "\n",
    "        def bfs(r:int, c:int):\n",
    "            q = deque()\n",
    "            visited.add((r, c))\n",
    "            q.append((r, c))\n",
    "\n",
    "            while q:\n",
    "                row, col = q.popleft()\n",
    "                directions = [[1, 0], [-1, 0], [0, 1], [0, -1]] #Right, Left, Down, Up\n",
    "                for dr, dc in directions:\n",
    "                    r, c = row + dr, col + dc\n",
    "                    if -1 < r < rows and -1 < c < cols and grid[r][c] == \"1\" and (r, c) not in visited:\n",
    "                        q.append((r, c))\n",
    "                        visited.add((r, c))\n",
    "        \n",
    "        for r in range(rows):\n",
    "            for c in range(cols):\n",
    "                if grid[r][c] == \"1\" and (r, c) not in visited:\n",
    "                    bfs(r, c)\n",
    "                    islands += 1\n",
    "        return islands"
   ]
  },
  {
   "cell_type": "code",
   "execution_count": 9,
   "metadata": {},
   "outputs": [
    {
     "name": "stdout",
     "output_type": "stream",
     "text": [
      "Test Case 1:\n",
      "\tReturned: 1\n",
      "\tExpected: 1\n",
      "Test Case 2:\n",
      "\tReturned: 3\n",
      "\tExpected: 3\n"
     ]
    }
   ],
   "source": [
    "def test_testcase(grid:list[list[str]], expected:int, test_numb:int):\n",
    "    sol = Solution()\n",
    "    ret = sol.numOfIslands(grid)\n",
    "    print(f\"Test Case {test_numb}:\")\n",
    "    print(\"\\tReturned:\", ret)\n",
    "    assert ret == expected\n",
    "    print(\"\\tExpected:\", expected)\n",
    "\n",
    "test_case_1_grid = [\n",
    "    ['1', '1', '1', '1', '0'],\n",
    "    ['1', '1', '0', '1', '0'],\n",
    "    ['1', '1', '0', '0', '0'],\n",
    "    ['0', '0', '0', '0', '0']\n",
    "]\n",
    "test_case_1_exp = 1\n",
    "test_testcase(test_case_1_grid,\n",
    "              test_case_1_exp,\n",
    "              1)\n",
    "\n",
    "test_case_2_grid = [\n",
    "    ['1', '1', '0', '0', '0'],\n",
    "    ['1', '1', '0', '0', '0'],\n",
    "    ['0', '0', '1', '0', '0'],\n",
    "    ['0', '0', '0', '1', '1']\n",
    "]\n",
    "test_case_2_exp = 3\n",
    "test_testcase(test_case_2_grid,\n",
    "              test_case_2_exp,\n",
    "              2)"
   ]
  }
 ],
 "metadata": {
  "kernelspec": {
   "display_name": "Python 3",
   "language": "python",
   "name": "python3"
  },
  "language_info": {
   "codemirror_mode": {
    "name": "ipython",
    "version": 3
   },
   "file_extension": ".py",
   "mimetype": "text/x-python",
   "name": "python",
   "nbconvert_exporter": "python",
   "pygments_lexer": "ipython3",
   "version": "3.11.9"
  }
 },
 "nbformat": 4,
 "nbformat_minor": 2
}
