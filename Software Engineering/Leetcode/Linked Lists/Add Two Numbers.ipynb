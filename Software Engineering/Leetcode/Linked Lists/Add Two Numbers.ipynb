{
 "cells": [
  {
   "cell_type": "markdown",
   "metadata": {},
   "source": [
    "# Problem\n",
    "You are given two non-empty linked lists representing two non-negative integers. The digits are stored in reverse order, and each of their nodes contains a single digit. Add the two numbers and return the sum as a linked list.\n",
    "\n",
    "You may assume the two numbers do not contain any leading zero, except the number 0 itself.\n",
    "\n",
    "## Example 1\n",
    "![](https://assets.leetcode.com/uploads/2020/10/02/addtwonumber1.jpg)\n",
    "Input:\n",
    "- l1 = [2,4,3]\n",
    "- l2 = [5,6,4]\n",
    "\n",
    "Output: [7,0,8]\n",
    "\n",
    "Explanation: 342 + 465 = 807.\n",
    "## Example 2\n",
    "Input:\n",
    "- l1 = [0]\n",
    "- l2 = [0]\n",
    "\n",
    "Output: [0]\n",
    "\n",
    "## Example 3\n",
    "Input:\n",
    "- l1 = [9,9,9,9,9,9,9]\n",
    "- l2 = [9,9,9,9]\n",
    "\n",
    "Output: [8,9,9,9,0,0,0,1]"
   ]
  },
  {
   "cell_type": "code",
   "execution_count": 10,
   "metadata": {},
   "outputs": [],
   "source": [
    "class ListNode:\n",
    "    def __init__(self, val=0, next=None):\n",
    "        self.val = val\n",
    "        self.next = next\n",
    "    \n",
    "    def __eq__(self, other):\n",
    "        if other == None:\n",
    "            return False\n",
    "        if self.val != other.val:\n",
    "            return False\n",
    "        t = self.next\n",
    "        o = other.next\n",
    "        while t != None and o != None:\n",
    "            if t.val != o.val:\n",
    "                return False\n",
    "            t = t.next\n",
    "            o = o.next\n",
    "        if t == None and o != None:\n",
    "            return False\n",
    "        if t != None and o == None:\n",
    "            return False\n",
    "        return True\n",
    "\n",
    "    def __str__(self):\n",
    "        st = f\"<ListNode(val={self.val},next={str(self.next)})\"\n",
    "        return st"
   ]
  },
  {
   "cell_type": "code",
   "execution_count": 2,
   "metadata": {},
   "outputs": [],
   "source": [
    "from typing import Optional\n",
    "\n",
    "class Solution:\n",
    "    def addTwoNumbers(self, l1: Optional[ListNode], l2: Optional[ListNode]) -> Optional[ListNode]:\n",
    "        def update_node(n1:ListNode, n2:ListNode, root:ListNode, remainder:int) -> int:\n",
    "            temp = 0\n",
    "            if n1 != None and n2 != None:\n",
    "                temp = n1.val + n2.val + remainder\n",
    "            elif n1 == None:\n",
    "                temp = n2.val + remainder\n",
    "            elif n2 == None:\n",
    "                temp = n1.val + remainder\n",
    "            if temp > 9:\n",
    "                remainder = temp // 10\n",
    "                temp %= 10\n",
    "            else:\n",
    "                remainder = temp // 10 #Which this should be equivalent to `remainder = 0`\n",
    "            root.next = ListNode(val=temp)\n",
    "            return remainder\n",
    "        cur_l1 = l1\n",
    "        cur_l2 = l2\n",
    "        root = ListNode()\n",
    "        root_store = root\n",
    "        remainder = 0\n",
    "        while cur_l1 != None or cur_l2 != None:\n",
    "            remainder = update_node(cur_l1, cur_l2, root, remainder)\n",
    "            root = root.next\n",
    "            if cur_l1 != None:\n",
    "                cur_l1 = cur_l1.next\n",
    "            if cur_l2 != None:\n",
    "                cur_l2 = cur_l2.next\n",
    "        if remainder > 0:\n",
    "            root.next = ListNode(val=remainder)\n",
    "        return root_store.next\n"
   ]
  },
  {
   "cell_type": "code",
   "execution_count": 3,
   "metadata": {},
   "outputs": [],
   "source": [
    "\n",
    "def test_testcase(numb:int, l1:ListNode, l2:ListNode, expected:ListNode):\n",
    "    sol = Solution()\n",
    "    ret = sol.addTwoNumbers(l1, l2)\n",
    "    print(f\"Test Case {numb}:\")\n",
    "    print(\"\\tResults:\", ret)\n",
    "    assert ret == expected\n",
    "    print(\"\\tExpected:\", expected)\n"
   ]
  },
  {
   "cell_type": "code",
   "execution_count": 11,
   "metadata": {},
   "outputs": [
    {
     "name": "stdout",
     "output_type": "stream",
     "text": [
      "Test Case 1:\n",
      "\tResults: <ListNode(val=7,next=<ListNode(val=0,next=<ListNode(val=8,next=None)))\n",
      "\tExpected: <ListNode(val=7,next=<ListNode(val=0,next=<ListNode(val=8,next=None)))\n",
      "Test Case 2:\n",
      "\tResults: <ListNode(val=8,next=<ListNode(val=9,next=<ListNode(val=9,next=<ListNode(val=1,next=None))))\n",
      "\tExpected: <ListNode(val=8,next=<ListNode(val=9,next=<ListNode(val=9,next=<ListNode(val=1,next=None))))\n"
     ]
    }
   ],
   "source": [
    "\n",
    "test_case_1_l1 = ListNode(val=2, next=ListNode(val=4, next=ListNode(val=3)))\n",
    "test_case_1_l2 = ListNode(val=5, next=ListNode(val=6, next=ListNode(val=4)))\n",
    "test_case_1_expected = ListNode(val=7, next=ListNode(val=0, next=ListNode(val=8)))\n",
    "test_testcase(1,\n",
    "              test_case_1_l1,\n",
    "              test_case_1_l2,\n",
    "              test_case_1_expected)\n",
    "\n",
    "test_case_2_l1 = ListNode(val=9, next=ListNode(val=9, next=ListNode(val=9)))\n",
    "test_case_2_l2 = ListNode(val=9, next=ListNode(val=9, next=ListNode(val=9)))\n",
    "test_case_2_expected = ListNode(val=8, next=ListNode(val=9, next=ListNode(val=9, next=ListNode(val=1))))\n",
    "test_testcase(2,\n",
    "              test_case_2_l1,\n",
    "              test_case_2_l2,\n",
    "              test_case_2_expected)"
   ]
  }
 ],
 "metadata": {
  "kernelspec": {
   "display_name": "Python 3",
   "language": "python",
   "name": "python3"
  },
  "language_info": {
   "codemirror_mode": {
    "name": "ipython",
    "version": 3
   },
   "file_extension": ".py",
   "mimetype": "text/x-python",
   "name": "python",
   "nbconvert_exporter": "python",
   "pygments_lexer": "ipython3",
   "version": "3.11.9"
  }
 },
 "nbformat": 4,
 "nbformat_minor": 2
}
