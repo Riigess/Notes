{
 "cells": [
  {
   "cell_type": "markdown",
   "metadata": {},
   "source": [
    "# Problem\n",
    "Given head, the head of a linked list, determine if the linked list has a cycle in it.\n",
    "\n",
    "There is a cycle in a linked list if there is some node in the list that can be reached again by continuously following the next pointer. Internally, pos is used to denote the index of the node that tail's next pointer is connected to. Note that pos is not passed as a parameter.\n",
    "\n",
    "Return true if there is a cycle in the linked list. Otherwise, return false.\n",
    "\n",
    "## Example 1\n",
    "![Linked List with a recursive position of 1](https://assets.leetcode.com/uploads/2018/12/07/circularlinkedlist.png)\n",
    "\n",
    "Input: head = [3,2,0,-4], pos = 1\n",
    "\n",
    "Output: true\n",
    "\n",
    "Explanation: There is a cycle in the linked list, where the tail connects to the 1st node (0-indexed).\n",
    "## Example 2\n",
    "![Linked List with a recursive psoition of 0](https://assets.leetcode.com/uploads/2018/12/07/circularlinkedlist_test2.png)\n",
    "\n",
    "Input: head = [1,2], pos = 0\n",
    "\n",
    "Output: true\n",
    "\n",
    "Explanation: There is a cycle in the linked list, where the tail connects to the 0th node.\n",
    "## Example 3\n",
    "![Linked List with a recursive position of -1](https://assets.leetcode.com/uploads/2018/12/07/circularlinkedlist_test3.png)\n",
    "\n",
    "Input: head = [1], pos = -1\n",
    "\n",
    "Output: false\n",
    "\n",
    "Explanation: There is no cycle in the linked list."
   ]
  },
  {
   "cell_type": "code",
   "execution_count": 1,
   "metadata": {},
   "outputs": [],
   "source": [
    "class ListNode:\n",
    "    def __init__(self, x):\n",
    "        self.val = x\n",
    "        self.next = None\n"
   ]
  },
  {
   "cell_type": "code",
   "execution_count": 2,
   "metadata": {},
   "outputs": [],
   "source": [
    "\n",
    "from typing import Optional\n",
    "\n",
    "class Solution:\n",
    "    def hasCycle(self, head: Optional[ListNode]) -> bool:\n",
    "        lookup = {}\n",
    "        cur = head\n",
    "        while cur != None:\n",
    "            if hash(cur) not in lookup:\n",
    "                lookup.update({hash(cur): cur})\n",
    "                cur = cur.next\n",
    "            else:\n",
    "                return True\n",
    "        return False\n"
   ]
  },
  {
   "cell_type": "code",
   "execution_count": 7,
   "metadata": {},
   "outputs": [],
   "source": [
    "\n",
    "def test_testcase(numb:int, head:ListNode, expected:bool):\n",
    "    sol = Solution()\n",
    "    ret = sol.hasCycle(head)\n",
    "    print(f\"Test Case {numb}:\")\n",
    "    print(\"\\tResults:\", ret)\n",
    "    assert ret == expected\n",
    "    print(\"\\tExpected:\", expected)\n",
    "\n",
    "def build_list_nodes(a:list[int], recurse_to:int):\n",
    "    ret = ListNode(0)\n",
    "    stored = ret\n",
    "    cur = ret\n",
    "    for i,v in enumerate(a):\n",
    "        cur.next = ListNode(v)\n",
    "        if i == recurse_to and recurse_to > -1:\n",
    "            stored = cur\n",
    "        cur = cur.next\n",
    "    if recurse_to > -1:\n",
    "        cur.next = stored\n",
    "    return ret.next\n"
   ]
  },
  {
   "cell_type": "code",
   "execution_count": 8,
   "metadata": {},
   "outputs": [
    {
     "name": "stdout",
     "output_type": "stream",
     "text": [
      "Test Case 1:\n",
      "\tResults: True\n",
      "\tExpected: True\n",
      "Test Case 2:\n",
      "\tResults: True\n",
      "\tExpected: True\n",
      "Test Case 3:\n",
      "\tResults: False\n",
      "\tExpected: False\n",
      "Test Case 4:\n",
      "\tResults: True\n",
      "\tExpected: True\n"
     ]
    }
   ],
   "source": [
    "\n",
    "test_case_1_head = build_list_nodes([3, 2, 0, -4], 1)\n",
    "test_case_1_expected = True\n",
    "test_testcase(1,\n",
    "              test_case_1_head,\n",
    "              test_case_1_expected)\n",
    "\n",
    "test_case_2_head = build_list_nodes([1, 2], 0)\n",
    "test_case_2_expected = True\n",
    "test_testcase(2,\n",
    "              test_case_2_head,\n",
    "              test_case_2_expected)\n",
    "\n",
    "test_case_3_head = build_list_nodes([1], -1)\n",
    "test_case_3_expected = False\n",
    "test_testcase(3,\n",
    "              test_case_3_head,\n",
    "              test_case_3_expected)\n",
    "\n",
    "test_case_4_head = build_list_nodes([3, 3, 4, 0, 2], 2)\n",
    "test_case_4_expected = True\n",
    "test_testcase(4,\n",
    "              test_case_4_head,\n",
    "              test_case_4_expected)"
   ]
  }
 ],
 "metadata": {
  "kernelspec": {
   "display_name": "Python 3",
   "language": "python",
   "name": "python3"
  },
  "language_info": {
   "codemirror_mode": {
    "name": "ipython",
    "version": 3
   },
   "file_extension": ".py",
   "mimetype": "text/x-python",
   "name": "python",
   "nbconvert_exporter": "python",
   "pygments_lexer": "ipython3",
   "version": "3.11.9"
  }
 },
 "nbformat": 4,
 "nbformat_minor": 2
}
