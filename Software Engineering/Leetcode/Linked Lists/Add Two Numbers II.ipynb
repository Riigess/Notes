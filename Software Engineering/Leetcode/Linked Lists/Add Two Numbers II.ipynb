{
 "cells": [
  {
   "cell_type": "markdown",
   "metadata": {},
   "source": [
    "# Problem\n",
    "You are given two non-empty linked lists representing two non-negative integers. The most significant digit comes first and each of their nodes contains a single digit. Add the two numbers and return the sum as a linked list.\n",
    "\n",
    "You may assume the two numbers do not contain any leading zero, except the number 0 itself.\n",
    "\n",
    "## Example 1\n",
    "![](https://assets.leetcode.com/uploads/2021/04/09/sumii-linked-list.jpg)\n",
    "\n",
    "Input:\n",
    "- l1 = [7,2,4,3]\n",
    "- l2 = [5,6,4]\n",
    "\n",
    "Output: [7,8,0,7]\n",
    "\n",
    "## Example 2\n",
    "\n",
    "Input:\n",
    "- l1 = [2,4,3]\n",
    "- l2 = [5,6,4]\n",
    "\n",
    "Output: [8,0,7]\n",
    "\n",
    "## Example 3\n",
    "\n",
    "Input:\n",
    "- l1 = [0]\n",
    "- l2 = [0]\n",
    "\n",
    "Output: [0]\n"
   ]
  },
  {
   "cell_type": "code",
   "execution_count": 21,
   "metadata": {},
   "outputs": [],
   "source": [
    "class ListNode:\n",
    "    def __init__(self, val=0, next=None):\n",
    "        self.val = int(val)\n",
    "        self.next = next\n",
    "    \n",
    "    def __eq__(self, other):\n",
    "        if other == None:\n",
    "            return False\n",
    "        if other.val != self.val:\n",
    "            return False\n",
    "        if self.next != None and other.next != None:\n",
    "            t = self.next\n",
    "            o = other.next\n",
    "            while t != None and o != None:\n",
    "                if t.val != o.val:\n",
    "                    return False\n",
    "                t = t.next\n",
    "                o = o.next\n",
    "            if (t == None and o != None) or (t != None and o == None):\n",
    "                return False\n",
    "        elif other != None:\n",
    "            if self.val != other.val:\n",
    "                return False\n",
    "        return True\n",
    "\n",
    "    def __str__(self):\n",
    "        return f\"<ListNode(val={self.val}, next={str(self.next)})>\"\n"
   ]
  },
  {
   "cell_type": "code",
   "execution_count": 2,
   "metadata": {},
   "outputs": [],
   "source": [
    "\n",
    "from typing import Optional\n",
    "\n",
    "class Solution:\n",
    "    def addTwoNumbers(self, l1: Optional[ListNode], l2: Optional[ListNode]) -> Optional[ListNode]:\n",
    "        #This problem ideally is supposed to use back tracking..\n",
    "        a = []\n",
    "        b = []\n",
    "        cl1 = l1\n",
    "        cl2 = l2\n",
    "        while cl1 != None:\n",
    "            a.append(str(cl1.val))\n",
    "            cl1 = cl1.next\n",
    "        while cl2 != None:\n",
    "            b.append(str(cl2.val))\n",
    "            cl2 = cl2.next\n",
    "        a = int(''.join(a))\n",
    "        b = int(''.join(b))\n",
    "        c = str(a + b)\n",
    "        ret = ListNode()\n",
    "        cur = ret\n",
    "        for v in c:\n",
    "            cur.next = ListNode(val=v)\n",
    "            cur = cur.next\n",
    "        return ret.next\n"
   ]
  },
  {
   "cell_type": "code",
   "execution_count": 3,
   "metadata": {},
   "outputs": [],
   "source": [
    "\n",
    "def test_testcase(numb:int, l1:ListNode, l2:ListNode, expected:ListNode):\n",
    "    sol = Solution()\n",
    "    ret = sol.addTwoNumbers(l1, l2)\n",
    "    print(f\"Test Case {numb}:\")\n",
    "    print(\"\\tResults:\", ret)\n",
    "    assert ret == expected\n",
    "    print(\"\\tExpected:\", expected)\n",
    "\n",
    "def make_listnode_from_list(a:list) -> ListNode:\n",
    "    ret = ListNode()\n",
    "    cur = ret\n",
    "    while len(a) > 0:\n",
    "        cur.next = ListNode(val=a[0])\n",
    "        cur = cur.next\n",
    "        del a[0]\n",
    "    return ret.next\n"
   ]
  },
  {
   "cell_type": "code",
   "execution_count": 22,
   "metadata": {},
   "outputs": [
    {
     "name": "stdout",
     "output_type": "stream",
     "text": [
      "Test Case 1:\n",
      "\tResults: <ListNode(val=7, next=<ListNode(val=8, next=<ListNode(val=0, next=<ListNode(val=7, next=None)>)>)>)>\n",
      "\tExpected: <ListNode(val=7, next=<ListNode(val=8, next=<ListNode(val=0, next=<ListNode(val=7, next=None)>)>)>)>\n"
     ]
    }
   ],
   "source": [
    "\n",
    "test_case_1_l1 = make_listnode_from_list([7, 2, 4, 3])\n",
    "test_case_1_l2 = make_listnode_from_list([5, 6, 4])\n",
    "test_case_1_expected = make_listnode_from_list([7, 8, 0, 7])\n",
    "test_testcase(1,\n",
    "              test_case_1_l1,\n",
    "              test_case_1_l2,\n",
    "              test_case_1_expected)"
   ]
  }
 ],
 "metadata": {
  "kernelspec": {
   "display_name": "Python 3",
   "language": "python",
   "name": "python3"
  },
  "language_info": {
   "codemirror_mode": {
    "name": "ipython",
    "version": 3
   },
   "file_extension": ".py",
   "mimetype": "text/x-python",
   "name": "python",
   "nbconvert_exporter": "python",
   "pygments_lexer": "ipython3",
   "version": "3.11.9"
  }
 },
 "nbformat": 4,
 "nbformat_minor": 2
}
