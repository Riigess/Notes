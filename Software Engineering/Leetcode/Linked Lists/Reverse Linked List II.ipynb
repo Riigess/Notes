{
 "cells": [
  {
   "cell_type": "markdown",
   "metadata": {},
   "source": [
    "# Problem\n",
    "Given the `head` of a singly linked list and two integers `left` and `right` where `left <= right`, reverse the nodes of the list from position `left` to position `right`, and return the reversed list.\n",
    "\n",
    "## Example 1\n",
    "![](https://assets.leetcode.com/uploads/2021/02/19/rev2ex2.jpg)\n",
    "\n",
    "Input:\n",
    "- head = [1, 2, 3, 4, 5]\n",
    "- left = 2\n",
    "- right = 4\n",
    "\n",
    "Output: [1, 4, 3, 2, 5]\n",
    "\n",
    "## Example 2\n",
    "Input:\n",
    "- head = [5]\n",
    "- left = 1\n",
    "- right = 1\n",
    "\n",
    "Output: [5]"
   ]
  },
  {
   "cell_type": "code",
   "execution_count": 13,
   "metadata": {},
   "outputs": [],
   "source": [
    "class ListNode:\n",
    "    def __init__(self, val=0, next=None):\n",
    "        self.val = val\n",
    "        self.next = next\n",
    "    \n",
    "    def __eq__(self, other):\n",
    "        if other == None:\n",
    "            return False\n",
    "        if other.val != self.val:\n",
    "            return False\n",
    "        if self.next != None and other.next != None:\n",
    "            t = self.next\n",
    "            o = other.next\n",
    "            while t != None and o != None:\n",
    "                if t.val != o.val:\n",
    "                    return False\n",
    "                t = t.next\n",
    "                o = o.next\n",
    "            if (t == None and o != None) or (t != None and o == None):\n",
    "                return False\n",
    "        elif other != None:\n",
    "            if self.val != other.val:\n",
    "                return False\n",
    "        return True\n",
    "\n",
    "    def __str__(self):\n",
    "        return f\"<ListNode(val={self.val}, next={str(self.next)})>\"\n"
   ]
  },
  {
   "cell_type": "code",
   "execution_count": 14,
   "metadata": {},
   "outputs": [],
   "source": [
    "\n",
    "from typing import Optional\n",
    "\n",
    "class Solution:\n",
    "    def reverseBetween(self, head: Optional[ListNode], left: int, right: int) -> Optional[ListNode]:\n",
    "        a = []\n",
    "        cur = head\n",
    "        while cur != None:\n",
    "            a.append(cur.val)\n",
    "            cur = cur.next\n",
    "        mid = a[left-1:right]\n",
    "        mid.reverse()\n",
    "        a = a[:left-1] + mid + a[right:]\n",
    "        ret = ListNode()\n",
    "        cur = ret\n",
    "        while len(a) > 0:\n",
    "            cur.next = ListNode(val=a[0])\n",
    "            cur = cur.next\n",
    "            del a[0]\n",
    "        return ret.next\n"
   ]
  },
  {
   "cell_type": "code",
   "execution_count": 15,
   "metadata": {},
   "outputs": [],
   "source": [
    "\n",
    "def test_testcase(numb:int, head:ListNode, left:int, right:int, expected:ListNode):\n",
    "    sol = Solution()\n",
    "    ret = sol.reverseBetween(head, left, right)\n",
    "    print(f\"Test Case {numb}:\")\n",
    "    print(\"\\tResults:\", ret)\n",
    "    assert ret == expected\n",
    "    print(\"\\tExpected:\", expected)\n",
    "\n",
    "def make_linkedlist_from_list(a:list) -> ListNode:\n",
    "    root = ListNode()\n",
    "    cur = root\n",
    "    while len(a) > 0:\n",
    "        cur.next = ListNode(val=a[0])\n",
    "        del a[0]\n",
    "        cur = cur.next\n",
    "    return root.next\n"
   ]
  },
  {
   "cell_type": "code",
   "execution_count": 16,
   "metadata": {},
   "outputs": [
    {
     "name": "stdout",
     "output_type": "stream",
     "text": [
      "Test Case 1:\n",
      "\tResults: <ListNode(val=1, next=<ListNode(val=4, next=<ListNode(val=3, next=<ListNode(val=2, next=<ListNode(val=5, next=None)>)>)>)>)>\n",
      "\tExpected: <ListNode(val=1, next=<ListNode(val=4, next=<ListNode(val=3, next=<ListNode(val=2, next=<ListNode(val=5, next=None)>)>)>)>)>\n",
      "Test Case 2:\n",
      "\tResults: <ListNode(val=5, next=None)>\n",
      "\tExpected: <ListNode(val=5, next=None)>\n"
     ]
    }
   ],
   "source": [
    "\n",
    "test_case_1_head = make_linkedlist_from_list([1, 2, 3, 4, 5])\n",
    "test_case_1_left = 2\n",
    "test_case_1_right = 4\n",
    "test_case_1_expected = make_linkedlist_from_list([1, 4, 3, 2, 5])\n",
    "test_testcase(1,\n",
    "              test_case_1_head,\n",
    "              test_case_1_left,\n",
    "              test_case_1_right,\n",
    "              test_case_1_expected)\n",
    "\n",
    "test_case_2_head = make_linkedlist_from_list([5])\n",
    "test_case_2_left = 1\n",
    "test_case_2_right = 1\n",
    "test_case_2_expected = make_linkedlist_from_list([5])\n",
    "test_testcase(2,\n",
    "              test_case_2_head,\n",
    "              test_case_2_left,\n",
    "              test_case_2_right,\n",
    "              test_case_2_expected)"
   ]
  }
 ],
 "metadata": {
  "kernelspec": {
   "display_name": "Python 3",
   "language": "python",
   "name": "python3"
  },
  "language_info": {
   "codemirror_mode": {
    "name": "ipython",
    "version": 3
   },
   "file_extension": ".py",
   "mimetype": "text/x-python",
   "name": "python",
   "nbconvert_exporter": "python",
   "pygments_lexer": "ipython3",
   "version": "3.11.9"
  }
 },
 "nbformat": 4,
 "nbformat_minor": 2
}
