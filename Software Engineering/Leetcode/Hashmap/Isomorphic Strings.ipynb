{
 "cells": [
  {
   "cell_type": "markdown",
   "metadata": {},
   "source": [
    "# Problem\n",
    "Given two strings s and t, determine if they are isomorphic.\n",
    "\n",
    "Two strings s and t are isomorphic if the characters in s can be replaced to get t.\n",
    "\n",
    "All occurrences of a character must be replaced with another character while preserving the order of characters. No two characters may map to the same character, but a character may map to itself.\n",
    "\n",
    "## Example 1\n",
    "Input: s = \"egg\", t = \"add\"\n",
    "\n",
    "Output: true\n",
    "## Example 2\n",
    "Input: s = \"foo\", t = \"bar\"\n",
    "\n",
    "Output: false\n",
    "## Example 3\n",
    "Input: s = \"paper\", t = \"title\"\n",
    "\n",
    "Output: true"
   ]
  },
  {
   "cell_type": "code",
   "execution_count": 1,
   "metadata": {},
   "outputs": [],
   "source": [
    "class Solution:\n",
    "    def isIsomorphic(self, s: str, t: str) -> bool:\n",
    "        def iso(st:str) -> list[int]:\n",
    "            to_ret = []\n",
    "            lookup = {}\n",
    "            max = 0\n",
    "            for i,v in enumerate(st):\n",
    "                if v not in lookup:\n",
    "                    lookup.update({v:max})\n",
    "                    max += 1\n",
    "                to_ret.append(lookup[v])\n",
    "            return to_ret\n",
    "        def confirm(a:list[int], b:list[int]) -> bool:\n",
    "            if len(a) != len(b):\n",
    "                return False\n",
    "            for i,v in enumerate(a):\n",
    "                if v != b[i]:\n",
    "                    return False\n",
    "            return True\n",
    "        return confirm(iso(s), iso(t))\n"
   ]
  },
  {
   "cell_type": "code",
   "execution_count": 2,
   "metadata": {},
   "outputs": [],
   "source": [
    "\n",
    "def test_testcase(numb:int, s:str, t:str, expected:bool):\n",
    "    sol = Solution()\n",
    "    ret = sol.isIsomorphic(s, t)\n",
    "    print(f\"Test Case {numb}:\")\n",
    "    print(\"\\tResults:\", ret)\n",
    "    assert ret == expected\n",
    "    print(\"\\tExpected:\", expected)\n"
   ]
  },
  {
   "cell_type": "code",
   "execution_count": 3,
   "metadata": {},
   "outputs": [
    {
     "name": "stdout",
     "output_type": "stream",
     "text": [
      "Test Case 1:\n",
      "\tResults: True\n",
      "\tExpected: True\n",
      "Test Case 2:\n",
      "\tResults: False\n",
      "\tExpected: False\n",
      "Test Case 3:\n",
      "\tResults: True\n",
      "\tExpected: True\n"
     ]
    }
   ],
   "source": [
    "\n",
    "test_testcase(1,\n",
    "              \"egg\",\n",
    "              \"add\",\n",
    "              True)\n",
    "\n",
    "test_testcase(2,\n",
    "              \"foo\",\n",
    "              \"bar\",\n",
    "              False)\n",
    "\n",
    "test_testcase(3,\n",
    "              \"paper\",\n",
    "              \"title\",\n",
    "              True)"
   ]
  }
 ],
 "metadata": {
  "kernelspec": {
   "display_name": "Python 3",
   "language": "python",
   "name": "python3"
  },
  "language_info": {
   "codemirror_mode": {
    "name": "ipython",
    "version": 3
   },
   "file_extension": ".py",
   "mimetype": "text/x-python",
   "name": "python",
   "nbconvert_exporter": "python",
   "pygments_lexer": "ipython3",
   "version": "3.11.9"
  }
 },
 "nbformat": 4,
 "nbformat_minor": 2
}
