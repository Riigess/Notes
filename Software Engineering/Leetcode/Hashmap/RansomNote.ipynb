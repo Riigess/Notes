{
 "cells": [
  {
   "cell_type": "markdown",
   "metadata": {},
   "source": [
    "# Problem\n",
    "Given two strings ransomNote and magazine, return true if ransomNote can be constructed by using the letters from magazine and false otherwise.\n",
    "\n",
    "Each letter in magazine can only be used once in ransomNote.\n",
    "\n",
    "## Example 1\n",
    "Input: ransomNote = \"a\", magazine = \"b\"\n",
    "\n",
    "Output: false\n",
    "## Example 2\n",
    "Input: ransomNote = \"aa\", magazine = \"ab\"\n",
    "\n",
    "Output: false\n",
    "## Example 3\n",
    "Input: ransomNote = \"aa\", magazine = \"aab\"\n",
    "\n",
    "Output: true"
   ]
  },
  {
   "cell_type": "code",
   "execution_count": 2,
   "metadata": {},
   "outputs": [],
   "source": [
    "class Solution:\n",
    "    def canConstruct(self, ransomNote: str, magazine: str) -> bool:\n",
    "        def build_dict(s:str) -> dict:\n",
    "            d = {}\n",
    "            for _,v in enumerate(s):\n",
    "                if v in d:\n",
    "                    d[v] += 1\n",
    "                else:\n",
    "                    d.update({v: 1})\n",
    "            return d\n",
    "        ransomNote_dict = build_dict(ransomNote)\n",
    "        magazine_dict = build_dict(magazine)\n",
    "        for key in ransomNote_dict:\n",
    "            if key not in magazine_dict:\n",
    "                return False\n",
    "            if ransomNote_dict[key] > magazine_dict[key]:\n",
    "                return False\n",
    "        return True\n"
   ]
  },
  {
   "cell_type": "code",
   "execution_count": 3,
   "metadata": {},
   "outputs": [],
   "source": [
    "\n",
    "def test_testcase(numb:int, ransomNote:str, magazine:str, expected:bool):\n",
    "    sol = Solution()\n",
    "    ret = sol.canConstruct(ransomNote, magazine)\n",
    "    print(f\"Test Case {numb}:\")\n",
    "    print(\"\\tResults:\", ret)\n",
    "    assert ret == expected\n",
    "    print(\"\\tExpected:\", expected)\n"
   ]
  },
  {
   "cell_type": "code",
   "execution_count": 4,
   "metadata": {},
   "outputs": [
    {
     "name": "stdout",
     "output_type": "stream",
     "text": [
      "Test Case 1:\n",
      "\tResults: False\n",
      "\tExpected: False\n",
      "Test Case 2:\n",
      "\tResults: False\n",
      "\tExpected: False\n",
      "Test Case 3:\n",
      "\tResults: True\n",
      "\tExpected: True\n"
     ]
    }
   ],
   "source": [
    "\n",
    "test_testcase(1,\n",
    "              \"a\",\n",
    "              \"b\",\n",
    "              False)\n",
    "\n",
    "test_testcase(2,\n",
    "              \"aa\",\n",
    "              \"ab\",\n",
    "              False)\n",
    "\n",
    "test_testcase(3,\n",
    "              \"aa\",\n",
    "              \"aab\",\n",
    "              True)"
   ]
  }
 ],
 "metadata": {
  "kernelspec": {
   "display_name": "Python 3",
   "language": "python",
   "name": "python3"
  },
  "language_info": {
   "codemirror_mode": {
    "name": "ipython",
    "version": 3
   },
   "file_extension": ".py",
   "mimetype": "text/x-python",
   "name": "python",
   "nbconvert_exporter": "python",
   "pygments_lexer": "ipython3",
   "version": "3.11.9"
  }
 },
 "nbformat": 4,
 "nbformat_minor": 2
}
