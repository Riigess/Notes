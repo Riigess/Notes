{
 "cells": [
  {
   "cell_type": "markdown",
   "metadata": {},
   "source": [
    "# Problem\n",
    "Given two strings s and t, return true if t is an anagram of s, and false otherwise.\n",
    "\n",
    "An Anagram is a word or phrase formed by rearranging the letters of a different word or phrase, typically using all the original letters exactly once.\n",
    "\n",
    "## Example 1\n",
    "Input: s = \"anagram\", t = \"nagaram\"\n",
    "\n",
    "Output: true\n",
    "## Example 2\n",
    "Input: s = \"rat\", t = \"car\"\n",
    "\n",
    "Output: false"
   ]
  },
  {
   "cell_type": "code",
   "execution_count": 1,
   "metadata": {},
   "outputs": [],
   "source": [
    "class Solution:\n",
    "    def isAnagram(self, s: str, t: str) -> bool:\n",
    "        def convert_to_dict(st:str) -> dict:\n",
    "            d = {}\n",
    "            for i in st:\n",
    "                if i in d:\n",
    "                    d[i] += 1\n",
    "                else:\n",
    "                    d.update({i:1})\n",
    "            return d\n",
    "        def is_equivalent(d1:dict, d2:dict) -> bool:\n",
    "            keys_remaining_d2 = list(d2)\n",
    "            for key in d1:\n",
    "                if key not in d2:\n",
    "                    return False\n",
    "                if d1[key] != d2[key]:\n",
    "                    return False\n",
    "                idx = keys_remaining_d2.index(key)\n",
    "                del keys_remaining_d2[idx]\n",
    "            if len(keys_remaining_d2) > 0:\n",
    "                return False\n",
    "            return True\n",
    "        s_dict = convert_to_dict(s)\n",
    "        t_dict = convert_to_dict(t)\n",
    "        return is_equivalent(s_dict, t_dict)\n"
   ]
  },
  {
   "cell_type": "code",
   "execution_count": 2,
   "metadata": {},
   "outputs": [],
   "source": [
    "\n",
    "def test_testcase(numb:int, s:str, t:str, expected:bool):\n",
    "    sol = Solution()\n",
    "    ret = sol.isAnagram(s, t)\n",
    "    print(f\"Test Case {numb}:\")\n",
    "    print(\"\\tResults:\", ret)\n",
    "    assert ret == expected\n",
    "    print(\"\\tExpected:\", expected)\n"
   ]
  },
  {
   "cell_type": "code",
   "execution_count": 3,
   "metadata": {},
   "outputs": [
    {
     "name": "stdout",
     "output_type": "stream",
     "text": [
      "Test Case 1:\n",
      "\tResults: True\n",
      "\tExpected: True\n",
      "Test Case 2:\n",
      "\tResults: False\n",
      "\tExpected: False\n"
     ]
    }
   ],
   "source": [
    "\n",
    "test_testcase(1,\n",
    "              \"anagram\",\n",
    "              \"nagaram\",\n",
    "              True)\n",
    "\n",
    "test_testcase(2,\n",
    "              \"rat\",\n",
    "              \"car\",\n",
    "              False)"
   ]
  }
 ],
 "metadata": {
  "kernelspec": {
   "display_name": "Python 3",
   "language": "python",
   "name": "python3"
  },
  "language_info": {
   "codemirror_mode": {
    "name": "ipython",
    "version": 3
   },
   "file_extension": ".py",
   "mimetype": "text/x-python",
   "name": "python",
   "nbconvert_exporter": "python",
   "pygments_lexer": "ipython3",
   "version": "3.11.9"
  }
 },
 "nbformat": 4,
 "nbformat_minor": 2
}
