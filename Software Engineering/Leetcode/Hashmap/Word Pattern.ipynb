{
 "cells": [
  {
   "cell_type": "markdown",
   "metadata": {},
   "source": [
    "# Problem\n",
    "Given a pattern and a string s, find if s follows the same pattern.\n",
    "\n",
    "Here follow means a full match, such that there is a bijection between a letter in pattern and a non-empty word in s.\n",
    "\n",
    "## Example 1\n",
    "Input: pattern = \"abba\", s = \"dog cat cat dog\"\n",
    "\n",
    "Output: true\n",
    "## Example 2\n",
    "Input: pattern = \"abba\", s = \"dog cat cat fish\"\n",
    "\n",
    "Output: false\n",
    "## Example 3\n",
    "Input: pattern = \"aaaa\", s = \"dog cat cat dog\"\n",
    "\n",
    "Output: false"
   ]
  },
  {
   "cell_type": "code",
   "execution_count": 1,
   "metadata": {},
   "outputs": [],
   "source": [
    "class Solution:\n",
    "    def wordPattern(self, pattern: str, s: str) -> bool:\n",
    "        words = s.split(' ')\n",
    "        if len(words) != len(pattern):\n",
    "            return False\n",
    "        lookup_pat = {}\n",
    "        lookup_word = {}\n",
    "        for i,word in enumerate(words):\n",
    "            if pattern[i] not in lookup_pat and word not in lookup_word:\n",
    "                lookup_pat.update({pattern[i]:word})\n",
    "                lookup_word.update({word:pattern[i]})\n",
    "            elif word in lookup_word and pattern[i] not in lookup_pat:\n",
    "                return False\n",
    "            elif pattern[i] in lookup_pat and word not in lookup_word:\n",
    "                return False\n",
    "            \n",
    "            if pattern[i] != lookup_word[word]:\n",
    "                return False\n",
    "        return True\n"
   ]
  },
  {
   "cell_type": "code",
   "execution_count": 2,
   "metadata": {},
   "outputs": [],
   "source": [
    "\n",
    "def test_testcase(numb:int, pattern:str, s:str, expected:bool):\n",
    "    sol = Solution()\n",
    "    ret = sol.wordPattern(pattern, s)\n",
    "    print(f\"Test Case {numb}:\")\n",
    "    print(\"\\tResults:\", ret)\n",
    "    assert ret == expected\n",
    "    print(\"\\tExpected:\", expected)\n"
   ]
  },
  {
   "cell_type": "code",
   "execution_count": 3,
   "metadata": {},
   "outputs": [
    {
     "name": "stdout",
     "output_type": "stream",
     "text": [
      "Test Case 1:\n",
      "\tResults: True\n",
      "\tExpected: True\n",
      "Test Case 2:\n",
      "\tResults: False\n",
      "\tExpected: False\n",
      "Test Case 3:\n",
      "\tResults: False\n",
      "\tExpected: False\n",
      "Test Case 4:\n",
      "\tResults: False\n",
      "\tExpected: False\n"
     ]
    }
   ],
   "source": [
    "\n",
    "test_testcase(1,\n",
    "              \"abba\",\n",
    "              \"dog cat cat dog\",\n",
    "              True)\n",
    "\n",
    "test_testcase(2,\n",
    "              \"abba\",\n",
    "              \"dog cat cat fish\",\n",
    "              False)\n",
    "\n",
    "test_testcase(3,\n",
    "              \"aaaa\",\n",
    "              \"dog cat cat dog\",\n",
    "              False)\n",
    "\n",
    "test_testcase(4,\n",
    "              \"jquery\",\n",
    "              \"jquery\",\n",
    "              False)"
   ]
  }
 ],
 "metadata": {
  "kernelspec": {
   "display_name": "Python 3",
   "language": "python",
   "name": "python3"
  },
  "language_info": {
   "codemirror_mode": {
    "name": "ipython",
    "version": 3
   },
   "file_extension": ".py",
   "mimetype": "text/x-python",
   "name": "python",
   "nbconvert_exporter": "python",
   "pygments_lexer": "ipython3",
   "version": "3.11.9"
  }
 },
 "nbformat": 4,
 "nbformat_minor": 2
}
