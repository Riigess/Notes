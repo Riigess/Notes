{
 "cells": [
  {
   "cell_type": "markdown",
   "metadata": {},
   "source": [
    "# Problem\n",
    "Given an integer array nums and an integer k, return true if there are two distinct indices i and j in the array such that nums[i] == nums[j] and abs(i - j) <= k.\n",
    "\n",
    "## Example 1\n",
    "Input:\n",
    "- nums = [1,2,3,1]\n",
    "- k = 3\n",
    "\n",
    "Output: true\n",
    "## Example 2\n",
    "Input:\n",
    "- nums = [1,0,1,1]\n",
    "- k = 1\n",
    "\n",
    "Output: true\n",
    "## Example 3\n",
    "Input:\n",
    "- nums = [1,2,3,1,2,3]\n",
    "- k = 2\n",
    "\n",
    "Output: false"
   ]
  },
  {
   "cell_type": "code",
   "execution_count": 1,
   "metadata": {},
   "outputs": [],
   "source": [
    "class Solution:\n",
    "    def containsNearbyDuplicate(self, nums: list[int], k: int) -> bool:\n",
    "        lookup = {}\n",
    "        for i,v in enumerate(nums):\n",
    "            if str(v) not in lookup:\n",
    "                lookup.update({str(v): i})\n",
    "            else:\n",
    "                if abs(i - lookup[str(v)]) <= k:\n",
    "                    return True\n",
    "                lookup[str(v)] = i\n",
    "        return False\n"
   ]
  },
  {
   "cell_type": "code",
   "execution_count": 2,
   "metadata": {},
   "outputs": [],
   "source": [
    "\n",
    "def test_testcase(numb:int, nums:list[int], k:int, expected:bool):\n",
    "    sol = Solution()\n",
    "    ret = sol.containsNearbyDuplicate(nums, k)\n",
    "    print(f\"Test Case {numb}:\")\n",
    "    print(\"\\tResults:\", ret)\n",
    "    assert ret == expected\n",
    "    print(\"\\tExpected:\", expected)\n"
   ]
  },
  {
   "cell_type": "code",
   "execution_count": 3,
   "metadata": {},
   "outputs": [
    {
     "name": "stdout",
     "output_type": "stream",
     "text": [
      "Test Case 1:\n",
      "\tResults: True\n",
      "\tExpected: True\n",
      "Test Case 2:\n",
      "\tResults: True\n",
      "\tExpected: True\n",
      "Test Case 3:\n",
      "\tResults: False\n",
      "\tExpected: False\n"
     ]
    }
   ],
   "source": [
    "\n",
    "test_case_1_nums = [1, 2, 3, 1]\n",
    "test_case_1_k = 3\n",
    "test_case_1_expected = True\n",
    "test_testcase(1,\n",
    "              test_case_1_nums,\n",
    "              test_case_1_k,\n",
    "              test_case_1_expected)\n",
    "\n",
    "test_case_2_nums = [1, 0, 1, 1]\n",
    "test_case_2_k = 1\n",
    "test_case_2_expected = True\n",
    "test_testcase(2,\n",
    "              test_case_2_nums,\n",
    "              test_case_2_k,\n",
    "              test_case_2_expected)\n",
    "\n",
    "test_case_3_nums = [1, 2, 3, 1, 2, 3]\n",
    "test_case_3_k = 2\n",
    "test_case_3_expected = False\n",
    "test_testcase(3,\n",
    "              test_case_3_nums,\n",
    "              test_case_3_k,\n",
    "              test_case_3_expected)"
   ]
  }
 ],
 "metadata": {
  "kernelspec": {
   "display_name": "Python 3",
   "language": "python",
   "name": "python3"
  },
  "language_info": {
   "codemirror_mode": {
    "name": "ipython",
    "version": 3
   },
   "file_extension": ".py",
   "mimetype": "text/x-python",
   "name": "python",
   "nbconvert_exporter": "python",
   "pygments_lexer": "ipython3",
   "version": "3.11.9"
  }
 },
 "nbformat": 4,
 "nbformat_minor": 2
}
