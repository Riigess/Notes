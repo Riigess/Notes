{
 "cells": [
  {
   "cell_type": "markdown",
   "metadata": {},
   "source": [
    "# Problem\n",
    "Write an algorithm to determine if a number n is happy.\n",
    "\n",
    "A happy number is a number defined by the following process:\n",
    "\n",
    "Starting with any positive integer, replace the number by the sum of the squares of its digits.\n",
    "Repeat the process until the number equals 1 (where it will stay), or it loops endlessly in a cycle which does not include 1.\n",
    "Those numbers for which this process ends in 1 are happy.\n",
    "Return true if n is a happy number, and false if not.\n",
    "\n",
    "## Example 1\n",
    "Input: n = 19\n",
    "\n",
    "Output: true\n",
    "\n",
    "Explanation:\n",
    "\n",
    "    12 + 92 = 82\n",
    "\n",
    "    82 + 22 = 68\n",
    "\n",
    "    62 + 82 = 100\n",
    "\n",
    "    12 + 02 + 02 = 1\n",
    "\n",
    "## Example 2\n",
    "Input: n = 2\n",
    "\n",
    "Output: false"
   ]
  },
  {
   "cell_type": "code",
   "execution_count": null,
   "metadata": {},
   "outputs": [],
   "source": [
    "class Solution:\n",
    "    def isHappy(self, n: int) -> bool:\n",
    "        sq_lookup = {}\n",
    "        def sq(o:int) -> int:\n",
    "            if str(o) not in sq_lookup:\n",
    "                sq_lookup.update({str(o): pow(o,2)})\n",
    "            return sq_lookup[str(o)]\n",
    "        def calculate(s:str) -> str:\n",
    "            total = 0\n",
    "            for i in s:\n",
    "                total += sq(int(i))\n",
    "            return str(total)\n",
    "        numbs = str(n)\n",
    "        calculated = []\n",
    "        has_repeated = False\n",
    "        while not has_repeated:\n",
    "            numbs = calculate(numbs)\n",
    "            if numbs in calculated or int(numbs) == 1:\n",
    "                break\n",
    "            calculated.append(numbs)\n",
    "        return int(numbs) == 1\n"
   ]
  },
  {
   "cell_type": "code",
   "execution_count": null,
   "metadata": {},
   "outputs": [],
   "source": [
    "\n",
    "def test_testcase(numb:int, n:int, expected:bool):\n",
    "    sol = Solution()\n",
    "    ret = sol.isHappy(n)\n",
    "    print(f\"Test Case {numb}\")\n",
    "    print(\"\\tResults:\", ret)\n",
    "    assert ret == expected\n",
    "    print(\"\\tExpected:\", expected)\n"
   ]
  },
  {
   "cell_type": "code",
   "execution_count": null,
   "metadata": {},
   "outputs": [],
   "source": [
    "\n",
    "test_testcase(1,\n",
    "              19,\n",
    "              True)\n",
    "\n",
    "test_testcase(2,\n",
    "              2,\n",
    "              False)"
   ]
  }
 ],
 "metadata": {
  "language_info": {
   "name": "python"
  }
 },
 "nbformat": 4,
 "nbformat_minor": 2
}
