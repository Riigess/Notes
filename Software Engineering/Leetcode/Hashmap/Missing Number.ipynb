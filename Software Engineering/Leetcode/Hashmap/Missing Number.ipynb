{
 "cells": [
  {
   "cell_type": "markdown",
   "metadata": {},
   "source": [
    "# Problem\n",
    "Given an array nums containing n distinct numbers in the range [0, n], return the only number in the range that is missing from the array.\n",
    "\n",
    "## Example 1\n",
    "Input: nums = [3,0,1]\n",
    "\n",
    "Output: 2\n",
    "\n",
    "Explanation: n = 3 since there are 3 numbers, so all numbers are in the range [0,3]. 2 is the missing number in the range since it does not appear in nums.\n",
    "## Example 2\n",
    "Input: nums = [0,1]\n",
    "\n",
    "Output: 2\n",
    "\n",
    "Explanation: n = 2 since there are 2 numbers, so all numbers are in the range [0,2]. 2 is the missing number in the range since it does not appear in nums.\n",
    "## Example 3\n",
    "Input: nums = [9,6,4,2,3,5,7,0,1]\n",
    "\n",
    "Output: 8\n",
    "\n",
    "Explanation: n = 9 since there are 9 numbers, so all numbers are in the range [0,9]. 8 is the missing number in the range since it does not appear in nums."
   ]
  },
  {
   "cell_type": "code",
   "execution_count": null,
   "metadata": {},
   "outputs": [],
   "source": [
    "#The way they're expecting you to solve the problem might lookup something like;\n",
    "# class Solution:\n",
    "#     def missingNumber(self, nums:list[int]) -> int:\n",
    "#         lookup = {}\n",
    "#         for i in range(len(nums) + 1):\n",
    "#             lookup.update({str(i):1})\n",
    "#         for i in range(len(nums)):\n",
    "#             del lookup[str(nums[i])]\n",
    "#         remaining = int(list(lookup)[0])\n",
    "#         return remaining"
   ]
  },
  {
   "cell_type": "code",
   "execution_count": 3,
   "metadata": {},
   "outputs": [],
   "source": [
    "class Solution:\n",
    "    def missingNumber(self, nums: list[int]) -> int:\n",
    "        len_nums = len(nums)\n",
    "        d_nums = len_nums * ((len_nums + 1) / 2)\n",
    "        sum_nums = sum(nums) #O(n) complexity\n",
    "        return int(abs(sum_nums - d_nums))"
   ]
  },
  {
   "cell_type": "code",
   "execution_count": 4,
   "metadata": {},
   "outputs": [],
   "source": [
    "def test_testcase(numb:int, nums:list[int], expected:int):\n",
    "    sol = Solution()\n",
    "    ret = sol.missingNumber(nums)\n",
    "    print(f\"Test Case {numb}:\")\n",
    "    print(\"\\tResults:\", ret)\n",
    "    assert ret == expected\n",
    "    print(\"\\tExpected:\", expected)"
   ]
  },
  {
   "cell_type": "code",
   "execution_count": 5,
   "metadata": {},
   "outputs": [
    {
     "name": "stdout",
     "output_type": "stream",
     "text": [
      "Test Case 1:\n",
      "\tResults: 0\n",
      "\tExpected: 0\n",
      "Test Case 2:\n",
      "\tResults: 8\n",
      "\tExpected: 8\n",
      "Test Case 3:\n",
      "\tResults: 2\n",
      "\tExpected: 2\n"
     ]
    }
   ],
   "source": [
    "test_testcase(1, [1, 2, 3], 0)\n",
    "test_testcase(2, [9, 6, 4, 2, 3, 5, 7, 0, 1], 8)\n",
    "test_testcase(3, [0, 1], 2)"
   ]
  }
 ],
 "metadata": {
  "kernelspec": {
   "display_name": "Python 3",
   "language": "python",
   "name": "python3"
  },
  "language_info": {
   "codemirror_mode": {
    "name": "ipython",
    "version": 3
   },
   "file_extension": ".py",
   "mimetype": "text/x-python",
   "name": "python",
   "nbconvert_exporter": "python",
   "pygments_lexer": "ipython3",
   "version": "3.11.9"
  }
 },
 "nbformat": 4,
 "nbformat_minor": 2
}
