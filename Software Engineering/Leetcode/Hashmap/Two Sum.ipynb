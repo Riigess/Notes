{
 "cells": [
  {
   "cell_type": "markdown",
   "metadata": {},
   "source": [
    "# Problem\n",
    "Given an array of integers nums and an integer target, return indices of the two numbers such that they add up to target.\n",
    "\n",
    "You may assume that each input would have exactly one solution, and you may not use the same element twice.\n",
    "\n",
    "You can return the answer in any order.\n",
    "\n",
    "## Example 1\n",
    "Input: nums = [2,7,11,15], target = 9\n",
    "\n",
    "Output: [0,1]\n",
    "\n",
    "Explanation: Because nums[0] + nums[1] == 9, we return [0, 1].\n",
    "## Example 2\n",
    "Input: nums = [3,2,4], target = 6\n",
    "\n",
    "Output: [1,2]\n",
    "## Example 3\n",
    "Input: nums = [3,3], target = 6\n",
    "\n",
    "Output: [0,1]"
   ]
  },
  {
   "cell_type": "code",
   "execution_count": 1,
   "metadata": {},
   "outputs": [],
   "source": [
    "class Solution:\n",
    "    def twoSum(self, nums: list[int], target: int) -> list[int]:\n",
    "        pair = {}\n",
    "        for i,v in enumerate(nums):\n",
    "            if str(v) not in pair:\n",
    "                pair.update({str(target - v):i})\n",
    "            else:\n",
    "                return [pair[str(v)], i]\n",
    "        return []\n"
   ]
  },
  {
   "cell_type": "code",
   "execution_count": 2,
   "metadata": {},
   "outputs": [],
   "source": [
    "\n",
    "def test_testcase(numb:int, nums:list[int], target:int, expected:list[int]):\n",
    "    sol = Solution()\n",
    "    ret = sol.twoSum(nums, target)\n",
    "    print(f\"Test Case {numb}:\")\n",
    "    print(\"\\tResults:\", ret)\n",
    "    assert ret == expected\n",
    "    print(\"\\tExpected:\", expected)\n"
   ]
  },
  {
   "cell_type": "code",
   "execution_count": 3,
   "metadata": {},
   "outputs": [
    {
     "name": "stdout",
     "output_type": "stream",
     "text": [
      "Test Case 1:\n",
      "\tResults: [0, 1]\n",
      "\tExpected: [0, 1]\n",
      "Test Case 2:\n",
      "\tResults: [1, 2]\n",
      "\tExpected: [1, 2]\n",
      "Test Case 3:\n",
      "\tResults: [0, 1]\n",
      "\tExpected: [0, 1]\n"
     ]
    }
   ],
   "source": [
    "\n",
    "test_testcase(1,\n",
    "              [2,7,11,15],\n",
    "              9,\n",
    "              [0,1])\n",
    "\n",
    "test_testcase(2,\n",
    "              [3,2,4],\n",
    "              6,\n",
    "              [1,2])\n",
    "\n",
    "test_testcase(3,\n",
    "              [3,3],\n",
    "              6,\n",
    "              [0,1])"
   ]
  }
 ],
 "metadata": {
  "kernelspec": {
   "display_name": "Python 3",
   "language": "python",
   "name": "python3"
  },
  "language_info": {
   "codemirror_mode": {
    "name": "ipython",
    "version": 3
   },
   "file_extension": ".py",
   "mimetype": "text/x-python",
   "name": "python",
   "nbconvert_exporter": "python",
   "pygments_lexer": "ipython3",
   "version": "3.11.9"
  }
 },
 "nbformat": 4,
 "nbformat_minor": 2
}
