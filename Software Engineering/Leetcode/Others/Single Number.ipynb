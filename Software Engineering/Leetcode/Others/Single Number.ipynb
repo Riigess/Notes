{
 "cells": [
  {
   "cell_type": "markdown",
   "metadata": {},
   "source": [
    "# Problem\n",
    "Given a non-empty array of integers `nums`, every element appears twice except for one. Find that single one.\n",
    "\n",
    "You must implement a solution with a linear runtime complexity and use only constant extra space.\n",
    "## Example 1\n",
    "\n",
    "Input: nums = [2,2,1]\n",
    "\n",
    "Output: 1\n",
    "## Example 2\n",
    "\n",
    "Input: nums = [4,1,2,1,2]\n",
    "\n",
    "Output: 4\n",
    "## Example 3\n",
    "\n",
    "Input: nums = [1]\n",
    "\n",
    "Output: 1"
   ]
  },
  {
   "cell_type": "code",
   "execution_count": 2,
   "metadata": {},
   "outputs": [],
   "source": [
    "class Solution:\n",
    "    def singleNumber(self, nums: list[int]) -> int:\n",
    "        remaining = []\n",
    "        for i in range(len(nums)):\n",
    "            if nums[i] not in remaining:\n",
    "                remaining.append(nums[i])\n",
    "            else: #nums[i] in remaining\n",
    "                del remaining[remaining.index(nums[i])]\n",
    "        return remaining[0]\n"
   ]
  },
  {
   "cell_type": "code",
   "execution_count": 3,
   "metadata": {},
   "outputs": [],
   "source": [
    "\n",
    "def test_testcase(numb:int, nums:list[int], expected:int):\n",
    "    sol = Solution()\n",
    "    ret = sol.singleNumber(nums)\n",
    "    print(f\"Test Case {numb}:\")\n",
    "    print(\"\\tResults:\", ret)\n",
    "    assert ret == expected\n",
    "    print(\"\\tExpected:\", expected)\n"
   ]
  },
  {
   "cell_type": "code",
   "execution_count": 4,
   "metadata": {},
   "outputs": [
    {
     "name": "stdout",
     "output_type": "stream",
     "text": [
      "Test Case 1:\n",
      "\tResults: 1\n",
      "\tExpected: 1\n",
      "Test Case 2:\n",
      "\tResults: 4\n",
      "\tExpected: 4\n"
     ]
    }
   ],
   "source": [
    "\n",
    "test_case_1_nums = [2, 2, 1]\n",
    "test_testcase(1,\n",
    "              test_case_1_nums,\n",
    "              1)\n",
    "\n",
    "test_case_2_nums = [2, 2, 3, 3, 4, 5, 5, 6, 6]\n",
    "test_testcase(2,\n",
    "              test_case_2_nums,\n",
    "              4)"
   ]
  }
 ],
 "metadata": {
  "kernelspec": {
   "display_name": "Python 3",
   "language": "python",
   "name": "python3"
  },
  "language_info": {
   "codemirror_mode": {
    "name": "ipython",
    "version": 3
   },
   "file_extension": ".py",
   "mimetype": "text/x-python",
   "name": "python",
   "nbconvert_exporter": "python",
   "pygments_lexer": "ipython3",
   "version": "3.11.9"
  }
 },
 "nbformat": 4,
 "nbformat_minor": 2
}
