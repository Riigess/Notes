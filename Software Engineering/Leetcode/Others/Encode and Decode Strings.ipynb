{
 "cells": [
  {
   "cell_type": "markdown",
   "metadata": {},
   "source": [
    "# Problem\n",
    "Design an algorithm to encode a list of strings to a single string. The encoded string is then decoded back to the original list of strings.\n",
    "\n",
    "Please implement `encode` and `decode`\n",
    "\n",
    "## Example 1\n",
    "Input: [\"neet\", \"code\", \"love\", \"you\"]\n",
    "\n",
    "Output: [\"neet\", \"code\", \"love\", \"you\"]\n",
    "\n",
    "## Example 2\n",
    "Input: [\"we\", \"say\", \":\", \"yes\"]\n",
    "\n",
    "Output: [\"we\", \"say\", \":\", \"yes\"]\n",
    "\n",
    "## Constraints\n",
    "- `0 <= strs.length < 100`\n",
    "- `0 <= strs[i].length < 200`\n",
    "- `strs[i]` contains only UTF-8 characters"
   ]
  },
  {
   "cell_type": "code",
   "execution_count": null,
   "metadata": {},
   "outputs": [],
   "source": [
    "class Solution:\n",
    "    def encode(self, strs: list[str]) -> str:\n",
    "        ret = \"\"\n",
    "        for st in strs:\n",
    "            i = len(st)\n",
    "            ret += f\"{i}#{st}\"\n",
    "        return ret\n",
    "    \n",
    "    def decode(self, s: str) -> list[str]:\n",
    "        res, i = [], 0\n",
    "\n",
    "        while i < len(s):\n",
    "            j = i\n",
    "            # Get 1 word + next word count\n",
    "            while s[j] != '#':\n",
    "                j += 1\n",
    "            # Get length of word, minus word count\n",
    "            length = int(s[i:j])\n",
    "            # shift to the right 1 so we can nix the letter count\n",
    "            res.append(s[j + 1 : j + 1 + length])\n",
    "            # Move the i (pointer)\n",
    "            i = j + 1 + length\n",
    "        return res\n"
   ]
  }
 ],
 "metadata": {
  "language_info": {
   "name": "python"
  }
 },
 "nbformat": 4,
 "nbformat_minor": 2
}
