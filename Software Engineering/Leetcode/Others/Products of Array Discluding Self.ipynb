{
 "cells": [
  {
   "cell_type": "code",
   "execution_count": 7,
   "metadata": {},
   "outputs": [],
   "source": [
    "class Solution:\n",
    "    def productExceptSelf(self, nums: list[int]) -> list[int]:\n",
    "        def product(a:list[int]) -> int:\n",
    "            t = 1\n",
    "            for i in a:\n",
    "                t *= i\n",
    "            return t\n",
    "        def single_arr(a:list[int]) -> list[int]:\n",
    "            ret = []\n",
    "            for i in range(len(a)):\n",
    "                if i == len(a) - 1:\n",
    "                    ret.append(a[:i])\n",
    "                else:\n",
    "                    ret.append(a[:i] + a[(i + 1):])\n",
    "            return ret\n",
    "        ret = single_arr(nums)\n",
    "        for i in range(len(ret)):\n",
    "            ret[i] = product(ret[i])\n",
    "        return ret\n"
   ]
  },
  {
   "cell_type": "code",
   "execution_count": 8,
   "metadata": {},
   "outputs": [],
   "source": [
    "\n",
    "def test_solution(input:list[int], expected:list[int], numb:int):\n",
    "    sol = Solution()\n",
    "    print(f\"Test Case {numb}:\")\n",
    "    ret = sol.productExceptSelf(input)\n",
    "    print(\"\\tOutput:\", ret)\n",
    "    assert ret == expected\n",
    "    print(\"\\tExpected:\", expected)\n"
   ]
  },
  {
   "cell_type": "code",
   "execution_count": 9,
   "metadata": {},
   "outputs": [
    {
     "name": "stdout",
     "output_type": "stream",
     "text": [
      "Test Case 1:\n",
      "\tOutput: [48, 24, 12, 8]\n",
      "\tExpected: [48, 24, 12, 8]\n",
      "Test Case 2:\n",
      "\tOutput: [0, -6, 0, 0, 0]\n",
      "\tExpected: [0, -6, 0, 0, 0]\n"
     ]
    }
   ],
   "source": [
    "\n",
    "test_case_1_in = [1, 2, 4, 6]\n",
    "test_case_1_exp = [48, 24, 12, 8]\n",
    "test_solution(test_case_1_in, test_case_1_exp, 1)\n",
    "\n",
    "test_case_2_in = [-1, 0, 1, 2, 3]\n",
    "test_case_2_exp = [0, -6, 0, 0, 0]\n",
    "test_solution(test_case_2_in, test_case_2_exp, 2)\n"
   ]
  }
 ],
 "metadata": {
  "kernelspec": {
   "display_name": "Python 3",
   "language": "python",
   "name": "python3"
  },
  "language_info": {
   "codemirror_mode": {
    "name": "ipython",
    "version": 3
   },
   "file_extension": ".py",
   "mimetype": "text/x-python",
   "name": "python",
   "nbconvert_exporter": "python",
   "pygments_lexer": "ipython3",
   "version": "3.11.9"
  }
 },
 "nbformat": 4,
 "nbformat_minor": 2
}
