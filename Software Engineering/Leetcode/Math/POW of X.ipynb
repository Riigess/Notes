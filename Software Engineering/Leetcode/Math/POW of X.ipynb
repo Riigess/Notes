{
 "cells": [
  {
   "cell_type": "markdown",
   "metadata": {},
   "source": [
    "# Problem\n",
    "Implement pow(x, n), which calculates x raised to the power n (i.e., xn).\n",
    "\n",
    "## Example 1\n",
    "Input: x = 2.00000, n = 10\n",
    "\n",
    "Output: 1024.00000\n",
    "## Example 2\n",
    "Input: x = 2.10000, n = 3\n",
    "\n",
    "Output: 9.26100\n",
    "## Example 3\n",
    "Input: x = 2.00000, n = -2\n",
    "\n",
    "Output: 0.25000\n",
    "\n",
    "Explanation: 2-2 = 1/22 = 1/4 = 0.25"
   ]
  },
  {
   "cell_type": "code",
   "execution_count": 3,
   "metadata": {},
   "outputs": [],
   "source": [
    "class Solution:\n",
    "    def myPow(self, x: float, n: int) -> float:\n",
    "        def helper(x, n):\n",
    "            if x == 0:\n",
    "                return 0\n",
    "            if n == 1:\n",
    "                return x\n",
    "            elif n == 0:\n",
    "                return 1\n",
    "            \n",
    "            result = helper(x * x, n // 2)\n",
    "            return x * result if n % 2 == 1 else result\n",
    "        \n",
    "        result = helper(x, abs(n))\n",
    "        return result if n >= 0 else (1 / result)\n"
   ]
  },
  {
   "cell_type": "code",
   "execution_count": 4,
   "metadata": {},
   "outputs": [],
   "source": [
    "\n",
    "def test_testcase(numb:int, x:float, n:int, expected:float):\n",
    "    sol = Solution()\n",
    "    ret = round(sol.myPow(x,n), 5)\n",
    "    print(f\"Test Case {numb}:\")\n",
    "    print(\"\\tResult:\", ret)\n",
    "    assert ret == expected\n",
    "    print(\"\\tExpected:\", expected)\n"
   ]
  },
  {
   "cell_type": "code",
   "execution_count": 5,
   "metadata": {},
   "outputs": [
    {
     "name": "stdout",
     "output_type": "stream",
     "text": [
      "Test Case 1:\n",
      "\tResult: 1024.0\n",
      "\tExpected: 1024.0\n",
      "Test Case 2:\n",
      "\tResult: 9.261\n",
      "\tExpected: 9.261\n",
      "Test Case 3:\n",
      "\tResult: 0.25\n",
      "\tExpected: 0.25\n"
     ]
    }
   ],
   "source": [
    "\n",
    "test_case_1_x = 2.0\n",
    "test_case_1_n = 10\n",
    "test_case_1_expected = 1024.0\n",
    "test_testcase(1,\n",
    "              test_case_1_x,\n",
    "              test_case_1_n,\n",
    "              test_case_1_expected)\n",
    "\n",
    "test_case_2_x = 2.1\n",
    "test_case_2_n = 3\n",
    "test_case_2_expected = 9.261\n",
    "test_testcase(2,\n",
    "              test_case_2_x,\n",
    "              test_case_2_n,\n",
    "              test_case_2_expected)\n",
    "\n",
    "test_case_3_x = 2.0\n",
    "test_case_3_n = -2\n",
    "test_case_3_expected = 0.25\n",
    "test_testcase(3,\n",
    "              test_case_3_x,\n",
    "              test_case_3_n,\n",
    "              test_case_3_expected)"
   ]
  }
 ],
 "metadata": {
  "kernelspec": {
   "display_name": "Python 3",
   "language": "python",
   "name": "python3"
  },
  "language_info": {
   "codemirror_mode": {
    "name": "ipython",
    "version": 3
   },
   "file_extension": ".py",
   "mimetype": "text/x-python",
   "name": "python",
   "nbconvert_exporter": "python",
   "pygments_lexer": "ipython3",
   "version": "3.11.9"
  }
 },
 "nbformat": 4,
 "nbformat_minor": 2
}
