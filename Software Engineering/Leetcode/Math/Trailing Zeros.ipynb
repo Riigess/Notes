{
 "cells": [
  {
   "cell_type": "markdown",
   "metadata": {},
   "source": [
    "# Problem\n",
    "Given an integer n, return the number of trailing zeroes in n!.\n",
    "\n",
    "Note that n! = n * (n - 1) * (n - 2) * ... * 3 * 2 * 1.\n",
    "\n",
    "## Example 1\n",
    "Input: n = 3\n",
    "\n",
    "Output: 0\n",
    "\n",
    "Explanation: 3! = 6, no trailing zero.\n",
    "## Example 2\n",
    "Input: n = 5\n",
    "\n",
    "Output: 1\n",
    "\n",
    "Explanation: 5! = 120, one trailing zero.\n",
    "## Example 3\n",
    "Input: n = 0\n",
    "\n",
    "Output: 0"
   ]
  },
  {
   "cell_type": "code",
   "execution_count": 2,
   "metadata": {},
   "outputs": [],
   "source": [
    "class Solution:\n",
    "    def trailingZeroes(self, n: int) -> int:\n",
    "        count = 0\n",
    "        remainder = n\n",
    "        while remainder > 1:\n",
    "            count += remainder // 5\n",
    "            remainder /= 5\n",
    "        return int(count)\n"
   ]
  },
  {
   "cell_type": "code",
   "execution_count": 3,
   "metadata": {},
   "outputs": [],
   "source": [
    "\n",
    "def test_testcase(numb:int, n:int, expected:int):\n",
    "    sol = Solution()\n",
    "    ret = sol.trailingZeroes(n)\n",
    "    print(f\"Test Case {numb}:\")\n",
    "    print(\"\\tResults:\", ret)\n",
    "    assert ret == expected\n",
    "    print(\"\\tExpected:\", expected)\n"
   ]
  },
  {
   "cell_type": "code",
   "execution_count": 4,
   "metadata": {},
   "outputs": [
    {
     "name": "stdout",
     "output_type": "stream",
     "text": [
      "Test Case 1:\n",
      "\tResults: 0\n",
      "\tExpected: 0\n",
      "Test Case 2:\n",
      "\tResults: 1\n",
      "\tExpected: 1\n",
      "Test Case 3:\n",
      "\tResults: 0\n",
      "\tExpected: 0\n",
      "Test Case 4:\n",
      "\tResults: 7\n",
      "\tExpected: 7\n"
     ]
    }
   ],
   "source": [
    "\n",
    "test_testcase(1, 3, 0)\n",
    "test_testcase(2, 5, 1)\n",
    "test_testcase(3, 0, 0)\n",
    "test_testcase(4, 30, 7)"
   ]
  }
 ],
 "metadata": {
  "kernelspec": {
   "display_name": "Python 3",
   "language": "python",
   "name": "python3"
  },
  "language_info": {
   "codemirror_mode": {
    "name": "ipython",
    "version": 3
   },
   "file_extension": ".py",
   "mimetype": "text/x-python",
   "name": "python",
   "nbconvert_exporter": "python",
   "pygments_lexer": "ipython3",
   "version": "3.11.9"
  }
 },
 "nbformat": 4,
 "nbformat_minor": 2
}
