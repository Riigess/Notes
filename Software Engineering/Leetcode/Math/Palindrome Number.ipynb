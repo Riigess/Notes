{
 "cells": [
  {
   "cell_type": "markdown",
   "metadata": {},
   "source": [
    "# Problem\n",
    "Given an integer x, return true if x is a palindrome, and false otherwise.\n",
    "\n",
    "## Example 1\n",
    "Input: x = 121\n",
    "\n",
    "Output: true\n",
    "\n",
    "Explanation: 121 reads as 121 from left to right and from right to left.\n",
    "## Example 2\n",
    "Input: x = -121\n",
    "\n",
    "Output: false\n",
    "\n",
    "Explanation: From left to right, it reads -121. From right to left, it becomes 121-. Therefore it is not a palindrome.\n",
    "## Example 3\n",
    "Input: x = 10\n",
    "\n",
    "Output: false\n",
    "\n",
    "Explanation: Reads 01 from right to left. Therefore it is not a palindrome."
   ]
  },
  {
   "cell_type": "code",
   "execution_count": 2,
   "metadata": {},
   "outputs": [],
   "source": [
    "class Solution:\n",
    "    def isPalindrome(self, x: int) -> bool:\n",
    "        x_str = str(x)\n",
    "        for i in range(len(x_str) // 2):\n",
    "            if x_str[i] != x_str[-i - 1]:\n",
    "                return False\n",
    "        return True\n"
   ]
  },
  {
   "cell_type": "code",
   "execution_count": 3,
   "metadata": {},
   "outputs": [],
   "source": [
    "\n",
    "def test_testcase(numb:int, x:int, expected:bool):\n",
    "    sol = Solution()\n",
    "    ret = sol.isPalindrome(x)\n",
    "    print(f\"Test Case {numb}:\")\n",
    "    print(\"\\tResults:\", ret)\n",
    "    assert ret == expected\n",
    "    print(\"\\tExpected:\", expected)\n"
   ]
  }
 ],
 "metadata": {
  "kernelspec": {
   "display_name": "Python 3",
   "language": "python",
   "name": "python3"
  },
  "language_info": {
   "codemirror_mode": {
    "name": "ipython",
    "version": 3
   },
   "file_extension": ".py",
   "mimetype": "text/x-python",
   "name": "python",
   "nbconvert_exporter": "python",
   "pygments_lexer": "ipython3",
   "version": "3.11.9"
  }
 },
 "nbformat": 4,
 "nbformat_minor": 2
}
