{
 "cells": [
  {
   "cell_type": "code",
   "execution_count": 2,
   "metadata": {},
   "outputs": [],
   "source": [
    "class Solution:\n",
    "    #Think of this as binary search...\n",
    "    def mySqrt(self, x: int) -> int:\n",
    "        left, right = 0, x\n",
    "        result = 0\n",
    "        while left <= right:\n",
    "            m = left + ((right - left) // 2)\n",
    "            if m * m > x:\n",
    "                right = m - 1\n",
    "            elif m * m < x:\n",
    "                left = m + 1\n",
    "                result = m\n",
    "            else:\n",
    "                return m\n",
    "        return result"
   ]
  },
  {
   "cell_type": "code",
   "execution_count": 3,
   "metadata": {},
   "outputs": [],
   "source": [
    "def test_testcase(numb:int, x:int, expected:int):\n",
    "    sol = Solution()\n",
    "    ret = sol.mySqrt(x)\n",
    "    print(f\"Test Case {numb}:\")\n",
    "    print(\"\\tResult:\", ret)\n",
    "    assert ret == expected\n",
    "    print(\"\\tExpected:\", expected)"
   ]
  },
  {
   "cell_type": "code",
   "execution_count": 4,
   "metadata": {},
   "outputs": [
    {
     "name": "stdout",
     "output_type": "stream",
     "text": [
      "Test Case 1:\n",
      "\tResult: 2\n",
      "\tExpected: 2\n",
      "Test Case 2:\n",
      "\tResult: 2\n",
      "\tExpected: 2\n",
      "Test Case 3:\n",
      "\tResult: 5\n",
      "\tExpected: 5\n"
     ]
    }
   ],
   "source": [
    "test_testcase(1, 4, 2)\n",
    "test_testcase(2, 8, 2)\n",
    "test_testcase(3, 28, 5)"
   ]
  }
 ],
 "metadata": {
  "kernelspec": {
   "display_name": "Python 3",
   "language": "python",
   "name": "python3"
  },
  "language_info": {
   "codemirror_mode": {
    "name": "ipython",
    "version": 3
   },
   "file_extension": ".py",
   "mimetype": "text/x-python",
   "name": "python",
   "nbconvert_exporter": "python",
   "pygments_lexer": "ipython3",
   "version": "3.11.9"
  }
 },
 "nbformat": 4,
 "nbformat_minor": 2
}
