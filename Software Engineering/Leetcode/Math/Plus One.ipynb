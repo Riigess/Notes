{
 "cells": [
  {
   "cell_type": "markdown",
   "metadata": {},
   "source": [
    "# Problem\n",
    "You are given a large integer represented as an integer array digits, where each digits[i] is the ith digit of the integer. The digits are ordered from most significant to least significant in left-to-right order. The large integer does not contain any leading 0's.\n",
    "\n",
    "Increment the large integer by one and return the resulting array of digits.\n",
    "\n",
    "## Example 1\n",
    "Input: digits = [1,2,3]\n",
    "\n",
    "Output: [1,2,4]\n",
    "\n",
    "Explanation:\n",
    "- The array represents the integer 123.\n",
    "- Incrementing by one gives 123 + 1 = 124.\n",
    "- Thus, the result should be [1,2,4].\n",
    "## Example 2\n",
    "Input: digits = [4,3,2,1]\n",
    "\n",
    "Output: [4,3,2,2]\n",
    "\n",
    "Explanation:\n",
    "- The array represents the integer 4321.\n",
    "- Incrementing by one gives 4321 + 1 = 4322.\n",
    "- Thus, the result should be [4,3,2,2].\n",
    "## Example 3\n",
    "Input: digits = [9]\n",
    "\n",
    "Output: [1,0]\n",
    "\n",
    "Explanation:\n",
    "- The array represents the integer 9.\n",
    "- Incrementing by one gives 9 + 1 = 10.\n",
    "- Thus, the result should be [1,0]."
   ]
  },
  {
   "cell_type": "code",
   "execution_count": 3,
   "metadata": {},
   "outputs": [],
   "source": [
    "class Solution:\n",
    "    def plusOne(self, digits: list[int]) -> list[int]:\n",
    "        d_str = map(str, digits)\n",
    "        d_int = int(''.join(d_str))\n",
    "        d_int += 1\n",
    "        return list(map(int, list(str(d_int))))\n"
   ]
  },
  {
   "cell_type": "code",
   "execution_count": 4,
   "metadata": {},
   "outputs": [],
   "source": [
    "\n",
    "def test_testcase(numb:int, digits:list[int], expected:list[int]):\n",
    "    sol = Solution()\n",
    "    ret = sol.plusOne(digits)\n",
    "    print(f\"Test Case {numb}:\")\n",
    "    print(\"\\tResults:\", ret)\n",
    "    assert ret == expected\n",
    "    print(\"\\tExpected:\", expected)\n"
   ]
  },
  {
   "cell_type": "code",
   "execution_count": 5,
   "metadata": {},
   "outputs": [
    {
     "name": "stdout",
     "output_type": "stream",
     "text": [
      "Test Case 1:\n",
      "\tResults: [1, 2, 4]\n",
      "\tExpected: [1, 2, 4]\n",
      "Test Case 2:\n",
      "\tResults: [4, 3, 2, 2]\n",
      "\tExpected: [4, 3, 2, 2]\n",
      "Test Case 3:\n",
      "\tResults: [1, 0]\n",
      "\tExpected: [1, 0]\n"
     ]
    }
   ],
   "source": [
    "\n",
    "test_case_1_digits = [1, 2, 3]\n",
    "test_case_1_expected = [1, 2, 4]\n",
    "test_testcase(1,\n",
    "              test_case_1_digits,\n",
    "              test_case_1_expected)\n",
    "\n",
    "test_case_2_digits = [4, 3, 2, 1]\n",
    "test_case_2_expected = [4, 3, 2, 2]\n",
    "test_testcase(2,\n",
    "              test_case_2_digits,\n",
    "              test_case_2_expected)\n",
    "\n",
    "test_case_3_digits = [9]\n",
    "test_case_3_expected = [1, 0]\n",
    "test_testcase(3,\n",
    "              test_case_3_digits,\n",
    "              test_case_3_expected)"
   ]
  }
 ],
 "metadata": {
  "kernelspec": {
   "display_name": "Python 3",
   "language": "python",
   "name": "python3"
  },
  "language_info": {
   "codemirror_mode": {
    "name": "ipython",
    "version": 3
   },
   "file_extension": ".py",
   "mimetype": "text/x-python",
   "name": "python",
   "nbconvert_exporter": "python",
   "pygments_lexer": "ipython3",
   "version": "3.11.9"
  }
 },
 "nbformat": 4,
 "nbformat_minor": 2
}
