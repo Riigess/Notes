{
 "cells": [
  {
   "cell_type": "markdown",
   "metadata": {},
   "source": [
    "# Problem\n",
    "Given a string s containing just the characters '(', ')', '{', '}', '[' and ']', determine if the input string is valid.\n",
    "\n",
    "An input string is valid if:\n",
    "- Open brackets must be closed by the same type of brackets.\n",
    "- Open brackets must be closed in the correct order.\n",
    "- Every close bracket has a corresponding open bracket of the same type.\n",
    "\n",
    "## Example 1\n",
    "Input: s = \"()\"\n",
    "\n",
    "Output: true\n",
    "## Example 2\n",
    "Input: s = \"()[]{}\"\n",
    "\n",
    "Output: true\n",
    "## Example 3\n",
    "Input: s = \"(]\"\n",
    "\n",
    "Output: false"
   ]
  },
  {
   "cell_type": "code",
   "execution_count": 3,
   "metadata": {},
   "outputs": [],
   "source": [
    "from collections import deque\n",
    "\n",
    "class Solution:\n",
    "    def isValid(self, s: str) -> bool:\n",
    "        def add(d:deque, st:str):\n",
    "            d.insert(len(d), st)\n",
    "        def pop(d:deque) -> str:\n",
    "            try:\n",
    "                return d.pop()\n",
    "            except Exception:\n",
    "                return \"\"\n",
    "        deq = deque()\n",
    "        for val in s:\n",
    "            if val == \"(\":\n",
    "                add(deq, \")\")\n",
    "            elif val == \"{\":\n",
    "                add(deq, \"}\")\n",
    "            elif val == \"[\":\n",
    "                add(deq, \"]\")\n",
    "            elif val == \")\":\n",
    "                if pop(deq) != \")\":\n",
    "                    return False\n",
    "            elif val == \"}\":\n",
    "                if pop(deq) != \"}\":\n",
    "                    return False\n",
    "            elif val == \"]\":\n",
    "                if pop(deq) != \"]\":\n",
    "                    return False\n",
    "            else:\n",
    "                return False\n",
    "        return len(deq) == 0\n"
   ]
  },
  {
   "cell_type": "code",
   "execution_count": 4,
   "metadata": {},
   "outputs": [],
   "source": [
    "\n",
    "def test_testcase(numb:int, s:str, expected:bool):\n",
    "    sol = Solution()\n",
    "    ret = sol.isValid(s)\n",
    "    print(f\"Test Case {numb}:\")\n",
    "    print(\"\\tResults:\", ret)\n",
    "    assert ret == expected\n",
    "    print(\"\\tExpected:\", expected)\n"
   ]
  },
  {
   "cell_type": "code",
   "execution_count": 5,
   "metadata": {},
   "outputs": [
    {
     "name": "stdout",
     "output_type": "stream",
     "text": [
      "Test Case 1:\n",
      "\tResults: True\n",
      "\tExpected: True\n",
      "Test Case 2:\n",
      "\tResults: True\n",
      "\tExpected: True\n",
      "Test Case 3:\n",
      "\tResults: False\n",
      "\tExpected: False\n",
      "Test Case 4:\n",
      "\tResults: False\n",
      "\tExpected: False\n"
     ]
    }
   ],
   "source": [
    "\n",
    "test_testcase(1,\n",
    "              \"()\",\n",
    "              True)\n",
    "\n",
    "test_testcase(2,\n",
    "              \"()[]{}\",\n",
    "              True)\n",
    "\n",
    "test_testcase(3,\n",
    "              \"(]\",\n",
    "              False)\n",
    "\n",
    "test_testcase(4,\n",
    "              \"((\",\n",
    "              False)"
   ]
  }
 ],
 "metadata": {
  "kernelspec": {
   "display_name": "Python 3",
   "language": "python",
   "name": "python3"
  },
  "language_info": {
   "codemirror_mode": {
    "name": "ipython",
    "version": 3
   },
   "file_extension": ".py",
   "mimetype": "text/x-python",
   "name": "python",
   "nbconvert_exporter": "python",
   "pygments_lexer": "ipython3",
   "version": "3.11.9"
  }
 },
 "nbformat": 4,
 "nbformat_minor": 2
}
