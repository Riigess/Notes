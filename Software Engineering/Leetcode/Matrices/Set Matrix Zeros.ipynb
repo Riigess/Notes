{
 "cells": [
  {
   "cell_type": "markdown",
   "metadata": {},
   "source": [
    "# Problem\n",
    "Given an m x n integer matrix matrix, if an element is 0, set its entire row and column to 0's.\n",
    "\n",
    "You must do it in place.\n",
    "## Example 1\n",
    "![](https://assets.leetcode.com/uploads/2020/08/17/mat1.jpg)\n",
    "\n",
    "Input: matrix = [[1,1,1],[1,0,1],[1,1,1]]\n",
    "\n",
    "Output: [[1,0,1],[0,0,0],[1,0,1]]\n",
    "## Example 2\n",
    "![](https://assets.leetcode.com/uploads/2020/08/17/mat2.jpg)\n",
    "\n",
    "Input: matrix = [[0,1,2,0],[3,4,5,2],[1,3,1,5]]\n",
    "\n",
    "Output: [[0,0,0,0],[0,4,5,0],[0,3,1,0]]"
   ]
  },
  {
   "cell_type": "code",
   "execution_count": 5,
   "metadata": {},
   "outputs": [],
   "source": [
    "class Solution:\n",
    "    def setZeroes(self, matrix: list[list[int]]) -> None:\n",
    "        to_update = set()\n",
    "        for i in range(len(matrix)):\n",
    "            for j in range(len(matrix[0])):\n",
    "                if matrix[i][j] == 0:\n",
    "                    for n in range(len(matrix)):\n",
    "                        to_update.add((n,j))\n",
    "                    for n in range(len(matrix[i])):\n",
    "                        to_update.add((i,n))\n",
    "        for v in to_update:\n",
    "            matrix[v[0]][v[1]] = 0\n"
   ]
  },
  {
   "cell_type": "code",
   "execution_count": 6,
   "metadata": {},
   "outputs": [],
   "source": [
    "\n",
    "def test_testcase(numb:int, matrix:list[list[int]], expected:list[list[int]]):\n",
    "    sol = Solution()\n",
    "    sol.setZeroes(matrix)\n",
    "    print(f\"Test Case {numb}:\")\n",
    "    print(\"\\tResults:\", matrix)\n",
    "    assert matrix == expected\n",
    "    print(\"\\tExpected:\", expected)\n"
   ]
  },
  {
   "cell_type": "code",
   "execution_count": 7,
   "metadata": {},
   "outputs": [
    {
     "name": "stdout",
     "output_type": "stream",
     "text": [
      "Test Case 1:\n",
      "\tResults: [[0, 0, 0, 0], [0, 4, 5, 0], [0, 3, 1, 0]]\n",
      "\tExpected: [[0, 0, 0, 0], [0, 4, 5, 0], [0, 3, 1, 0]]\n",
      "Test Case 2:\n",
      "\tResults: [[1, 0, 1], [0, 0, 0], [1, 0, 1]]\n",
      "\tExpected: [[1, 0, 1], [0, 0, 0], [1, 0, 1]]\n"
     ]
    }
   ],
   "source": [
    "\n",
    "test_case_1_matrix = [[0,1,2,0],[3,4,5,2],[1,3,1,5]]\n",
    "test_case_1_expected = [[0,0,0,0],[0,4,5,0],[0,3,1,0]]\n",
    "test_testcase(1,\n",
    "              test_case_1_matrix,\n",
    "              test_case_1_expected)\n",
    "\n",
    "test_case_2_matrix = [[1,1,1],[1,0,1],[1,1,1]]\n",
    "test_case_2_expected = [[1,0,1],[0,0,0],[1,0,1]]\n",
    "test_testcase(2,\n",
    "              test_case_2_matrix,\n",
    "              test_case_2_expected)"
   ]
  }
 ],
 "metadata": {
  "kernelspec": {
   "display_name": "Python 3",
   "language": "python",
   "name": "python3"
  },
  "language_info": {
   "codemirror_mode": {
    "name": "ipython",
    "version": 3
   },
   "file_extension": ".py",
   "mimetype": "text/x-python",
   "name": "python",
   "nbconvert_exporter": "python",
   "pygments_lexer": "ipython3",
   "version": "3.11.9"
  }
 },
 "nbformat": 4,
 "nbformat_minor": 2
}
