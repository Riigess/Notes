{
 "cells": [
  {
   "cell_type": "markdown",
   "metadata": {},
   "source": [
    "# Problem\n",
    "Given two strings s and t, return true if s is a subsequence of t, or false otherwise.\n",
    "\n",
    "A subsequence of a string is a new string that is formed from the original string by deleting some (can be none) of the characters without disturbing the relative positions of the remaining characters. (i.e., \"ace\" is a subsequence of \"abcde\" while \"aec\" is not).\n",
    "\n",
    "## Example 1\n",
    "Input: s = \"abc\", t = \"ahbgdc\"\n",
    "\n",
    "Output: true\n",
    "## Example 2\n",
    "Input: s = \"axc\", t = \"ahbgdc\"\n",
    "\n",
    "Output: false"
   ]
  },
  {
   "cell_type": "code",
   "execution_count": 3,
   "metadata": {},
   "outputs": [],
   "source": [
    "class Solution:\n",
    "    def isSubsequence(self, s: str, t: str) -> bool:\n",
    "        def lower_sub(st:str, tr:str) -> bool:\n",
    "            if len(st) == 0:\n",
    "                return True\n",
    "            try:\n",
    "                if tr.index(st[0]) > -1:\n",
    "                    tr_new = tr[tr.index(st[0]) + 1:]\n",
    "                    st_new = st[1:]\n",
    "                    return lower_sub(st_new, tr_new)\n",
    "            except Exception:\n",
    "                return False\n",
    "        return lower_sub(s,t)\n"
   ]
  },
  {
   "cell_type": "code",
   "execution_count": 4,
   "metadata": {},
   "outputs": [],
   "source": [
    "\n",
    "def test_testcase(numb:int, s:str, t:str, expected:bool):\n",
    "    sol = Solution()\n",
    "    ret = sol.isSubsequence(s, t)\n",
    "    print(f\"Test Case {numb}:\")\n",
    "    print(\"\\tResults:\", ret)\n",
    "    assert ret == expected\n",
    "    print(\"\\tExpected:\", expected)\n"
   ]
  },
  {
   "cell_type": "code",
   "execution_count": 5,
   "metadata": {},
   "outputs": [
    {
     "name": "stdout",
     "output_type": "stream",
     "text": [
      "Test Case 1:\n",
      "\tResults: True\n",
      "\tExpected: True\n",
      "Test Case 2:\n",
      "\tResults: False\n",
      "\tExpected: False\n",
      "Test Case 3:\n",
      "\tResults: False\n",
      "\tExpected: False\n"
     ]
    }
   ],
   "source": [
    "\n",
    "test_case_1_s = \"abc\"\n",
    "test_case_1_t = \"ahbgdc\"\n",
    "test_case_1_expected = True\n",
    "test_testcase(1,\n",
    "              test_case_1_s,\n",
    "              test_case_1_t,\n",
    "              test_case_1_expected)\n",
    "\n",
    "test_case_2_s = \"axc\"\n",
    "test_case_2_t = \"ahbgdc\"\n",
    "test_case_2_expected = False\n",
    "test_testcase(2,\n",
    "              test_case_2_s,\n",
    "              test_case_2_t,\n",
    "              test_case_2_expected)\n",
    "\n",
    "test_case_3_s = \"aaaaaa\"\n",
    "test_case_3_t = \"bbaaaa\"\n",
    "test_case_3_expected = False\n",
    "test_testcase(3,\n",
    "              test_case_3_s,\n",
    "              test_case_3_t,\n",
    "              test_case_3_expected)"
   ]
  }
 ],
 "metadata": {
  "kernelspec": {
   "display_name": "Python 3",
   "language": "python",
   "name": "python3"
  },
  "language_info": {
   "codemirror_mode": {
    "name": "ipython",
    "version": 3
   },
   "file_extension": ".py",
   "mimetype": "text/x-python",
   "name": "python",
   "nbconvert_exporter": "python",
   "pygments_lexer": "ipython3",
   "version": "3.11.9"
  }
 },
 "nbformat": 4,
 "nbformat_minor": 2
}
