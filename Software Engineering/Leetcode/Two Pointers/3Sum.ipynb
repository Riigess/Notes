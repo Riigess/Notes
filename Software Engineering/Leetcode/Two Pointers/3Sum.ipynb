{
 "cells": [
  {
   "cell_type": "markdown",
   "metadata": {},
   "source": [
    "# Problem\n",
    "\n",
    "Given an integer array nums, return all the triplets [nums[i], nums[j], nums[k]] such that i != j, i != k, and j != k, and nums[i] + nums[j] + nums[k] == 0.\n",
    "\n",
    "Notice that the solution set must not contain duplicate triplets.\n",
    "\n",
    "## Example 1\n",
    "Input: nums = [-1,0,1,2,-1,-4]\n",
    "\n",
    "Output: [[-1,-1,2],[-1,0,1]]\n",
    "\n",
    "Explanation: \n",
    "- nums[0] + nums[1] + nums[2] = (-1) + 0 + 1 = 0.\n",
    "- nums[1] + nums[2] + nums[4] = 0 + 1 + (-1) = 0.\n",
    "- nums[0] + nums[3] + nums[4] = (-1) + 2 + (-1) = 0.\n",
    "\n",
    "The distinct triplets are [-1,0,1] and [-1,-1,2]. Notice that the order of the output and the order of the triplets does not matter.\n",
    "## Example 2\n",
    "Input: nums = [0,1,1]\n",
    "\n",
    "Output: []\n",
    "\n",
    "Explanation: The only possible triplet does not sum up to 0.\n",
    "\n",
    "## Example 3\n",
    "Input: nums = [0,0,0]\n",
    "\n",
    "Output: [[0,0,0]]\n",
    "\n",
    "Explanation: The only possible triplet sums up to 0."
   ]
  },
  {
   "cell_type": "code",
   "execution_count": 8,
   "metadata": {},
   "outputs": [],
   "source": [
    "class Solution:\n",
    "    def threeSum(self, nums: list[int]) -> list[list[int]]:\n",
    "        nums.sort()\n",
    "        unique_triplets = set()\n",
    "        for i,v in enumerate(nums):\n",
    "            left, right = i + 1, len(nums) - 1\n",
    "            while left < right:\n",
    "                sum = nums[i] + nums[left] + nums[right]\n",
    "                if sum == 0:\n",
    "                    unique_triplets.add((nums[i], nums[left], nums[right]))\n",
    "                    left += 1\n",
    "                    right -= 1\n",
    "                elif sum > 0:\n",
    "                    right -= 1\n",
    "                else:\n",
    "                    left += 1\n",
    "        results = []\n",
    "        for res in unique_triplets:\n",
    "            results.append([res[0], res[1], res[2]]) #For the Leetcode solution, we can actually just use `return list(unique_triplets)` instead\n",
    "        return results\n"
   ]
  },
  {
   "cell_type": "code",
   "execution_count": 4,
   "metadata": {},
   "outputs": [],
   "source": [
    "\n",
    "def test_testcase(numbs:int, nums:list[int], expected:list[int]):\n",
    "    sol = Solution()\n",
    "    ret = sol.threeSum(nums)\n",
    "    print(f\"Test Case {numbs}:\")\n",
    "    print(\"\\tResults:\", ret)\n",
    "    assert ret == expected\n",
    "    print(\"\\tExpected:\", expected)\n"
   ]
  },
  {
   "cell_type": "code",
   "execution_count": 9,
   "metadata": {},
   "outputs": [
    {
     "name": "stdout",
     "output_type": "stream",
     "text": [
      "Test Case 1:\n",
      "\tResults: [[-1, 0, 1], [-1, -1, 2]]\n",
      "\tExpected: [[-1, 0, 1], [-1, -1, 2]]\n",
      "Test Case 2:\n",
      "\tResults: []\n",
      "\tExpected: []\n",
      "Test Case 3:\n",
      "\tResults: [[0, 0, 0]]\n",
      "\tExpected: [[0, 0, 0]]\n"
     ]
    }
   ],
   "source": [
    "\n",
    "test_testcase(1,\n",
    "              [-1,0,1,2,-1,-4],\n",
    "              [[-1, 0, 1], [-1, -1, 2]]) #This is a flipped order from Leetcode\n",
    "\n",
    "test_testcase(2,\n",
    "              [0, 1, 1],\n",
    "              [])\n",
    "\n",
    "test_testcase(3,\n",
    "              [0, 0, 0],\n",
    "              [[0, 0, 0]])"
   ]
  }
 ],
 "metadata": {
  "kernelspec": {
   "display_name": "Python 3",
   "language": "python",
   "name": "python3"
  },
  "language_info": {
   "codemirror_mode": {
    "name": "ipython",
    "version": 3
   },
   "file_extension": ".py",
   "mimetype": "text/x-python",
   "name": "python",
   "nbconvert_exporter": "python",
   "pygments_lexer": "ipython3",
   "version": "3.11.9"
  }
 },
 "nbformat": 4,
 "nbformat_minor": 2
}
