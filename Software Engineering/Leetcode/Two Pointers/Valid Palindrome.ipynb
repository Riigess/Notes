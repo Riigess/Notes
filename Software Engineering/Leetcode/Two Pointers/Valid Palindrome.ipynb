{
 "cells": [
  {
   "cell_type": "code",
   "execution_count": 1,
   "metadata": {},
   "outputs": [
    {
     "name": "stdout",
     "output_type": "stream",
     "text": [
      "Test Case 1:\n",
      "\tResults: True\n"
     ]
    },
    {
     "ename": "AssertionError",
     "evalue": "",
     "output_type": "error",
     "traceback": [
      "\u001b[0;31m---------------------------------------------------------------------------\u001b[0m",
      "\u001b[0;31mAssertionError\u001b[0m                            Traceback (most recent call last)",
      "Cell \u001b[0;32mIn[1], line 23\u001b[0m\n\u001b[1;32m     21\u001b[0m test_case_1_s \u001b[38;5;241m=\u001b[39m \u001b[38;5;124m\"\u001b[39m\u001b[38;5;124m\"\u001b[39m\n\u001b[1;32m     22\u001b[0m test_case_1_expected \u001b[38;5;241m=\u001b[39m \u001b[38;5;28;01mFalse\u001b[39;00m\n\u001b[0;32m---> 23\u001b[0m \u001b[43mtest_testcase\u001b[49m\u001b[43m(\u001b[49m\u001b[38;5;241;43m1\u001b[39;49m\u001b[43m,\u001b[49m\n\u001b[1;32m     24\u001b[0m \u001b[43m              \u001b[49m\u001b[43mtest_case_1_s\u001b[49m\u001b[43m,\u001b[49m\n\u001b[1;32m     25\u001b[0m \u001b[43m              \u001b[49m\u001b[43mtest_case_1_expected\u001b[49m\u001b[43m)\u001b[49m\n\u001b[1;32m     27\u001b[0m test_case_1_s \u001b[38;5;241m=\u001b[39m \u001b[38;5;124m\"\u001b[39m\u001b[38;5;124m\"\u001b[39m\n\u001b[1;32m     28\u001b[0m test_case_1_expected \u001b[38;5;241m=\u001b[39m \u001b[38;5;28;01mFalse\u001b[39;00m\n",
      "Cell \u001b[0;32mIn[1], line 18\u001b[0m, in \u001b[0;36mtest_testcase\u001b[0;34m(numb, s, expected)\u001b[0m\n\u001b[1;32m     16\u001b[0m \u001b[38;5;28mprint\u001b[39m(\u001b[38;5;124mf\u001b[39m\u001b[38;5;124m\"\u001b[39m\u001b[38;5;124mTest Case \u001b[39m\u001b[38;5;132;01m{\u001b[39;00mnumb\u001b[38;5;132;01m}\u001b[39;00m\u001b[38;5;124m:\u001b[39m\u001b[38;5;124m\"\u001b[39m)\n\u001b[1;32m     17\u001b[0m \u001b[38;5;28mprint\u001b[39m(\u001b[38;5;124m\"\u001b[39m\u001b[38;5;130;01m\\t\u001b[39;00m\u001b[38;5;124mResults:\u001b[39m\u001b[38;5;124m\"\u001b[39m, ret)\n\u001b[0;32m---> 18\u001b[0m \u001b[38;5;28;01massert\u001b[39;00m ret \u001b[38;5;241m==\u001b[39m expected\n\u001b[1;32m     19\u001b[0m \u001b[38;5;28mprint\u001b[39m(\u001b[38;5;124m\"\u001b[39m\u001b[38;5;130;01m\\t\u001b[39;00m\u001b[38;5;124mExpected:\u001b[39m\u001b[38;5;124m\"\u001b[39m, expected)\n",
      "\u001b[0;31mAssertionError\u001b[0m: "
     ]
    }
   ],
   "source": [
    "import re\n",
    "\n",
    "class Solution:\n",
    "    def isPalindrome(self, s: str) -> bool:\n",
    "        x = re.findall(\"[a-zA-Z0-9]+\", s.lower())\n",
    "        combined = ''.join(x)\n",
    "        for i in range(int(len(combined) / 2)):\n",
    "            print(combined[i], combined[-i-1])\n",
    "            if combined[i] != combined[- i - 1]:\n",
    "                return False\n",
    "        return True\n",
    "\n",
    "def test_testcase(numb:int, s:str, expected:bool):\n",
    "    sol = Solution()\n",
    "    ret = sol.isPalindrome(s)\n",
    "    print(f\"Test Case {numb}:\")\n",
    "    print(\"\\tResults:\", ret)\n",
    "    assert ret == expected\n",
    "    print(\"\\tExpected:\", expected)\n",
    "\n",
    "test_case_1_s = \"\"\n",
    "test_case_1_expected = False\n",
    "test_testcase(1,\n",
    "              test_case_1_s,\n",
    "              test_case_1_expected)\n",
    "\n",
    "test_case_1_s = \"\"\n",
    "test_case_1_expected = False\n",
    "test_testcase(1,\n",
    "              test_case_1_s,\n",
    "              test_case_1_expected)\n",
    "\n",
    "test_case_1_s = \"\"\n",
    "test_case_1_expected = False\n",
    "test_testcase(1,\n",
    "              test_case_1_s,\n",
    "              test_case_1_expected)"
   ]
  }
 ],
 "metadata": {
  "kernelspec": {
   "display_name": "Python 3",
   "language": "python",
   "name": "python3"
  },
  "language_info": {
   "codemirror_mode": {
    "name": "ipython",
    "version": 3
   },
   "file_extension": ".py",
   "mimetype": "text/x-python",
   "name": "python",
   "nbconvert_exporter": "python",
   "pygments_lexer": "ipython3",
   "version": "3.11.9"
  }
 },
 "nbformat": 4,
 "nbformat_minor": 2
}
