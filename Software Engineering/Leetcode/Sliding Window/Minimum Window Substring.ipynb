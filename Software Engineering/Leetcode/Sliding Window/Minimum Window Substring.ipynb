{
 "cells": [
  {
   "cell_type": "markdown",
   "metadata": {},
   "source": [
    "# Problem\n",
    "Given two strings s and t of lengths m and n respectively, return the minimum window \n",
    "substring\n",
    " of s such that every character in t (including duplicates) is included in the window. If there is no such substring, return the empty string \"\".\n",
    "\n",
    "The testcases will be generated such that the answer is unique.\n",
    "\n",
    "## Example 1\n",
    "Input: s = \"ADOBECODEBANC\", t = \"ABC\"\n",
    "\n",
    "Output: \"BANC\"\n",
    "\n",
    "Explanation: The minimum window substring \"BANC\" includes 'A', 'B', and 'C' from string t.\n",
    "## Example 2\n",
    "Input: s = \"a\", t = \"a\"\n",
    "\n",
    "Output: \"a\"\n",
    "\n",
    "Explanation: The entire string s is the minimum window.\n",
    "## Example 3\n",
    "Input: s = \"a\", t = \"aa\"\n",
    "\n",
    "Output: \"\"\n",
    "\n",
    "Explanation:\n",
    "- Both 'a's from t must be included in the window.\n",
    "- Since the largest window of s only has one 'a', return empty string."
   ]
  },
  {
   "cell_type": "code",
   "execution_count": 2,
   "metadata": {},
   "outputs": [],
   "source": [
    "class Solution:\n",
    "    def minWindow(self, s: str, t: str) -> str:\n",
    "        if t == \"\": return \"\"\n",
    "        countT, window = {}, {}\n",
    "\n",
    "        for c in t:\n",
    "            countT[c] = 1 + countT.get(c, 0)\n",
    "        \n",
    "        have, need = 0, len(countT) #Unique characters in string t\n",
    "        res, res_len = [-1, -1], float(\"inf\")\n",
    "        l = 0\n",
    "        for r in range(len(s)):\n",
    "            c = s[r]\n",
    "            window[c] = 1 + window.get(c, 0)\n",
    "\n",
    "            if c in countT and window[c] == countT[c]: #If we can satisfy the condition\n",
    "                have += 1\n",
    "            \n",
    "            while have == need:\n",
    "                #update our result\n",
    "                if r - l + 1 < res_len:\n",
    "                    res = [l, r]\n",
    "                    res_len = r - l + 1\n",
    "                # pop from left of window\n",
    "                window[s[l]] -= 1\n",
    "                #If we removed a character from the left and removed a character we needed\n",
    "                if s[l] in countT and window[s[l]] < countT[s[l]]:\n",
    "                    have -= 1\n",
    "                l += 1\n",
    "        l, r = res\n",
    "        return s[l : r + 1] if res_len != float(\"inf\") else \"\""
   ]
  },
  {
   "cell_type": "code",
   "execution_count": 3,
   "metadata": {},
   "outputs": [],
   "source": [
    "def test_testcase(numb:int, s:str, t:str, expected:str):\n",
    "    sol = Solution()\n",
    "    ret = sol.minWindow(s, t)\n",
    "    print(f\"Test Case {numb}:\")\n",
    "    print(\"\\tResults:\", ret)\n",
    "    assert ret == expected\n",
    "    print(\"\\tExpected:\", expected)"
   ]
  },
  {
   "cell_type": "code",
   "execution_count": 4,
   "metadata": {},
   "outputs": [
    {
     "name": "stdout",
     "output_type": "stream",
     "text": [
      "Test Case 1:\n",
      "\tResults: BANC\n",
      "\tExpected: BANC\n",
      "Test Case 2:\n",
      "\tResults: a\n",
      "\tExpected: a\n",
      "Test Case 3:\n",
      "\tResults: \n",
      "\tExpected: \n"
     ]
    }
   ],
   "source": [
    "test_testcase(1,\n",
    "              \"ADOBECODEBANC\",\n",
    "              \"ABC\",\n",
    "              \"BANC\")\n",
    "\n",
    "test_testcase(2,\n",
    "              \"a\",\n",
    "              \"a\",\n",
    "              \"a\")\n",
    "\n",
    "test_testcase(3,\n",
    "              \"a\",\n",
    "              \"aa\",\n",
    "              \"\")"
   ]
  }
 ],
 "metadata": {
  "kernelspec": {
   "display_name": "Python 3",
   "language": "python",
   "name": "python3"
  },
  "language_info": {
   "codemirror_mode": {
    "name": "ipython",
    "version": 3
   },
   "file_extension": ".py",
   "mimetype": "text/x-python",
   "name": "python",
   "nbconvert_exporter": "python",
   "pygments_lexer": "ipython3",
   "version": "3.11.9"
  }
 },
 "nbformat": 4,
 "nbformat_minor": 2
}
