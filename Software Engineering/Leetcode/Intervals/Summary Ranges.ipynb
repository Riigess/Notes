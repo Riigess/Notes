{
 "cells": [
  {
   "cell_type": "markdown",
   "metadata": {},
   "source": [
    "# Problem\n",
    "You are given a sorted unique integer array nums.\n",
    "\n",
    "A range [a,b] is the set of all integers from a to b (inclusive).\n",
    "\n",
    "Return the smallest sorted list of ranges that cover all the numbers in the array exactly. That is, each element of nums is covered by exactly one of the ranges, and there is no integer x such that x is in one of the ranges but not in nums.\n",
    "\n",
    "Each range [a,b] in the list should be output as:\n",
    "\n",
    "- \"a->b\" if a != b\n",
    "- \"a\" if a == b\n",
    "\n",
    "## Example 1\n",
    "Input: nums = [0,1,2,4,5,7]\n",
    "\n",
    "Output: [\"0->2\",\"4->5\",\"7\"]\n",
    "\n",
    "Explanation: The ranges are:\n",
    "- [0,2] --> \"0->2\"\n",
    "- [4,5] --> \"4->5\"\n",
    "- [7,7] --> \"7\"\n",
    "## Example 2\n",
    "Input: nums = [0,2,3,4,6,8,9]\n",
    "\n",
    "Output: [\"0\",\"2->4\",\"6\",\"8->9\"]\n",
    "\n",
    "Explanation: The ranges are:\n",
    "- [0,0] --> \"0\"\n",
    "- [2,4] --> \"2->4\"\n",
    "- [6,6] --> \"6\"\n",
    "- [8,9] --> \"8->9\""
   ]
  },
  {
   "cell_type": "code",
   "execution_count": 3,
   "metadata": {},
   "outputs": [],
   "source": [
    "class Solution:\n",
    "    def summaryRanges(self, nums: list[int]) -> list[str]:\n",
    "        sub_sequences = []\n",
    "        for i,v in enumerate(nums):\n",
    "            if len(sub_sequences) == 0:\n",
    "                sub_sequences.append([])\n",
    "            if len(sub_sequences[-1]) > 0:\n",
    "                if sub_sequences[-1][-1] + 1 == v:\n",
    "                    sub_sequences[-1].append(v)\n",
    "                else:\n",
    "                    sub_sequences.append([v])\n",
    "            else:\n",
    "                sub_sequences.append([v])\n",
    "        if len(sub_sequences) > 0:\n",
    "            del sub_sequences[0] #This is most likely of 0-length because of line 6 but I need it so it doesn't break things..\n",
    "        for i,sub in enumerate(sub_sequences):\n",
    "            if len(sub) > 1:\n",
    "                sub_sequences[i] = f\"{sub[0]}->{sub[-1]}\"\n",
    "            else:\n",
    "                sub_sequences[i] = str(sub[0])\n",
    "        return sub_sequences\n"
   ]
  },
  {
   "cell_type": "code",
   "execution_count": 4,
   "metadata": {},
   "outputs": [],
   "source": [
    "\n",
    "def test_testcase(numb:int, nums:list[int], expected:list[str]):\n",
    "    sol = Solution()\n",
    "    ret = sol.summaryRanges(nums)\n",
    "    print(f\"Test Case {numb}:\")\n",
    "    print(\"\\tResult:\", ret)\n",
    "    assert ret == expected\n",
    "    print(\"\\tExpected:\", expected)\n"
   ]
  },
  {
   "cell_type": "code",
   "execution_count": 5,
   "metadata": {},
   "outputs": [
    {
     "name": "stdout",
     "output_type": "stream",
     "text": [
      "Test Case 1:\n",
      "\tResult: ['0->2', '4->5', '7']\n",
      "\tExpected: ['0->2', '4->5', '7']\n",
      "Test Case 2:\n",
      "\tResult: ['0', '2->4', '6', '8->9']\n",
      "\tExpected: ['0', '2->4', '6', '8->9']\n",
      "Test Case 3:\n",
      "\tResult: []\n",
      "\tExpected: []\n"
     ]
    }
   ],
   "source": [
    "\n",
    "test_case_1_nums = [0, 1, 2, 4, 5, 7]\n",
    "test_case_1_expected = [\"0->2\", \"4->5\", \"7\"]\n",
    "test_testcase(1,\n",
    "              test_case_1_nums,\n",
    "              test_case_1_expected)\n",
    "\n",
    "test_case_2_nums = [0, 2, 3, 4, 6, 8, 9]\n",
    "test_case_2_expected = [\"0\", \"2->4\", \"6\", \"8->9\"]\n",
    "test_testcase(2,\n",
    "              test_case_2_nums,\n",
    "              test_case_2_expected)\n",
    "\n",
    "test_case_3_nums = []\n",
    "test_case_3_expected = []\n",
    "test_testcase(3,\n",
    "              test_case_3_nums,\n",
    "              test_case_3_expected)"
   ]
  }
 ],
 "metadata": {
  "kernelspec": {
   "display_name": "Python 3",
   "language": "python",
   "name": "python3"
  },
  "language_info": {
   "codemirror_mode": {
    "name": "ipython",
    "version": 3
   },
   "file_extension": ".py",
   "mimetype": "text/x-python",
   "name": "python",
   "nbconvert_exporter": "python",
   "pygments_lexer": "ipython3",
   "version": "3.11.9"
  }
 },
 "nbformat": 4,
 "nbformat_minor": 2
}
