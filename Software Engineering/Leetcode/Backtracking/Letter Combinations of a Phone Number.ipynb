{
 "cells": [
  {
   "cell_type": "markdown",
   "metadata": {},
   "source": [
    "# Problem\n",
    "Given a string containing digits from 2-9 inclusive, return all possible letter combinations that the number could represent. Return the answer in any order.\n",
    "\n",
    "A mapping of digits to letters (just like on the telephone buttons) is given below. Note that 1 does not map to any letters.\n",
    "\n",
    "![](https://assets.leetcode.com/uploads/2022/03/15/1200px-telephone-keypad2svg.png)\n",
    "\n",
    "## Example 1\n",
    "\n",
    "Input: digits = \"23\"\n",
    "\n",
    "Output: [\"ad\", \"ae\", \"af\", \"bd\", \"be\", \"bf\", \"cd\", \"ce\", \"cf\"]\n",
    "## Example 2\n",
    "\n",
    "Input: digits = \"\"\n",
    "\n",
    "Output: []\n",
    "## Example 3\n",
    "\n",
    "Input: digits = \"2\"\n",
    "\n",
    "Output: [\"a\", \"b\", \"c\"]"
   ]
  },
  {
   "cell_type": "code",
   "execution_count": 2,
   "metadata": {},
   "outputs": [],
   "source": [
    "class Solution:\n",
    "    def letterCombinations(self, digits: str) -> list[str]:\n",
    "        lookup = {\n",
    "            \"2\": [\"a\",\"b\",\"c\"],\n",
    "            \"3\": [\"d\",\"e\",\"f\"],\n",
    "            \"4\": [\"g\",\"h\",\"i\"],\n",
    "            \"5\": [\"j\",\"k\",\"l\"],\n",
    "            \"6\": [\"m\",\"n\",\"o\"],\n",
    "            \"7\": [\"p\",\"q\",\"r\",\"s\"],\n",
    "            \"8\": [\"t\",\"u\",\"v\"],\n",
    "            \"9\": [\"w\",\"x\",\"y\",\"z\"]\n",
    "        }\n",
    "        if len(digits) == 0:\n",
    "            return []\n",
    "        if len(digits) == 1:\n",
    "            return lookup[digits[0]]\n",
    "        ret = []\n",
    "        #For each new letter we want to return\n",
    "        for letter in lookup[digits[0]]:\n",
    "            for ltr in self.letterCombinations(digits[1:]):\n",
    "                ret.append(letter + ltr)\n",
    "        return ret\n"
   ]
  },
  {
   "cell_type": "code",
   "execution_count": 3,
   "metadata": {},
   "outputs": [],
   "source": [
    "\n",
    "def test_testcase(numb:int, digits:str, expected:list[str]):\n",
    "    sol = Solution()\n",
    "    ret = sol.letterCombinations(digits)\n",
    "    print(f\"Test Case {numb}:\")\n",
    "    print(\"\\tResults:\", ret)\n",
    "    assert ret == expected\n",
    "    print(\"\\tExpected:\", expected)\n"
   ]
  },
  {
   "cell_type": "code",
   "execution_count": 4,
   "metadata": {},
   "outputs": [
    {
     "name": "stdout",
     "output_type": "stream",
     "text": [
      "Test Case 1:\n",
      "\tResults: ['ad', 'ae', 'af', 'bd', 'be', 'bf', 'cd', 'ce', 'cf']\n",
      "\tExpected: ['ad', 'ae', 'af', 'bd', 'be', 'bf', 'cd', 'ce', 'cf']\n",
      "Test Case 2:\n",
      "\tResults: []\n",
      "\tExpected: []\n",
      "Test Case 3:\n",
      "\tResults: ['a', 'b', 'c']\n",
      "\tExpected: ['a', 'b', 'c']\n"
     ]
    }
   ],
   "source": [
    "\n",
    "test_case_1_digits = \"23\"\n",
    "test_case_1_expected = [\"ad\",\"ae\",\"af\",\"bd\",\"be\",\"bf\",\"cd\",\"ce\",\"cf\"]\n",
    "test_testcase(1,\n",
    "              test_case_1_digits,\n",
    "              test_case_1_expected)\n",
    "\n",
    "test_case_2_digits = \"\"\n",
    "test_case_2_expected = []\n",
    "test_testcase(2,\n",
    "              test_case_2_digits,\n",
    "              test_case_2_expected)\n",
    "\n",
    "test_case_3_digits = \"2\"\n",
    "test_case_3_expected = [\"a\", \"b\", \"c\"]\n",
    "test_testcase(3,\n",
    "              test_case_3_digits,\n",
    "              test_case_3_expected)"
   ]
  }
 ],
 "metadata": {
  "kernelspec": {
   "display_name": "Python 3",
   "language": "python",
   "name": "python3"
  },
  "language_info": {
   "codemirror_mode": {
    "name": "ipython",
    "version": 3
   },
   "file_extension": ".py",
   "mimetype": "text/x-python",
   "name": "python",
   "nbconvert_exporter": "python",
   "pygments_lexer": "ipython3",
   "version": "3.11.9"
  }
 },
 "nbformat": 4,
 "nbformat_minor": 2
}
