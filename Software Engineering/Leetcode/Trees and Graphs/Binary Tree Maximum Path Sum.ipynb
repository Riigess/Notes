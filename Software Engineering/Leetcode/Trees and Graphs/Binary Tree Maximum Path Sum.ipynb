{
 "cells": [
  {
   "cell_type": "markdown",
   "metadata": {},
   "source": [
    "# Problem\n",
    "A path in a binary tree is a sequence of nodes where each pair of adjacent nodes in the sequence has an edge connecting them. A node can only appear in the sequence at most once. Note that the path does not need to pass through the root.\n",
    "\n",
    "The path sum of a path is the sum of the node's values in the path.\n",
    "\n",
    "Given the root of a binary tree, return the maximum path sum of any non-empty path.\n",
    "\n",
    "## Example 1\n",
    "![](https://assets.leetcode.com/uploads/2020/10/13/exx1.jpg)\n",
    "\n",
    "Input: root = [1,2,3]\n",
    "\n",
    "Output: 6\n",
    "\n",
    "Explanation: The optimal path is 2 -> 1 -> 3 with a path sum of 2 + 1 + 3 = 6.\n",
    "## Example 2\n",
    "![](https://assets.leetcode.com/uploads/2020/10/13/exx2.jpg)\n",
    "\n",
    "Input: root = [-10,9,20,null,null,15,7]\n",
    "\n",
    "Output: 42\n",
    "\n",
    "Explanation: The optimal path is 15 -> 20 -> 7 with a path sum of 15 + 20 + 7 = 42."
   ]
  },
  {
   "cell_type": "code",
   "execution_count": 5,
   "metadata": {},
   "outputs": [],
   "source": [
    "class TreeNode:\n",
    "    def __init__(self, val=0, left=None, right=None):\n",
    "        self.val = val\n",
    "        self.left = left\n",
    "        self.right = right\n"
   ]
  },
  {
   "cell_type": "code",
   "execution_count": 6,
   "metadata": {},
   "outputs": [],
   "source": [
    "\n",
    "from typing import Optional\n",
    "\n",
    "class Solution:\n",
    "    def maxPathSum(self, root: Optional[TreeNode]) -> int:\n",
    "        ans = [root.val]\n",
    "        def DFS(root):\n",
    "            if root == None:\n",
    "                return 0\n",
    "            left_max = DFS(root.left)\n",
    "            right_max = DFS(root.right)\n",
    "            left_max = 0 if left_max < 0 else left_max\n",
    "            right_max = 0 if right_max < 0 else right_max\n",
    "            ans[0] = max(ans[0], root.val + left_max + right_max)\n",
    "            return root.val + max(left_max, right_max)\n",
    "        DFS(root)\n",
    "        return ans[0]\n"
   ]
  },
  {
   "cell_type": "code",
   "execution_count": 7,
   "metadata": {},
   "outputs": [],
   "source": [
    "\n",
    "def test_testcase(numb:int, root:TreeNode, expected:int):\n",
    "    sol = Solution()\n",
    "    ret = sol.maxPathSum(root)\n",
    "    print(f\"Test Case {numb}:\")\n",
    "    print(\"\\tResults:\", ret)\n",
    "    assert ret == expected\n",
    "    print(\"\\tExpected:\", expected)\n"
   ]
  },
  {
   "cell_type": "code",
   "execution_count": 8,
   "metadata": {},
   "outputs": [
    {
     "name": "stdout",
     "output_type": "stream",
     "text": [
      "Test Case 1:\n",
      "\tResults: 6\n",
      "\tExpected: 6\n",
      "Test Case 2:\n",
      "\tResults: 42\n",
      "\tExpected: 42\n"
     ]
    }
   ],
   "source": [
    "\n",
    "test_case_1_root = TreeNode(val=1,\n",
    "                            left=TreeNode(val=2),\n",
    "                            right=TreeNode(val=3))\n",
    "test_case_1_expected = 6\n",
    "test_testcase(1,\n",
    "              test_case_1_root,\n",
    "              test_case_1_expected)\n",
    "\n",
    "test_case_2_root = TreeNode(val=-10,\n",
    "                            left=TreeNode(val=9),\n",
    "                            right=TreeNode(val=20,\n",
    "                                           left=TreeNode(val=15),\n",
    "                                           right=TreeNode(val=7)))\n",
    "test_case_2_expected = 42\n",
    "test_testcase(2,\n",
    "              test_case_2_root,\n",
    "              test_case_2_expected)"
   ]
  }
 ],
 "metadata": {
  "kernelspec": {
   "display_name": "Python 3",
   "language": "python",
   "name": "python3"
  },
  "language_info": {
   "codemirror_mode": {
    "name": "ipython",
    "version": 3
   },
   "file_extension": ".py",
   "mimetype": "text/x-python",
   "name": "python",
   "nbconvert_exporter": "python",
   "pygments_lexer": "ipython3",
   "version": "3.11.9"
  }
 },
 "nbformat": 4,
 "nbformat_minor": 2
}
