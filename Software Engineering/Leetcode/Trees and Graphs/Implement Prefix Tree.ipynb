{
 "cells": [
  {
   "cell_type": "markdown",
   "metadata": {},
   "source": [
    "# Problem\n",
    "[Medium]\n",
    "\n",
    "A **prefix tree** (also known as a trie) is a tree data structure used to efficiently store and retrieve keys in a set of strings. Some applications of this data structure include auto-complete and spell checker systems.\n",
    "\n",
    "Implement the PrefixTree class:\n",
    "- `PrefixTree()` Initializes the prefix tree object\n",
    "- `void insert(String word)` Inserts the string `word` into the prefix tree\n",
    "- `boolean search(String word)` Returns `true` if the string `word` is in the prefix tree (i.e., ws inserted before), and `false` otherwise\n",
    "- `boolean startsWith(String prefix)` Returns `true` if there is a previously inserted string `word` that has the prefix `prefix`, and `false` otherwise\n",
    "\n",
    "## Example 1\n",
    "### Input\n",
    "- `[\"Trie\", \"insert\", \"dog\", \"search\", \"dog\", \"search\", \"do\", \"startsWith\", \"do\", \"insert\", \"do\", \"search\", \"do\"]`\n",
    "\n",
    "### Output\n",
    "- `[null, null, true, false, true, null, true]`\n",
    "\n",
    "### Explanation\n",
    "```\n",
    "PrefixTree prefixTree = new PrefixTree();\n",
    "prefixTree.insert(\"dog\");\n",
    "prefixTree.search(\"dog\");       // return true\n",
    "prefixTree.search(\"do\");        // return false\n",
    "prefixTree.startsWith(\"do\");    // return true\n",
    "prefixTree.insert(\"do\");\n",
    "prefixTree.search(\"do\");        // return true\n",
    "```"
   ]
  },
  {
   "cell_type": "code",
   "execution_count": 3,
   "metadata": {},
   "outputs": [],
   "source": [
    "class PrefixTreeNode:\n",
    "    def __init__(self):\n",
    "        self.children = [None] * 26\n",
    "        self.end = False"
   ]
  },
  {
   "cell_type": "code",
   "execution_count": 4,
   "metadata": {},
   "outputs": [],
   "source": [
    "class PrefixTree:\n",
    "    def __init__(self, c:str=\"\"):\n",
    "        self.root = PrefixTreeNode()\n",
    "\n",
    "    def insert(self, word: str) -> None:\n",
    "        curr = self.root\n",
    "        for c in word:\n",
    "            i = ord(c) - ord(\"a\")\n",
    "            if curr.children[i] == None:\n",
    "                curr.children[i] = PrefixTreeNode()\n",
    "            curr = curr.children[i]\n",
    "        curr.end = True\n",
    "\n",
    "    def search(self, word: str) -> bool:\n",
    "        curr = self.root\n",
    "        for c in word:\n",
    "            i = ord(c) - ord(\"a\")\n",
    "            if curr.children[i] == None:\n",
    "                return False\n",
    "            curr = curr.children[i]\n",
    "        return curr.end\n",
    "\n",
    "    def startsWith(self, prefix: str) -> bool:\n",
    "        curr = self.root\n",
    "        for c in prefix:\n",
    "            i = ord(c) - ord(\"a\")\n",
    "            if curr.children[i] == None:\n",
    "                return False\n",
    "            curr = curr.children[i]\n",
    "        return True"
   ]
  },
  {
   "cell_type": "code",
   "execution_count": 5,
   "metadata": {},
   "outputs": [],
   "source": [
    "def test_testcase_1():\n",
    "    pt = PrefixTree()\n",
    "    pt.insert(\"apple\")\n",
    "    assert pt.search(\"apple\") == True\n",
    "    assert pt.search(\"app\") == False\n",
    "    assert pt.startsWith(\"app\") == True\n",
    "    pt.insert(\"app\")\n",
    "    assert pt.search(\"app\") == True"
   ]
  }
 ],
 "metadata": {
  "kernelspec": {
   "display_name": "Python 3",
   "language": "python",
   "name": "python3"
  },
  "language_info": {
   "codemirror_mode": {
    "name": "ipython",
    "version": 3
   },
   "file_extension": ".py",
   "mimetype": "text/x-python",
   "name": "python",
   "nbconvert_exporter": "python",
   "pygments_lexer": "ipython3",
   "version": "3.11.9"
  }
 },
 "nbformat": 4,
 "nbformat_minor": 2
}
