{
 "cells": [
  {
   "cell_type": "code",
   "execution_count": 51,
   "metadata": {},
   "outputs": [
    {
     "name": "stdout",
     "output_type": "stream",
     "text": [
      "MOVES: 2\n",
      "RET: 3\n",
      "MOVES: 3\n",
      "RET-2: 4\n"
     ]
    }
   ],
   "source": [
    "def formatted_print_board(board:list[list[int]]):\n",
    "    for i in range(len(board)):\n",
    "        for j in range(len(board[i])):\n",
    "            print(f\"{board[i][j]}\", end=' ' if j != len(board[i]) - 1 else '\\n')\n",
    "\n",
    "from collections import deque\n",
    "\n",
    "class Solution:\n",
    "    def knightChessboard(self, board_size:int, start:tuple[int], end:tuple[int]) -> int:\n",
    "        # Cover our edge cases (if for what ever reason we have any)\n",
    "        if len(start) > 2:\n",
    "            return -1\n",
    "        if len(end) > 2:\n",
    "            return -1\n",
    "        if board_size < 2:\n",
    "            return -1\n",
    "        #Create the board\n",
    "        board = [[0 for j in range(board_size)] for i in range(board_size)]\n",
    "        #Add our location we want to get to\n",
    "        # board[start[0]][start[1]] = 1\n",
    "        board[end[0]][end[1]] = 1\n",
    "        rows, cols = len(board), len(board[0])\n",
    "        moves = 0\n",
    "\n",
    "        def is_inside(x, y, N):\n",
    "            return x < N and y < N and x > -1 and y > -1\n",
    "        \n",
    "        current_pos = start\n",
    "        q = deque()\n",
    "        q.append((start[0], start[1], 0))\n",
    "\n",
    "        visit = set()\n",
    "        visit.add(current_pos)\n",
    "\n",
    "        orient = [[2, 1], [2, -1], [1, 2], [1, -2], [-1, 2], [-1, -2], [-2, 1], [-2, -1]] #Knights can move about the board in an L-shape\n",
    "\n",
    "        while q:\n",
    "            row, col, moves = q.popleft()\n",
    "\n",
    "            for dr,dc in orient:\n",
    "                r,c = row + dr, col + dc\n",
    "                if is_inside(r, c, board_size) and board[r][c] != 1 and (r,c) not in visit:\n",
    "                    q.append((r,c,moves + 1))\n",
    "                    visit.add((r,c))\n",
    "                elif is_inside(r, c, board_size) and board[r][c] == 1:\n",
    "                    print(\"MOVES:\", moves)\n",
    "                    return moves + 1\n",
    "        print(\"Deque:\",q)\n",
    "        \n",
    "        # formatted_print_board(board)\n",
    "        return moves\n",
    "\n",
    "sol = Solution()\n",
    "ret = sol.knightChessboard(5, (0,1), (4, 4))\n",
    "print(\"RET:\", ret)\n",
    "assert ret == 3\n",
    "\n",
    "ret_2 = sol.knightChessboard(6, (0,0), (5,5))\n",
    "print(\"RET-2:\", ret_2)\n",
    "assert ret_2 == 4"
   ]
  }
 ],
 "metadata": {
  "kernelspec": {
   "display_name": "Python 3",
   "language": "python",
   "name": "python3"
  },
  "language_info": {
   "codemirror_mode": {
    "name": "ipython",
    "version": 3
   },
   "file_extension": ".py",
   "mimetype": "text/x-python",
   "name": "python",
   "nbconvert_exporter": "python",
   "pygments_lexer": "ipython3",
   "version": "3.11.9"
  }
 },
 "nbformat": 4,
 "nbformat_minor": 2
}
