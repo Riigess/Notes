{
 "cells": [
  {
   "cell_type": "markdown",
   "metadata": {},
   "source": [
    "# Problem\n",
    "Given the root of a binary tree, determine if it is a valid binary search tree (BST).\n",
    "\n",
    "A valid BST is defined as follows:\n",
    "- The left subtree of a node contains only nodes with keys less than the node's key.\n",
    "- The right subtree of a node contains only nodes with keys greater than the node's key.\n",
    "- Both the left and right subtrees must also be binary search trees.\n",
    "\n",
    "## Example 1\n",
    "![](https://assets.leetcode.com/uploads/2020/12/01/tree1.jpg)\n",
    "\n",
    "Input: root = [2, 1, 3]\n",
    "\n",
    "Output: True\n",
    "\n",
    "## Example2\n",
    "![](https://assets.leetcode.com/uploads/2020/12/01/tree2.jpg)\n",
    "\n",
    "Input: root = [5, 1, 4, null, null, 3, 6]\n",
    "\n",
    "Output: False\n",
    "\n",
    "Explanation: The root node's value is 5 but its right child's value is 4."
   ]
  },
  {
   "cell_type": "code",
   "execution_count": 5,
   "metadata": {},
   "outputs": [],
   "source": [
    "# Definition for a binary tree node.\n",
    "class TreeNode:\n",
    "    def __init__(self, val=0, left=None, right=None):\n",
    "        self.val = val\n",
    "        self.left = left\n",
    "        self.right = right\n",
    "    \n",
    "    def __str__(self):\n",
    "        return f\"<TreeNode(val={self.val},self.left={str(self.left)},right={str(self.right)})>\"\n",
    "    \n",
    "    def __eq__(self, other):\n",
    "        if other == None:\n",
    "            return False\n",
    "        if self.val != other.val:\n",
    "            return False\n",
    "        if self.left != None and other.left != None:\n",
    "            return self.left == other.left\n",
    "        if self.right != None and other.right != None:\n",
    "            return self.right == other.right\n",
    "        if self.val == other.val:\n",
    "            return True\n"
   ]
  },
  {
   "cell_type": "code",
   "execution_count": 6,
   "metadata": {},
   "outputs": [],
   "source": [
    "\n",
    "from typing import Optional\n",
    "\n",
    "class Solution:\n",
    "    def isValidBST(self, root: Optional[TreeNode]) -> bool:\n",
    "        def checker(root:TreeNode, left:int, right:int) -> bool:\n",
    "            if root.right == None and root.left == None:\n",
    "                return True\n",
    "            ret = False\n",
    "            if root.right != None:\n",
    "                if root.right.val > root.val and root.right.val < right:\n",
    "                    ret = checker(root.right, root.val, right)\n",
    "                else:\n",
    "                    return False\n",
    "            if root.left != None:\n",
    "                if root.left.val < root.val and root.left.val > left and (ret or root.right == None):\n",
    "                    ret = checker(root.left, left, root.val)\n",
    "                else:\n",
    "                    return False\n",
    "            return ret\n",
    "        return checker(root, float(\"-inf\"), float(\"inf\"))\n",
    "\n",
    "def test_testcase(numb:int, root:TreeNode, expected:bool):\n",
    "    sol = Solution()\n",
    "    ret = sol.isValidBST(root)\n",
    "    print(f\"Test Case {numb}:\")\n",
    "    print(\"\\tResult:\", ret)\n",
    "    assert ret == expected\n",
    "    print(\"\\tExpected:\", expected)\n"
   ]
  },
  {
   "cell_type": "code",
   "execution_count": 7,
   "metadata": {},
   "outputs": [
    {
     "name": "stdout",
     "output_type": "stream",
     "text": [
      "Test Case 1:\n",
      "\tResult: True\n",
      "\tExpected: True\n",
      "Test Case 2:\n",
      "\tResult: False\n",
      "\tExpected: False\n"
     ]
    }
   ],
   "source": [
    "\n",
    "test_case_1_root = TreeNode(val=2,\n",
    "                            left=TreeNode(val=1),\n",
    "                            right=TreeNode(val=3))\n",
    "test_case_1_out = True\n",
    "test_testcase(1,\n",
    "              test_case_1_root,\n",
    "              test_case_1_out)\n",
    "\n",
    "test_case_2_root = TreeNode(val=5,\n",
    "                            left=TreeNode(val=1),\n",
    "                            right=TreeNode(val=4,\n",
    "                                           left=TreeNode(val=3),\n",
    "                                           right=TreeNode(val=6)))\n",
    "test_case_2_out = False\n",
    "test_testcase(2,\n",
    "              test_case_2_root,\n",
    "              test_case_2_out)"
   ]
  }
 ],
 "metadata": {
  "kernelspec": {
   "display_name": "Python 3",
   "language": "python",
   "name": "python3"
  },
  "language_info": {
   "codemirror_mode": {
    "name": "ipython",
    "version": 3
   },
   "file_extension": ".py",
   "mimetype": "text/x-python",
   "name": "python",
   "nbconvert_exporter": "python",
   "pygments_lexer": "ipython3",
   "version": "3.11.9"
  }
 },
 "nbformat": 4,
 "nbformat_minor": 2
}
