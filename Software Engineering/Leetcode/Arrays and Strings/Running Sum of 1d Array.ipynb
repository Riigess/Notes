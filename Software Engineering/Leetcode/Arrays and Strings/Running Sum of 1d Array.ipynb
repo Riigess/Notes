{
 "cells": [
  {
   "cell_type": "markdown",
   "metadata": {},
   "source": [
    "# Problem\n",
    "Given an array `nums`. We define a running sum of an array as `runningSum[i] = sum(nums[0]…nums[i])`.\n",
    "\n",
    "Return the running sum of `nums`.\n",
    "\n",
    "## Example 1\n",
    "Input: nums = [1,2,3,4]\n",
    "\n",
    "Output: [1,3,6,10]\n",
    "\n",
    "Explanation: Running sum is obtained as follows: [1, 1+2, 1+2+3, 1+2+3+4].\n",
    "## Example 2\n",
    "Input: nums = [1,1,1,1,1]\n",
    "\n",
    "Output: [1,2,3,4,5]\n",
    "\n",
    "Explanation: Running sum is obtained as follows: [1, 1+1, 1+1+1, 1+1+1+1, 1+1+1+1+1].\n",
    "## Example 3\n",
    "Input: nums = [3,1,2,10,1]\n",
    "\n",
    "Output: [3,4,6,16,17]"
   ]
  },
  {
   "cell_type": "code",
   "execution_count": 2,
   "metadata": {},
   "outputs": [],
   "source": [
    "class Solution:\n",
    "    def runningSum(self, nums: list[int]) -> list[int]:\n",
    "        ret = []\n",
    "        total = 0\n",
    "        for i in range(len(nums)):\n",
    "            total += nums[i]\n",
    "            ret.append(total)\n",
    "        return ret"
   ]
  },
  {
   "cell_type": "code",
   "execution_count": 3,
   "metadata": {},
   "outputs": [],
   "source": [
    "def test_testcase(numb:int, nums:list[int], expected:list[int]):\n",
    "    sol = Solution()\n",
    "    ret = sol.runningSum(nums)\n",
    "    print(f\"Test Case {numb}:\")\n",
    "    print(\"\\tResults:\", ret)\n",
    "    assert ret == expected\n",
    "    print(\"\\tExpected:\", expected)"
   ]
  },
  {
   "cell_type": "code",
   "execution_count": 4,
   "metadata": {},
   "outputs": [
    {
     "name": "stdout",
     "output_type": "stream",
     "text": [
      "Test Case 1:\n",
      "\tResults: [1, 3, 6, 10]\n",
      "\tExpected: [1, 3, 6, 10]\n",
      "Test Case 2:\n",
      "\tResults: [1, 2, 3, 4, 5]\n",
      "\tExpected: [1, 2, 3, 4, 5]\n",
      "Test Case 3:\n",
      "\tResults: [3, 4, 6, 16, 17]\n",
      "\tExpected: [3, 4, 6, 16, 17]\n"
     ]
    }
   ],
   "source": [
    "test_case_1_nums = [1,2,3,4]\n",
    "test_case_1_expected = [1,3,6,10]\n",
    "test_testcase(1,\n",
    "              test_case_1_nums,\n",
    "              test_case_1_expected)\n",
    "\n",
    "test_case_2_nums = [1, 1, 1, 1, 1]\n",
    "test_case_2_expected = [1, 2, 3, 4, 5]\n",
    "test_testcase(2,\n",
    "              test_case_2_nums,\n",
    "              test_case_2_expected)\n",
    "\n",
    "test_case_3_nums = [3, 1, 2, 10, 1]\n",
    "test_case_3_expected = [3, 4, 6, 16, 17]\n",
    "test_testcase(3,\n",
    "              test_case_3_nums,\n",
    "              test_case_3_expected)"
   ]
  }
 ],
 "metadata": {
  "kernelspec": {
   "display_name": "Python 3",
   "language": "python",
   "name": "python3"
  },
  "language_info": {
   "codemirror_mode": {
    "name": "ipython",
    "version": 3
   },
   "file_extension": ".py",
   "mimetype": "text/x-python",
   "name": "python",
   "nbconvert_exporter": "python",
   "pygments_lexer": "ipython3",
   "version": "3.11.9"
  }
 },
 "nbformat": 4,
 "nbformat_minor": 2
}
