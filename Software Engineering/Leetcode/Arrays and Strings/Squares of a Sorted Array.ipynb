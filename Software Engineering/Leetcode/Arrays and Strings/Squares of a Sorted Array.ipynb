{
 "cells": [
  {
   "cell_type": "markdown",
   "metadata": {},
   "source": [
    "# Problem\n",
    "Given an integer array nums sorted in non-decreasing order, return an array of the squares of each number sorted in non-decreasing order.\n",
    "\n",
    "## Example 1\n",
    "Input: nums = [-4,-1,0,3,10]\n",
    "\n",
    "Output: [0,1,9,16,100]\n",
    "\n",
    "Explanation:\n",
    "- After squaring, the array becomes [16,1,0,9,100].\n",
    "- After sorting, it becomes [0,1,9,16,100].\n",
    "## Example 2\n",
    "Input: nums = [-7,-3,2,3,11]\n",
    "\n",
    "Output: [4,9,9,49,121]"
   ]
  },
  {
   "cell_type": "code",
   "execution_count": 1,
   "metadata": {},
   "outputs": [],
   "source": [
    "class Solution:\n",
    "    def sortedSquares(self, nums: list[int]) -> list[int]:\n",
    "        ret = []\n",
    "        for num in nums:\n",
    "            ret.append(num * num)\n",
    "        ret.sort()\n",
    "        return ret"
   ]
  },
  {
   "cell_type": "code",
   "execution_count": 2,
   "metadata": {},
   "outputs": [],
   "source": [
    "def test_testcase(numb:int, nums:list[int], expected:list[int]):\n",
    "    sol = Solution()\n",
    "    ret = sol.sortedSquares(nums)\n",
    "    print(f\"Test Case {numb}:\")\n",
    "    print(\"\\tResults:\", ret)\n",
    "    assert ret == expected\n",
    "    print(\"\\tExpected:\", expected)"
   ]
  },
  {
   "cell_type": "code",
   "execution_count": 3,
   "metadata": {},
   "outputs": [
    {
     "name": "stdout",
     "output_type": "stream",
     "text": [
      "Test Case 1:\n",
      "\tResults: [0, 1, 9, 16, 100]\n",
      "\tExpected: [0, 1, 9, 16, 100]\n",
      "Test Case 2:\n",
      "\tResults: [4, 9, 9, 49, 121]\n",
      "\tExpected: [4, 9, 9, 49, 121]\n"
     ]
    }
   ],
   "source": [
    "test_case_1_nums = [-4, -1, 0, 3, 10]\n",
    "test_case_1_expected = [0, 1, 9, 16, 100]\n",
    "test_testcase(1,\n",
    "              test_case_1_nums,\n",
    "              test_case_1_expected)\n",
    "\n",
    "test_case_2_nums = [-7,-3,2,3,11]\n",
    "test_case_2_expected = [4, 9, 9, 49, 121]\n",
    "test_testcase(2,\n",
    "              test_case_2_nums,\n",
    "              test_case_2_expected)"
   ]
  }
 ],
 "metadata": {
  "kernelspec": {
   "display_name": "Python 3",
   "language": "python",
   "name": "python3"
  },
  "language_info": {
   "codemirror_mode": {
    "name": "ipython",
    "version": 3
   },
   "file_extension": ".py",
   "mimetype": "text/x-python",
   "name": "python",
   "nbconvert_exporter": "python",
   "pygments_lexer": "ipython3",
   "version": "3.11.9"
  }
 },
 "nbformat": 4,
 "nbformat_minor": 2
}
