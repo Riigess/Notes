{
 "cells": [
  {
   "cell_type": "markdown",
   "metadata": {},
   "source": [
    "# Problem\n",
    "Given an integer array `nums`, return an array `answer` such that `answer[i]` is equal to the product of all the elements of `nums` except `nums[i]`.\n",
    "\n",
    "The product of any prefix or suffix of `nums` in guaranteed to fix in a 32-bit integer.\n",
    "\n",
    "You must write an algorithm that runs in `O(n)` time and without using the division operation.\n",
    "\n",
    "## Example 1\n",
    "Input: nums = [1, 2, 3, 4]\n",
    "\n",
    "Output: [24, 12, 8, 6]\n",
    "\n",
    "## Example 2\n",
    "Input: nums = [-1, 1, 0, -3, 3]\n",
    "\n",
    "Output: [0, 0, 9, 0, 0]\n",
    "\n",
    "## Constraints\n",
    "- `2 <= nums.length <= 10^5`\n",
    "- `-30 <= nums[i] <= 30`\n",
    "- The product of any prefix or suffix of `nums` is guaranteed to fit in a 32-bit integer\n"
   ]
  },
  {
   "cell_type": "code",
   "execution_count": 2,
   "metadata": {},
   "outputs": [
    {
     "name": "stdout",
     "output_type": "stream",
     "text": [
      "Test Case 1:\n",
      "\tResult: [24, 12, 8, 6]\n",
      "\tExpected: [24, 12, 8, 6]\n",
      "Test Case 2:\n",
      "\tResult: [0, 0, 9, 0, 0]\n",
      "\tExpected: [0, 0, 9, 0, 0]\n"
     ]
    }
   ],
   "source": [
    "class Solution:\n",
    "    def productExceptSelf(self, nums: list[int]) -> list[int]:\n",
    "        output = []\n",
    "        for i, v in enumerate(nums):\n",
    "            if i == 0:\n",
    "                output.append(v)\n",
    "            else:\n",
    "                output.append(v * output[-1])\n",
    "        product = 1\n",
    "        for i in range(len(nums) - 1, -1 , -1):\n",
    "            if i == 0:\n",
    "                output[i] = product\n",
    "            else:\n",
    "                output[i] = output[i - 1] * product\n",
    "                product *= nums[i]\n",
    "        return output\n",
    "\n",
    "def test_testcase(numb:int, nums:list[int], expected:list[int]):\n",
    "    sol = Solution()\n",
    "    ret = sol.productExceptSelf(nums)\n",
    "    print(f\"Test Case {numb}:\")\n",
    "    print(\"\\tResult:\", ret)\n",
    "    assert expected == ret\n",
    "    print(\"\\tExpected:\", expected)\n",
    "\n",
    "test_case_1 = [1, 2, 3, 4]\n",
    "test_case_1_expected = [24, 12, 8, 6]\n",
    "test_testcase(1, test_case_1, test_case_1_expected)\n",
    "\n",
    "test_case_2 = [-1, 1, 0, -3, 3]\n",
    "test_case_2_expected = [0, 0, 9, 0, 0]\n",
    "test_testcase(2, test_case_2, test_case_2_expected)"
   ]
  }
 ],
 "metadata": {
  "kernelspec": {
   "display_name": "Python 3",
   "language": "python",
   "name": "python3"
  },
  "language_info": {
   "codemirror_mode": {
    "name": "ipython",
    "version": 3
   },
   "file_extension": ".py",
   "mimetype": "text/x-python",
   "name": "python",
   "nbconvert_exporter": "python",
   "pygments_lexer": "ipython3",
   "version": "3.11.9"
  }
 },
 "nbformat": 4,
 "nbformat_minor": 2
}
