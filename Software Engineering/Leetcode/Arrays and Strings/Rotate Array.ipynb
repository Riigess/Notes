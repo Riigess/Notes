{
 "cells": [
  {
   "cell_type": "code",
   "execution_count": 1,
   "metadata": {},
   "outputs": [],
   "source": [
    "class Solution:\n",
    "    def rotate(self, nums: list[int], k: int) -> None:\n",
    "        \"\"\"\n",
    "        Do not return anything, modify nums in-place instead.\n",
    "        \"\"\"\n",
    "        for i in range(k % len(nums)):\n",
    "            temp = nums[-1]\n",
    "            for j in range(len(nums)):\n",
    "                temp_2 = nums[j]\n",
    "                nums[j] = temp\n",
    "                temp = temp_2"
   ]
  },
  {
   "cell_type": "code",
   "execution_count": 3,
   "metadata": {},
   "outputs": [
    {
     "name": "stdout",
     "output_type": "stream",
     "text": [
      "Test Case 1:\n",
      "\tTest Case: [1, 2, 3, 4, 5, 6, 7]\n",
      "\tResults: [5, 6, 7, 1, 2, 3, 4]\n",
      "Test Case 2:\n",
      "\tTest Case: [-1, -100, 3, 99]\n",
      "\tResults: [3, 99, -1, -100]\n",
      "Test Case 3:\n",
      "\tTest Case: [1, 2]\n",
      "\tResults: [2, 1]\n",
      "Test Case 4:\n",
      "\tTest Case: [1, 2]\n",
      "\tResults: [2, 1]\n"
     ]
    }
   ],
   "source": [
    "def test_testcase(case_numb:int, l:list[int], k:int, expected:list[int]):\n",
    "    orig_list = l.copy()\n",
    "    sol = Solution()\n",
    "    sol.rotate(l, k)\n",
    "    print(f\"Test Case {case_numb}:\")\n",
    "    assert l == expected\n",
    "    print(\"\\tTest Case:\", orig_list)\n",
    "    print(\"\\tResults:\", l)\n",
    "\n",
    "test_case_1_list = [1, 2, 3, 4, 5, 6, 7]\n",
    "test_case_1_k = 3\n",
    "test_case_1_expected = [5, 6, 7, 1, 2, 3, 4]\n",
    "test_testcase(1,\n",
    "              test_case_1_list,\n",
    "              test_case_1_k,\n",
    "              test_case_1_expected)\n",
    "\n",
    "test_case_2_list = [-1, -100, 3, 99]\n",
    "test_case_2_k = 2\n",
    "test_case_2_expected = [3, 99, -1, -100]\n",
    "test_testcase(2,\n",
    "              test_case_2_list,\n",
    "              test_case_2_k,\n",
    "              test_case_2_expected)\n",
    "\n",
    "test_case_3_list = [1, 2]\n",
    "test_case_3_k = 1\n",
    "test_case_3_expected = [2, 1]\n",
    "test_testcase(3,\n",
    "              test_case_3_list,\n",
    "              test_case_3_k,\n",
    "              test_case_3_expected)\n",
    "\n",
    "test_case_4_list = [1, 2]\n",
    "test_case_4_k = 5\n",
    "test_case_4_expected = test_case_3_expected\n",
    "test_testcase(4,\n",
    "              test_case_4_list,\n",
    "              test_case_4_k,\n",
    "              test_case_4_expected)"
   ]
  }
 ],
 "metadata": {
  "kernelspec": {
   "display_name": "Python 3",
   "language": "python",
   "name": "python3"
  },
  "language_info": {
   "codemirror_mode": {
    "name": "ipython",
    "version": 3
   },
   "file_extension": ".py",
   "mimetype": "text/x-python",
   "name": "python",
   "nbconvert_exporter": "python",
   "pygments_lexer": "ipython3",
   "version": "3.11.9"
  }
 },
 "nbformat": 4,
 "nbformat_minor": 2
}
