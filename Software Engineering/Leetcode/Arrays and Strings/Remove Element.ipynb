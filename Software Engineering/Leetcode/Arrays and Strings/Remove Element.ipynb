{
 "cells": [
  {
   "cell_type": "markdown",
   "metadata": {},
   "source": [
    "# Problem\n",
    "Given an integer array `nums` and an integer `val`, remove all occurances of `val` in `nums` in-place. The order of the elements may be changed. Then return the number of elements in `nums` which are not equal to `val`.\n",
    "\n",
    "## Solution\n",
    "- Create a variable, count, that starts with the length of nums\n",
    "- Iterate through the list of nums\n",
    "- While nums[i] is equal to val, and i is less than count\n",
    "    - move val to end of the list\n",
    "    - Delete the current position on the list\n",
    "    - Decrement count by 1\n",
    "- Return the remaining count\n",
    "\n",
    "### Big O\n",
    "This solution would be O(n) which would be the fastest runtime possible for this problemspace given that we need to iterate through a list and remove variables like this.\n",
    "\n",
    "### Potential Alternative Solutions\n",
    "- Using a Map or Dictionary\n",
    "    - We could create a Map or Dictionary typed variable that stores the location (list index) of each value\n",
    "    - this increases the time complexity given that we would have to iterate through nums and then iterate through the Map or Dictionary seeking (given O(1) this would be negligble but could take performance hits, may duplicate memory allocations, and have other negative impacts like needing to recreate this every time removeElement is called which could impose Garbage Collection concerns later on)\n"
   ]
  },
  {
   "cell_type": "code",
   "execution_count": 6,
   "metadata": {},
   "outputs": [],
   "source": [
    "class Solution:\n",
    "    def removeElement(self, nums: list[int], val: int) -> int:\n",
    "        count = len(nums)\n",
    "        for i in range(len(nums)):\n",
    "            while nums[i] == val and i < count:\n",
    "                nums.append(nums[i])\n",
    "                del nums[i]\n",
    "                count -= 1\n",
    "        return count"
   ]
  },
  {
   "cell_type": "markdown",
   "metadata": {},
   "source": [
    "## Testing\n",
    "Now we can test our solution.\n",
    "Given two test cases;\n",
    "- Test Case 1\n",
    "    - nums = [3, 2, 2, 3]\n",
    "    - val = 3\n",
    "\n",
    "- Test Case 2\n",
    "    - nums = [0, 1, 2, 2, 3, 0, 4, 2]\n",
    "    - val = 2\n",
    "\n",
    "We are expecting Test Case 1 to return `[2, 2]`, and Test Case 2 is expecting `[0, 1, 3, 0, 4]` so we are going to test that below."
   ]
  },
  {
   "cell_type": "code",
   "execution_count": 7,
   "metadata": {},
   "outputs": [
    {
     "name": "stdout",
     "output_type": "stream",
     "text": [
      "Test Case 1:\n",
      "\tCount: 2\n",
      "\tList: [2, 2, 3, 3]\n",
      "\tFinal List: [2, 2]\n",
      "Test Case 2:\n",
      "\tCount: 5\n",
      "\tList: [0, 1, 3, 0, 4, 2, 2, 2]\n",
      "\tFinal List: [0, 1, 3, 0, 4]\n"
     ]
    }
   ],
   "source": [
    "sol = Solution()\n",
    "\n",
    "test_case_1_list = [3,2,2,3]\n",
    "test_case_1_val = 3\n",
    "print(\"Test Case 1:\")\n",
    "count = sol.removeElement(test_case_1_list, test_case_1_val)\n",
    "print(\"\\tCount:\", count)\n",
    "print(\"\\tList:\", test_case_1_list)\n",
    "print(\"\\tFinal List:\", test_case_1_list[:count])\n",
    "assert test_case_1_list[:count] == [2,2]\n",
    "\n",
    "test_case_2_list = [0,1,2,2,3,0,4,2]\n",
    "test_case_2_val = 2\n",
    "count = sol.removeElement(test_case_2_list, test_case_2_val)\n",
    "print(\"Test Case 2:\")\n",
    "assert test_case_2_list[:count] == [0,1,3,0,4]\n",
    "print(\"\\tCount:\", count)\n",
    "print(\"\\tList:\", test_case_2_list)\n",
    "print(\"\\tFinal List:\", test_case_2_list[:count])"
   ]
  }
 ],
 "metadata": {
  "kernelspec": {
   "display_name": "Python 3",
   "language": "python",
   "name": "python3"
  },
  "language_info": {
   "codemirror_mode": {
    "name": "ipython",
    "version": 3
   },
   "file_extension": ".py",
   "mimetype": "text/x-python",
   "name": "python",
   "nbconvert_exporter": "python",
   "pygments_lexer": "ipython3",
   "version": "3.11.9"
  }
 },
 "nbformat": 4,
 "nbformat_minor": 2
}
