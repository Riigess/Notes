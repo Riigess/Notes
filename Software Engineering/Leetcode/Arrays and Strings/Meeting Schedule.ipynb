{
 "cells": [
  {
   "cell_type": "code",
   "execution_count": null,
   "metadata": {},
   "outputs": [],
   "source": [
    "class Interval:\n",
    "    def __init__(self, start, end):\n",
    "        self.start = start\n",
    "        self.end = end\n",
    "\n",
    "class Solution:\n",
    "    def canAttendMeetings(self, intervals:list[Interval]) -> bool:\n",
    "        for i in range(len(intervals) - 1):\n",
    "            a, b = intervals[i], intervals[i+1]\n",
    "            if a.start < b.start:\n",
    "                a, b = b, a\n",
    "            if a.start < b.end:\n",
    "                return False\n",
    "        return True\n",
    "\n",
    "def test_testcase(intervals:list[Interval], expected:bool, numb:int):\n",
    "    sol = Solution()\n",
    "    ret = sol.canAttendMeetings(intervals)\n",
    "    print(f\"Test Case {numb}:\")\n",
    "    print(\"\\tReturned:\", ret)\n",
    "    assert ret == expected\n",
    "    print(\"\\tExpected:\", expected)\n",
    "\n",
    "test_testcase_1 = [()]"
   ]
  }
 ],
 "metadata": {
  "language_info": {
   "name": "python"
  }
 },
 "nbformat": 4,
 "nbformat_minor": 2
}
