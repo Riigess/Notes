{
 "cells": [
  {
   "cell_type": "code",
   "execution_count": 8,
   "metadata": {},
   "outputs": [
    {
     "name": "stdout",
     "output_type": "stream",
     "text": [
      "Test Case 1:\n",
      "\tResult: 5\n",
      "\tExpected: 5\n",
      "Test Case 2:\n",
      "\tResult: 0\n",
      "\tExpected: 0\n",
      "Test Case 3:\n",
      "\tResult: 3\n",
      "\tExpected: 3\n",
      "Test Case 4:\n",
      "\tResult: 2\n",
      "\tExpected: 1\n"
     ]
    },
    {
     "ename": "AssertionError",
     "evalue": "",
     "output_type": "error",
     "traceback": [
      "\u001b[0;31m---------------------------------------------------------------------------\u001b[0m",
      "\u001b[0;31mAssertionError\u001b[0m                            Traceback (most recent call last)",
      "Cell \u001b[0;32mIn[8], line 36\u001b[0m\n\u001b[1;32m     34\u001b[0m test_case_4 \u001b[38;5;241m=\u001b[39m [\u001b[38;5;241m1\u001b[39m, \u001b[38;5;241m2\u001b[39m]\n\u001b[1;32m     35\u001b[0m test_case_4_expected \u001b[38;5;241m=\u001b[39m \u001b[38;5;241m1\u001b[39m\n\u001b[0;32m---> 36\u001b[0m \u001b[43mtest_testcase\u001b[49m\u001b[43m(\u001b[49m\u001b[38;5;241;43m4\u001b[39;49m\u001b[43m,\u001b[49m\u001b[43m \u001b[49m\u001b[43mtest_case_4\u001b[49m\u001b[43m,\u001b[49m\u001b[43m \u001b[49m\u001b[43mtest_case_4_expected\u001b[49m\u001b[43m)\u001b[49m\n",
      "Cell \u001b[0;32mIn[8], line 20\u001b[0m, in \u001b[0;36mtest_testcase\u001b[0;34m(case_numb, prices, expected)\u001b[0m\n\u001b[1;32m     18\u001b[0m \u001b[38;5;28mprint\u001b[39m(\u001b[38;5;124m\"\u001b[39m\u001b[38;5;130;01m\\t\u001b[39;00m\u001b[38;5;124mResult:\u001b[39m\u001b[38;5;124m\"\u001b[39m, ret)\n\u001b[1;32m     19\u001b[0m \u001b[38;5;28mprint\u001b[39m(\u001b[38;5;124m\"\u001b[39m\u001b[38;5;130;01m\\t\u001b[39;00m\u001b[38;5;124mExpected:\u001b[39m\u001b[38;5;124m\"\u001b[39m, expected)\n\u001b[0;32m---> 20\u001b[0m \u001b[38;5;28;01massert\u001b[39;00m ret \u001b[38;5;241m==\u001b[39m expected\n",
      "\u001b[0;31mAssertionError\u001b[0m: "
     ]
    }
   ],
   "source": [
    "class Solution:\n",
    "    def maxProfit(self, prices:list[int]) -> int:\n",
    "        lowest_day = 0\n",
    "        highest_day = 0\n",
    "        diff = 0\n",
    "        #This happens in O(n log n) time complexity, which fails test 199 because of len(prices) > 1000\n",
    "        for i in range(len(prices)):\n",
    "            for j in range(i + 1, len(prices)):\n",
    "                if prices[j] - prices[i] > diff:\n",
    "                    lowest_day = i\n",
    "                    highest_day = j + 1\n",
    "                    diff = prices[j] - prices[i]\n",
    "        return highest_day\n"
   ]
  },
  {
   "cell_type": "code",
   "execution_count": 9,
   "metadata": {},
   "outputs": [],
   "source": [
    "class Solution:\n",
    "    def maxProfit(self, prices:list[int]) -> int:\n",
    "        highest = -1\n",
    "        potent_high = highest\n",
    "        lowest = -1\n",
    "        potent_low = lowest\n",
    "        #So instead, we're going to try to write something with O(n) time complexity so we can reasonably pass test 199\n",
    "        for i in range(len(prices)):\n",
    "            if prices[i] > potent_high:\n",
    "                potent_high = prices[i]\n",
    "            if prices[i] < potent_low:\n",
    "                potent_high = prices[i]\n",
    "                potent_low = prices[i]\n",
    "            if i == 0:\n",
    "                potent_low = prices[i]\n",
    "            if potent_high - potent_low > highest - lowest:\n",
    "                highest = potent_high\n",
    "                lowest = potent_low\n",
    "        return highest - lowest"
   ]
  },
  {
   "cell_type": "code",
   "execution_count": 10,
   "metadata": {},
   "outputs": [
    {
     "name": "stdout",
     "output_type": "stream",
     "text": [
      "Test Case 1:\n",
      "\tResult: 5\n",
      "\tExpected: 5\n",
      "Test Case 2:\n",
      "\tResult: 0\n",
      "\tExpected: 0\n",
      "Test Case 3:\n",
      "\tResult: 3\n",
      "\tExpected: 3\n",
      "Test Case 4:\n",
      "\tResult: 1\n",
      "\tExpected: 1\n"
     ]
    }
   ],
   "source": [
    "\n",
    "def test_testcase(case_numb:int, prices:list[int], expected:int):\n",
    "    sol = Solution()\n",
    "    ret = sol.maxProfit(prices)\n",
    "    print(f\"Test Case {case_numb}:\")\n",
    "    print(\"\\tResult:\", ret)\n",
    "    print(\"\\tExpected:\", expected)\n",
    "    assert ret == expected\n",
    "\n",
    "test_case_1 = [7, 1, 5, 3, 6, 4]\n",
    "test_case_1_expected = 5\n",
    "test_testcase(1, test_case_1, test_case_1_expected)\n",
    "\n",
    "test_case_2 = [7, 6, 4, 3, 1]\n",
    "test_case_2_expected = 0\n",
    "test_testcase(2, test_case_2, test_case_2_expected)\n",
    "\n",
    "test_case_3 = [1, 2, 4]\n",
    "test_case_3_expected = 3\n",
    "test_testcase(3, test_case_3, test_case_3_expected)\n",
    "\n",
    "test_case_4 = [1, 2]\n",
    "test_case_4_expected = 1\n",
    "test_testcase(4, test_case_4, test_case_4_expected)"
   ]
  }
 ],
 "metadata": {
  "kernelspec": {
   "display_name": "Python 3",
   "language": "python",
   "name": "python3"
  },
  "language_info": {
   "codemirror_mode": {
    "name": "ipython",
    "version": 3
   },
   "file_extension": ".py",
   "mimetype": "text/x-python",
   "name": "python",
   "nbconvert_exporter": "python",
   "pygments_lexer": "ipython3",
   "version": "3.11.9"
  }
 },
 "nbformat": 4,
 "nbformat_minor": 2
}
