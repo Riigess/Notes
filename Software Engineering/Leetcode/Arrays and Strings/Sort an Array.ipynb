{
 "cells": [
  {
   "cell_type": "code",
   "execution_count": null,
   "metadata": {},
   "outputs": [],
   "source": [
    "class Solution:\n",
    "    def sortArray(self, nums: List[int]) -> List[int]:\n",
    "        def heapify(arr, n, i):\n",
    "            largest = i\n",
    "            l,r = (2*i)+1, (2*i)+2\n",
    "            if l < n and arr[i] < arr[l]:\n",
    "                largest = l\n",
    "            if r < n and arr[largest] < arr[r]:\n",
    "                largest = r\n",
    "            if largest != i:\n",
    "                arr[i], arr[largest] = arr[largest], arr[i]\n",
    "                heapify(arr, n, largest)\n",
    "        n = len(nums)\n",
    "        for i in range(n // 2, -1, -1):\n",
    "            heapify(nums, n, i)\n",
    "        for i in range(n - 1, 0, -1):\n",
    "            nums[i], nums[0] = nums[0], nums[i]\n",
    "            heapify(nums, i, 0)\n",
    "        return nums\n",
    "\n",
    "def test_testcase(numb:int, nums:list[int], expected:list[int]):\n",
    "    sol = Solution()\n",
    "    ret = sol.sortArray(nums)\n",
    "    print(f\"Test Case {numb}:\")\n",
    "    print(\"\\tResults:\", ret)\n",
    "    assert ret == expected\n",
    "    print(\"\\tExpected:\", expected)\n",
    "\n",
    "test_case_1_nums = [5, 2, 3, 1]\n",
    "test_case_1_expected = [1, 2, 3, 5]\n",
    "test_testcase(1,\n",
    "              test_case_1_nums,\n",
    "              test_case_1_expected)\n",
    "\n",
    "test_case_2_nums = [5, 1, 1, 2, 0, 0]\n",
    "test_case_2_expected = [0, 0, 1, 1, 2, 5]\n",
    "test_testcase(2,\n",
    "              test_case_2_nums,\n",
    "              test_case_2_expected)"
   ]
  }
 ],
 "metadata": {
  "language_info": {
   "name": "python"
  }
 },
 "nbformat": 4,
 "nbformat_minor": 2
}
