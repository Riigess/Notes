{
 "cells": [
  {
   "cell_type": "markdown",
   "metadata": {},
   "source": [
    "# Problem\n",
    "You are given a 0-indexed arary of integers `nums` of length `n`. You are initially positioned at `nums[0]`.\n",
    "\n",
    "Each element `nums[i]` represents the maximum length of a forward jump from index `i`. In other words, if you are at `nums[i]`, you can jump to any `nums[i+j]` where:\n",
    "\n",
    "- `0 <= j <= nums[i]` and\n",
    "- `i + j < n`\n",
    "\n",
    "Return the minimum number of jumps to reach `nums[n-1]`. The test cases are generated such that you can reach `nums[n-1]`."
   ]
  },
  {
   "cell_type": "code",
   "execution_count": 1,
   "metadata": {},
   "outputs": [],
   "source": [
    "class Solution:\n",
    "    def jump(self, nums: list[int]) -> int:\n",
    "        jumps = 0\n",
    "        left = right = 0\n",
    "        while right < len(nums) - 1:\n",
    "            farthest = 0\n",
    "            for i in range(left, right + 1):\n",
    "                farthest = max(farthest, i + nums[i]) #Farthest we can jump or position in array (how far can we actually get?)\n",
    "            left = right + 1\n",
    "            right = farthest\n",
    "            jumps += 1\n",
    "        return jumps\n",
    "    "
   ]
  },
  {
   "cell_type": "code",
   "execution_count": 2,
   "metadata": {},
   "outputs": [],
   "source": [
    "def test_testcase(numb:int, nums:list[int], expected:int):\n",
    "    sol = Solution()\n",
    "    ret = sol.jump(nums)\n",
    "    print(f\"Test Case {numb}:\")\n",
    "    print(\"\\tResult:\", ret)\n",
    "    assert ret == expected\n",
    "    print(\"\\tExpected:\", expected)"
   ]
  },
  {
   "cell_type": "code",
   "execution_count": 3,
   "metadata": {},
   "outputs": [
    {
     "name": "stdout",
     "output_type": "stream",
     "text": [
      "Test Case 1:\n",
      "\tResult: 2\n",
      "\tExpected: 2\n",
      "Test Case 2:\n",
      "\tResult: 2\n",
      "\tExpected: 2\n"
     ]
    }
   ],
   "source": [
    "test_case_1 = [2, 3, 1, 1, 4]\n",
    "test_case_1_expected = 2\n",
    "test_testcase(1, test_case_1, test_case_1_expected)\n",
    "\n",
    "test_case_2 = [2, 3, 0, 1, 4]\n",
    "test_case_2_expected = 2\n",
    "test_testcase(2, test_case_2, test_case_2_expected)\n"
   ]
  }
 ],
 "metadata": {
  "kernelspec": {
   "display_name": "Python 3",
   "language": "python",
   "name": "python3"
  },
  "language_info": {
   "codemirror_mode": {
    "name": "ipython",
    "version": 3
   },
   "file_extension": ".py",
   "mimetype": "text/x-python",
   "name": "python",
   "nbconvert_exporter": "python",
   "pygments_lexer": "ipython3",
   "version": "3.11.9"
  }
 },
 "nbformat": 4,
 "nbformat_minor": 2
}
