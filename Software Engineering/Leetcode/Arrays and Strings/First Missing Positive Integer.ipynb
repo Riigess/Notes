{
 "cells": [
  {
   "cell_type": "markdown",
   "metadata": {},
   "source": [
    "# Problem\n",
    "Given an unsorted integer array nums. Return the smallest positive integer that is not present in nums.\n",
    "\n",
    "You must implement an algorithm that runs in O(n) time and uses O(1) auxiliary space.\n",
    "\n",
    "## Example 1\n",
    "\n",
    "Input: nums = [1,2,0]\n",
    "\n",
    "Output: 3\n",
    "\n",
    "Explanation: The numbers in the range [1,2] are all in the array.\n",
    "## Example 2\n",
    "\n",
    "Input: nums = [3,4,-1,1]\n",
    "\n",
    "Output: 2\n",
    "\n",
    "Explanation: 1 is in the array but 2 is missing.\n",
    "## Example 3\n",
    "\n",
    "Input: nums = [7,8,9,11,12]\n",
    "\n",
    "Output: 1\n",
    "\n",
    "Explanation: The smallest positive integer 1 is missing."
   ]
  },
  {
   "cell_type": "code",
   "execution_count": 1,
   "metadata": {},
   "outputs": [
    {
     "name": "stdout",
     "output_type": "stream",
     "text": [
      "Test Case 1:\n",
      "\tResults: 3\n",
      "\tExpected: 3\n",
      "Test Case 2:\n",
      "\tResults: 2\n",
      "\tExpected: 2\n",
      "Test Case 3:\n",
      "\tResults: 1\n",
      "\tExpected: 1\n"
     ]
    }
   ],
   "source": [
    "class Solution:\n",
    "    def firstMissingPositive(A):\n",
    "        # Implement your solution here\n",
    "        lookup = {}\n",
    "        for i in A:\n",
    "            if i not in lookup:\n",
    "                lookup[i] = i\n",
    "        i = 1\n",
    "        while True:\n",
    "            if i not in lookup:\n",
    "                return i\n",
    "            i += 1\n",
    "\n",
    "def test_testcase(numb:int, arr:list[int], expected:int):\n",
    "    sol = Solution\n",
    "    ret = sol.firstMissingPositive(arr)\n",
    "    print(f\"Test Case {numb}:\")\n",
    "    print(\"\\tResults:\", ret)\n",
    "    assert ret == expected\n",
    "    print(\"\\tExpected:\", expected)\n",
    "\n",
    "test_case_1_arr = [1,2,0]\n",
    "test_case_1_expected = 3\n",
    "test_testcase(1,\n",
    "              test_case_1_arr,\n",
    "              test_case_1_expected)\n",
    "\n",
    "test_case_2_arr = [3, 4, -1, 1]\n",
    "test_case_2_expected = 2\n",
    "test_testcase(2,\n",
    "              test_case_2_arr,\n",
    "              test_case_2_expected)\n",
    "\n",
    "test_case_3_arr = [7, 8, 9, 11, 12]\n",
    "test_case_3_expected = 1\n",
    "test_testcase(3,\n",
    "              test_case_3_arr,\n",
    "              test_case_3_expected)"
   ]
  }
 ],
 "metadata": {
  "kernelspec": {
   "display_name": "Python 3",
   "language": "python",
   "name": "python3"
  },
  "language_info": {
   "codemirror_mode": {
    "name": "ipython",
    "version": 3
   },
   "file_extension": ".py",
   "mimetype": "text/x-python",
   "name": "python",
   "nbconvert_exporter": "python",
   "pygments_lexer": "ipython3",
   "version": "3.9.6"
  }
 },
 "nbformat": 4,
 "nbformat_minor": 2
}
