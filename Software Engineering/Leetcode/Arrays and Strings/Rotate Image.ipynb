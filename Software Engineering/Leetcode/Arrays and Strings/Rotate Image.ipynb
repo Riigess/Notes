{
 "cells": [
  {
   "cell_type": "markdown",
   "metadata": {},
   "source": [
    "# Problem\n",
    "You are given an n x n 2D matrix representing an image, rotate the image by 90 degrees (clockwise).\n",
    "\n",
    "You have to rotate the image in-place, which means you have to modify the input 2D matrix directly. DO NOT allocate another 2D matrix and do the rotation.\n",
    "\n",
    "## Example 1\n",
    "![](https://assets.leetcode.com/uploads/2020/08/28/mat1.jpg)\n",
    "\n",
    "Input: matrix = [[1,2,3],[4,5,6],[7,8,9]]\n",
    "\n",
    "Output: [[7,4,1],[8,5,2],[9,6,3]]\n",
    "## Example 2\n",
    "![](https://assets.leetcode.com/uploads/2020/08/28/mat2.jpg)\n",
    "\n",
    "Input: matrix = [[5,1,9,11],[2,4,8,10],[13,3,6,7],[15,14,12,16]]\n",
    "\n",
    "Output: [[15,13,2,5],[14,3,4,1],[12,6,8,9],[16,7,10,11]]"
   ]
  },
  {
   "cell_type": "code",
   "execution_count": 5,
   "metadata": {},
   "outputs": [],
   "source": [
    "class Solution:\n",
    "    def rotate(self, matrix:list[list[int]]) -> None:\n",
    "        l, r = 0, len(matrix) - 1\n",
    "\n",
    "        while l < r:\n",
    "            for i in range(r - l):\n",
    "                top, bot = l, r #Because this is a square matrix\n",
    "                #Save top-left\n",
    "                top_left = matrix[top][l + i]\n",
    "                # move bottom left to top left\n",
    "                matrix[top][l + i] = matrix[bot - i][l]\n",
    "                #move bottom right to bottom left\n",
    "                matrix[bot - i][l] = matrix[bot][r - i]\n",
    "                #move top right to bottom right\n",
    "                matrix[bot][r - i] = matrix[top + i][r]\n",
    "                #move top left to top right\n",
    "                matrix[top + i][r] = top_left\n",
    "            r -= 1\n",
    "            l += 1\n"
   ]
  },
  {
   "cell_type": "code",
   "execution_count": 6,
   "metadata": {},
   "outputs": [],
   "source": [
    "\n",
    "def test_testcase(numb:int, matrix:list[list[int]], expected:list[list[int]]):\n",
    "    sol = Solution()\n",
    "    sol.rotate(matrix)\n",
    "    print(f\"Test Case {numb}:\")\n",
    "    print(\"\\tResults:\", matrix)\n",
    "    assert matrix == expected\n",
    "    print(\"\\tExpected:\", expected)\n"
   ]
  },
  {
   "cell_type": "code",
   "execution_count": 7,
   "metadata": {},
   "outputs": [
    {
     "name": "stdout",
     "output_type": "stream",
     "text": [
      "Test Case 1:\n",
      "\tResults: [[7, 4, 1], [8, 5, 2], [9, 6, 3]]\n",
      "\tExpected: [[7, 4, 1], [8, 5, 2], [9, 6, 3]]\n",
      "Test Case 2:\n",
      "\tResults: [[21, 16, 11, 6, 1], [22, 17, 12, 7, 2], [23, 18, 13, 8, 3], [24, 19, 14, 9, 4], [25, 20, 15, 10, 5]]\n",
      "\tExpected: [[21, 16, 11, 6, 1], [22, 17, 12, 7, 2], [23, 18, 13, 8, 3], [24, 19, 14, 9, 4], [25, 20, 15, 10, 5]]\n"
     ]
    }
   ],
   "source": [
    "\n",
    "test_case_1_matrix = [[1,2,3], [4,5,6], [7,8,9]]\n",
    "test_case_1_expected = [[7,4,1],[8,5,2],[9,6,3]]\n",
    "test_testcase(1,\n",
    "              test_case_1_matrix,\n",
    "              test_case_1_expected)\n",
    "\n",
    "test_case_2_matrix = [[1,2,3,4,5],[6,7,8,9,10],[11,12,13,14,15],[16,17,18,19,20],[21,22,23,24,25]]\n",
    "test_case_2_expected = [[21,16,11,6,1],[22,17,12,7,2],[23,18,13,8,3],[24,19,14,9,4],[25,20,15,10,5]]\n",
    "test_testcase(2,\n",
    "              test_case_2_matrix,\n",
    "              test_case_2_expected)"
   ]
  }
 ],
 "metadata": {
  "kernelspec": {
   "display_name": "Python 3",
   "language": "python",
   "name": "python3"
  },
  "language_info": {
   "codemirror_mode": {
    "name": "ipython",
    "version": 3
   },
   "file_extension": ".py",
   "mimetype": "text/x-python",
   "name": "python",
   "nbconvert_exporter": "python",
   "pygments_lexer": "ipython3",
   "version": "3.11.9"
  }
 },
 "nbformat": 4,
 "nbformat_minor": 2
}
