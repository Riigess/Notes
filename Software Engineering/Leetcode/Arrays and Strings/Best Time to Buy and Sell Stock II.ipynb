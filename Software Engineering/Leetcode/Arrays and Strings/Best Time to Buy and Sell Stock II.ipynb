{
 "cells": [
  {
   "cell_type": "markdown",
   "metadata": {},
   "source": [
    "# Problem\n",
    "You are given an integer array `prices` where `prices[i]` is the price of a given stock on the `i^th` day.\n",
    "\n",
    "On each day, you may decide to buy and/or sell the stock. You can only hold at most one share of the stock at any time. However, you can buy it then immediately sell it on the same day.\n",
    "\n",
    "Find and return the maximum profit you can achieve."
   ]
  },
  {
   "cell_type": "code",
   "execution_count": 1,
   "metadata": {},
   "outputs": [],
   "source": [
    "class Solution:\n",
    "    def maxProfit(self, prices: list[int]) -> int:\n",
    "        max_profit = 0\n",
    "        for i in range(1, len(prices)):\n",
    "            if prices[i] > prices[i-1]:\n",
    "                max_profit += prices[i] - prices[i-1]\n",
    "        return max_profit"
   ]
  },
  {
   "cell_type": "code",
   "execution_count": 2,
   "metadata": {},
   "outputs": [],
   "source": [
    "def test_testcase(numb:int, prices:list[int], expected:int):\n",
    "    sol = Solution()\n",
    "    ret = sol.maxProfit(prices)\n",
    "    print(f\"Test Case {numb}:\")\n",
    "    print(\"\\tPrices:\", prices)\n",
    "    print(\"\\tResults:\", ret)\n",
    "    print(\"\\tExpected:\", expected)\n",
    "    assert ret == expected"
   ]
  },
  {
   "cell_type": "code",
   "execution_count": 3,
   "metadata": {},
   "outputs": [
    {
     "name": "stdout",
     "output_type": "stream",
     "text": [
      "Test Case 1:\n",
      "\tPrices: [7, 1, 5, 3, 6, 4]\n",
      "\tResults: 7\n",
      "\tExpected: 7\n",
      "Test Case 2:\n",
      "\tPrices: [1, 2, 3, 4, 5]\n",
      "\tResults: 4\n",
      "\tExpected: 4\n",
      "Test Case 3:\n",
      "\tPrices: [7, 6, 4, 3, 1]\n",
      "\tResults: 0\n",
      "\tExpected: 0\n"
     ]
    }
   ],
   "source": [
    "test_case_1 = [7, 1, 5, 3, 6, 4] #Mixed down/up\n",
    "test_testcase(1, test_case_1, 7)\n",
    "\n",
    "test_case_2 = [1, 2, 3, 4, 5] #Only Increasing\n",
    "test_testcase(2, test_case_2, 4)\n",
    "\n",
    "test_case_3 = [7, 6, 4, 3, 1] #Only Decreasing\n",
    "test_testcase(3, test_case_3, 0)\n"
   ]
  }
 ],
 "metadata": {
  "kernelspec": {
   "display_name": "Python 3",
   "language": "python",
   "name": "python3"
  },
  "language_info": {
   "codemirror_mode": {
    "name": "ipython",
    "version": 3
   },
   "file_extension": ".py",
   "mimetype": "text/x-python",
   "name": "python",
   "nbconvert_exporter": "python",
   "pygments_lexer": "ipython3",
   "version": "3.11.9"
  }
 },
 "nbformat": 4,
 "nbformat_minor": 2
}
