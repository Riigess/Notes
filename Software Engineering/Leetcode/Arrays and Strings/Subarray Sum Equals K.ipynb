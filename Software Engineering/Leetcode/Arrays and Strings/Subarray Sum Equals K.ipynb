{
 "cells": [
  {
   "cell_type": "markdown",
   "metadata": {},
   "source": []
  },
  {
   "cell_type": "code",
   "execution_count": 1,
   "metadata": {},
   "outputs": [
    {
     "name": "stdout",
     "output_type": "stream",
     "text": [
      "Test Case 1:\n",
      "\tReturned: 2\n",
      "\tExpected: 2\n",
      "Test Case 2:\n",
      "\tReturned: 2\n",
      "\tExpected: 2\n"
     ]
    }
   ],
   "source": [
    "class Solution:\n",
    "    def subarraySum(self, nums:list[int], k:int) -> int:\n",
    "        count, sum = 0, 0\n",
    "        m = {0: 1}\n",
    "        for i in range(len(nums)):\n",
    "            sum += nums[i]\n",
    "            if sum - k in m:\n",
    "                count += m.get(sum - k, 0)\n",
    "            m[sum] = m.get(sum, 0) + 1\n",
    "        return count\n",
    "\n",
    "def test_testcase(nums:list[int], k:int, expected:int, numb:int):\n",
    "    sol = Solution()\n",
    "    ret = sol.subarraySum(nums, k)\n",
    "    print(f\"Test Case {numb}:\")\n",
    "    print(\"\\tReturned:\", ret)\n",
    "    assert ret == expected\n",
    "    print(\"\\tExpected:\", expected)\n",
    "\n",
    "test_testcase([1, 1, 1], 2, 2, 1)\n",
    "test_testcase([1, 2, 3], 3, 2, 2)"
   ]
  }
 ],
 "metadata": {
  "kernelspec": {
   "display_name": "Python 3",
   "language": "python",
   "name": "python3"
  },
  "language_info": {
   "codemirror_mode": {
    "name": "ipython",
    "version": 3
   },
   "file_extension": ".py",
   "mimetype": "text/x-python",
   "name": "python",
   "nbconvert_exporter": "python",
   "pygments_lexer": "ipython3",
   "version": "3.11.9"
  }
 },
 "nbformat": 4,
 "nbformat_minor": 2
}
