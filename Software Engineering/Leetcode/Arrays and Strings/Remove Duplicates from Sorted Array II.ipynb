{
 "cells": [
  {
   "cell_type": "code",
   "execution_count": 7,
   "metadata": {},
   "outputs": [],
   "source": [
    "class Solution:\n",
    "    def removeDuplicates(self, nums: list[int]) -> int:\n",
    "        last_int = -5\n",
    "        occur = 0\n",
    "        i = 0\n",
    "        throw_away = 0\n",
    "        while i < len(nums) - throw_away:\n",
    "            if occur == 2 and last_int == nums[i]:\n",
    "                del nums[i]\n",
    "                nums.append(-1)\n",
    "                throw_away += 1\n",
    "            elif last_int == nums[i] and occur == 1:\n",
    "                occur += 1\n",
    "                i += 1\n",
    "            elif last_int != nums[i]:\n",
    "                last_int = nums[i]\n",
    "                occur = 1\n",
    "                i += 1\n",
    "            else:\n",
    "                i += 1\n",
    "        return len(nums) - throw_away\n",
    "\n",
    "sol = Solution()\n"
   ]
  },
  {
   "cell_type": "markdown",
   "metadata": {},
   "source": []
  },
  {
   "cell_type": "code",
   "execution_count": 8,
   "metadata": {},
   "outputs": [
    {
     "name": "stdout",
     "output_type": "stream",
     "text": [
      "Test Case 1:\n",
      "\tTest Case: [1, 1, 1, 2, 2, 3]\n",
      "\tResults: [1, 1, 2, 2, 3, -1]\n"
     ]
    }
   ],
   "source": [
    "\n",
    "test_case_1 = [1,1,1,2,2,3]\n",
    "length = sol.removeDuplicates(test_case_1)\n",
    "print(\"Test Case 1:\")\n",
    "assert test_case_1[:length] == [1, 1, 2, 2, 3]\n",
    "print(\"\\tTest Case: [1, 1, 1, 2, 2, 3]\")\n",
    "print(\"\\tResults:\", test_case_1)\n"
   ]
  },
  {
   "cell_type": "markdown",
   "metadata": {},
   "source": []
  },
  {
   "cell_type": "code",
   "execution_count": 9,
   "metadata": {},
   "outputs": [
    {
     "name": "stdout",
     "output_type": "stream",
     "text": [
      "Test Case 2:\n",
      "\tTest Case: [0, 0, 1, 1, 1, 1, 2, 3, 3]\n",
      "\tResults: [0, 0, 1, 1, 2, 3, 3]\n"
     ]
    }
   ],
   "source": [
    "\n",
    "test_case_2 = [0,0,1,1,1,1,2,3,3]\n",
    "length = sol.removeDuplicates(test_case_2)\n",
    "print(\"Test Case 2:\")\n",
    "assert test_case_2[:length] == [0, 0, 1, 1, 2, 3, 3]\n",
    "print(\"\\tTest Case: [0, 0, 1, 1, 1, 1, 2, 3, 3]\")\n",
    "print(\"\\tResults:\", test_case_2[:length])\n"
   ]
  },
  {
   "cell_type": "markdown",
   "metadata": {},
   "source": []
  },
  {
   "cell_type": "code",
   "execution_count": 10,
   "metadata": {},
   "outputs": [
    {
     "name": "stdout",
     "output_type": "stream",
     "text": [
      "Test Case 3:\n",
      "\tTest Case: [1]\n",
      "\tResults: [1]\n"
     ]
    }
   ],
   "source": [
    "\n",
    "test_case_3 = [1]\n",
    "length = sol.removeDuplicates(test_case_3)\n",
    "print(\"Test Case 3:\")\n",
    "assert test_case_3[:length] == [1]\n",
    "print(\"\\tTest Case: [1]\")\n",
    "print(\"\\tResults:\", test_case_3[:length])"
   ]
  }
 ],
 "metadata": {
  "kernelspec": {
   "display_name": "Python 3",
   "language": "python",
   "name": "python3"
  },
  "language_info": {
   "codemirror_mode": {
    "name": "ipython",
    "version": 3
   },
   "file_extension": ".py",
   "mimetype": "text/x-python",
   "name": "python",
   "nbconvert_exporter": "python",
   "pygments_lexer": "ipython3",
   "version": "3.11.9"
  }
 },
 "nbformat": 4,
 "nbformat_minor": 2
}
