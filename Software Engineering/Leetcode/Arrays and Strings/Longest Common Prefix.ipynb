{
 "cells": [
  {
   "cell_type": "markdown",
   "metadata": {},
   "source": [
    "# Problem\n",
    "Write a function to find the longest common prefix string amongst an array of strings.\n",
    "\n",
    "If there is no common prefix, return an empty string \"\".\n",
    "\n",
    "## Example 1:\n",
    "Input: strs = [\"flower\",\"flow\",\"flight\"]\n",
    "\n",
    "Output: \"fl\"\n",
    "\n",
    "## Example 2\n",
    "Input: strs = [\"dog\",\"racecar\",\"car\"]\n",
    "\n",
    "Output: \"\"\n",
    "\n",
    "Explanation: There is no common prefix among the input strings."
   ]
  },
  {
   "cell_type": "code",
   "execution_count": 2,
   "metadata": {},
   "outputs": [
    {
     "name": "stdout",
     "output_type": "stream",
     "text": [
      "Test Case 1:\n",
      "\tResult: fl\n",
      "\tExpected: fl\n",
      "Test Case 2:\n",
      "\tResult: \n",
      "\tExpected: \n",
      "Test Case 3:\n",
      "\tResult: a\n",
      "\tExpected: a\n",
      "Test Case 4:\n",
      "\tResult: \n",
      "\tExpected: \n",
      "Test Case 5:\n",
      "\tResult: c\n",
      "\tExpected: c\n"
     ]
    }
   ],
   "source": [
    "class Solution:\n",
    "    def longestCommonPrefix(self, strs: list[str]) -> str:\n",
    "        prefix = strs[0]\n",
    "        for i in range(1, len(strs)):\n",
    "            n = min(len(prefix), len(strs[i]))\n",
    "            for j in range(n):\n",
    "                if len(strs[i]) > j and len(prefix) > j:\n",
    "                    if strs[i][j] != prefix[j]:\n",
    "                        if j == 0:\n",
    "                            return \"\"\n",
    "                        prefix = prefix[:j]\n",
    "            if n == len(strs[i]) and n != len(prefix) and len(prefix) > len(strs[i]):\n",
    "                prefix = strs[i]\n",
    "        return prefix\n",
    "\n",
    "def test_testcase(numb:int, strs:list[str], expected:str):\n",
    "    sol = Solution()\n",
    "    ret = sol.longestCommonPrefix(strs)\n",
    "    print(f\"Test Case {numb}:\")\n",
    "    print(\"\\tResult:\", ret)\n",
    "    assert ret == expected\n",
    "    print(\"\\tExpected:\", expected)\n",
    "\n",
    "test_case_1_strs = [\"flower\", \"flow\", \"flight\"]\n",
    "test_case_1_expected = \"fl\"\n",
    "test_testcase(1,\n",
    "              test_case_1_strs,\n",
    "              test_case_1_expected)\n",
    "\n",
    "test_case_2_strs = [\"dog\", \"racecar\", \"car\"]\n",
    "test_case_2_expected = \"\"\n",
    "test_testcase(2,\n",
    "              test_case_2_strs,\n",
    "              test_case_2_expected)\n",
    "\n",
    "test_case_3_strs = [\"ab\", \"a\"]\n",
    "test_case_3_expected = \"a\"\n",
    "test_testcase(3,\n",
    "              test_case_3_strs,\n",
    "              test_case_3_expected)\n",
    "\n",
    "test_case_4_strs = [\"reflower\", \"flow\", \"flight\"]\n",
    "test_case_4_expected = \"\"\n",
    "test_testcase(4,\n",
    "              test_case_4_strs,\n",
    "              test_case_4_expected)\n",
    "\n",
    "test_case_5_strs = [\"cir\", \"car\"]\n",
    "test_case_5_expected = \"c\"\n",
    "test_testcase(5,\n",
    "              test_case_5_strs,\n",
    "              test_case_5_expected)"
   ]
  }
 ],
 "metadata": {
  "kernelspec": {
   "display_name": "Python 3",
   "language": "python",
   "name": "python3"
  },
  "language_info": {
   "codemirror_mode": {
    "name": "ipython",
    "version": 3
   },
   "file_extension": ".py",
   "mimetype": "text/x-python",
   "name": "python",
   "nbconvert_exporter": "python",
   "pygments_lexer": "ipython3",
   "version": "3.11.9"
  }
 },
 "nbformat": 4,
 "nbformat_minor": 2
}
