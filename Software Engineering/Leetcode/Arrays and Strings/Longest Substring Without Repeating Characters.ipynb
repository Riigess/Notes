{
 "cells": [
  {
   "cell_type": "code",
   "execution_count": 1,
   "metadata": {},
   "outputs": [],
   "source": [
    "class Solution:\n",
    "    def lengthOfLongestSubstring(self, s: str) -> int:\n",
    "        def check(start, end):\n",
    "            chars = set()\n",
    "            for i in range(start, end + 1):\n",
    "                c = s[i]\n",
    "                if c in chars:\n",
    "                    return False\n",
    "                chars.add(c)\n",
    "            return True\n",
    "        \n",
    "        n = len(s)\n",
    "        res = 0\n",
    "        for i in range(n):\n",
    "            for j in range(i, n):\n",
    "                if check(i,j):\n",
    "                    res = max(res, j - i + 1)\n",
    "        return res\n"
   ]
  },
  {
   "cell_type": "code",
   "execution_count": 2,
   "metadata": {},
   "outputs": [],
   "source": [
    "\n",
    "def test_testcaes(numb:int, s:str, expected:int):\n",
    "    sol = Solution()\n",
    "    ret = sol.lengthOfLongestSubstring(s)\n",
    "    print(f\"Test Case {numb}:\")\n",
    "    print(\"\\tResults:\", ret)\n",
    "    assert ret == expected\n",
    "    print(\"\\tExpected:\", expected)\n"
   ]
  },
  {
   "cell_type": "code",
   "execution_count": 3,
   "metadata": {},
   "outputs": [
    {
     "name": "stdout",
     "output_type": "stream",
     "text": [
      "Test Case 1:\n",
      "\tResults: 3\n",
      "\tExpected: 3\n",
      "Test Case 2:\n",
      "\tResults: 1\n",
      "\tExpected: 1\n",
      "Test Case 3:\n",
      "\tResults: 3\n",
      "\tExpected: 3\n"
     ]
    }
   ],
   "source": [
    "\n",
    "test_case_1_s = \"abcabcbb\"\n",
    "test_case_1_expected = 3\n",
    "test_testcaes(1,\n",
    "              test_case_1_s,\n",
    "              test_case_1_expected)\n",
    "\n",
    "test_case_2_s = \"bbbbb\"\n",
    "test_case_2_expected = 1\n",
    "test_testcaes(2,\n",
    "              test_case_2_s,\n",
    "              test_case_2_expected)\n",
    "\n",
    "test_case_3_s = \"pwwkew\"\n",
    "test_case_3_expected = 3\n",
    "test_testcaes(3,\n",
    "              test_case_3_s,\n",
    "              test_case_3_expected)"
   ]
  }
 ],
 "metadata": {
  "kernelspec": {
   "display_name": "Python 3",
   "language": "python",
   "name": "python3"
  },
  "language_info": {
   "codemirror_mode": {
    "name": "ipython",
    "version": 3
   },
   "file_extension": ".py",
   "mimetype": "text/x-python",
   "name": "python",
   "nbconvert_exporter": "python",
   "pygments_lexer": "ipython3",
   "version": "3.11.9"
  }
 },
 "nbformat": 4,
 "nbformat_minor": 2
}
