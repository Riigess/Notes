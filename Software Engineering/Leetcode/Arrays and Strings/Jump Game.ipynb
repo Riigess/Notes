{
 "cells": [
  {
   "cell_type": "markdown",
   "metadata": {},
   "source": [
    "# Problem\n",
    "You are given an integer array `nums`. You are initially positioned at the array's first index, and each element in the array represents your maximum jump length at that position.\n",
    "\n",
    "Return `true` if you can reach the last index, or `false` otherwise."
   ]
  },
  {
   "cell_type": "code",
   "execution_count": 1,
   "metadata": {},
   "outputs": [],
   "source": [
    "class Solution:\n",
    "    def canJump(self, nums:list[int]) -> bool:\n",
    "        idx = len(nums) - 1\n",
    "        for i in range(len(nums) - 1, -1, -1):\n",
    "            if i + nums[i] >= idx:\n",
    "                idx = i\n",
    "        return idx == 0"
   ]
  },
  {
   "cell_type": "code",
   "execution_count": 4,
   "metadata": {},
   "outputs": [],
   "source": [
    "def test_testcase(numb:int, nums:list[int], expected:bool):\n",
    "    sol = Solution()\n",
    "    ret = sol.canJump(nums)\n",
    "    print(f\"Test Case {numb}:\")\n",
    "    print(\"\\tnums:\", nums)\n",
    "    print(\"\\tResult:\", ret)\n",
    "    assert ret == expected\n",
    "    print(\"\\tExpected:\", expected)"
   ]
  },
  {
   "cell_type": "code",
   "execution_count": 5,
   "metadata": {},
   "outputs": [
    {
     "name": "stdout",
     "output_type": "stream",
     "text": [
      "Test Case 1:\n",
      "\tnums: [2, 3, 1, 1, 4]\n",
      "\tResult: True\n",
      "\tExpected: True\n",
      "Test Case 2:\n",
      "\tnums: [3, 2, 1, 0, 4]\n",
      "\tResult: False\n",
      "\tExpected: False\n",
      "Test Case 3:\n",
      "\tnums: [2, 0]\n",
      "\tResult: True\n",
      "\tExpected: True\n",
      "Test Case 4:\n",
      "\tnums: [0]\n",
      "\tResult: True\n",
      "\tExpected: True\n",
      "Test Case 5:\n",
      "\tnums: [0, 1]\n",
      "\tResult: False\n",
      "\tExpected: False\n"
     ]
    }
   ],
   "source": [
    "test_case_1 = [2, 3, 1, 1, 4]\n",
    "test_case_1_expected = True\n",
    "test_testcase(1, test_case_1, test_case_1_expected)\n",
    "\n",
    "test_case_2 = [3, 2, 1, 0, 4]\n",
    "test_case_2_expected = False\n",
    "test_testcase(2, test_case_2, test_case_2_expected)\n",
    "\n",
    "test_case_3 = [2, 0]\n",
    "test_case_3_expected = True\n",
    "test_testcase(3, test_case_3, test_case_3_expected)\n",
    "\n",
    "test_case_4 = [0]\n",
    "test_case_4_expected = True\n",
    "test_testcase(4, test_case_4, test_case_4_expected)\n",
    "\n",
    "test_case_5 = [0, 1]\n",
    "test_case_5_expected = False\n",
    "test_testcase(5, test_case_5, test_case_5_expected)\n"
   ]
  }
 ],
 "metadata": {
  "kernelspec": {
   "display_name": "Python 3",
   "language": "python",
   "name": "python3"
  },
  "language_info": {
   "codemirror_mode": {
    "name": "ipython",
    "version": 3
   },
   "file_extension": ".py",
   "mimetype": "text/x-python",
   "name": "python",
   "nbconvert_exporter": "python",
   "pygments_lexer": "ipython3",
   "version": "3.11.9"
  }
 },
 "nbformat": 4,
 "nbformat_minor": 2
}
