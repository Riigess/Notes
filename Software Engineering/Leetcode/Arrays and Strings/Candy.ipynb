{
 "cells": [
  {
   "cell_type": "markdown",
   "metadata": {},
   "source": [
    "# Problem\n",
    "There are `n` children standing in a line. Each child is assigned a rating value given the integer array `ratings`.\n",
    "\n",
    "You are giving candies to these children subjected to the following requirements:\n",
    "- Each child must have at least one candy\n",
    "- Children with higher rating get more candies than their neighbors\n",
    "\n",
    "Return the minimum number of candies you need to have to distribute the candies to the children.\n",
    "\n",
    "## Example 1\n",
    "Input: ratings = [1, 0, 2]\n",
    "\n",
    "Output: 5\n",
    "\n",
    "Explanation: You can allocate to the first, second, and third child with 2, 1, 2 candies respectively.\n",
    "\n",
    "## Example 2\n",
    "Input: ratings = [1, 2, 2]\n",
    "\n",
    "Output: 4\n",
    "\n",
    "Explanation: You can allocate to the first, second, and third child with 1, 2, 1 candies respectively. The third child only gets 1 candy because it satisfies the above two conditions."
   ]
  },
  {
   "cell_type": "code",
   "execution_count": 35,
   "metadata": {},
   "outputs": [],
   "source": [
    "class Solution:\n",
    "    def candy(self, ratings:list[int]) -> int:\n",
    "        if len(ratings) == 0:\n",
    "            return 0\n",
    "        elif len(ratings) == 1:\n",
    "            return 1\n",
    "\n",
    "        hold = [1] * len(ratings)\n",
    "        for i in range(len(ratings) - 1):\n",
    "            if ratings[i+1] > ratings[i]:\n",
    "                hold[i+1] = hold[i] + 1\n",
    "        for i in range(len(ratings) - 2, -1, -1):\n",
    "            if ratings[i] > ratings[i + 1] and hold[i] <= hold[i + 1]:\n",
    "                hold[i] = hold[i + 1] + 1\n",
    "        return sum(hold)\n"
   ]
  },
  {
   "cell_type": "code",
   "execution_count": 38,
   "metadata": {},
   "outputs": [],
   "source": [
    "def test_testcase(numb:int, ratings:list[int], expected:int):\n",
    "    sol = Solution()\n",
    "    ret = sol.candy(ratings)\n",
    "    print(f'Test Case {numb}:')\n",
    "    print('\\tResult:', ret)\n",
    "    assert ret == expected\n",
    "    print('\\tExpected:', expected)"
   ]
  },
  {
   "cell_type": "code",
   "execution_count": 39,
   "metadata": {},
   "outputs": [
    {
     "name": "stdout",
     "output_type": "stream",
     "text": [
      "Test Case 1:\n",
      "\tResult: 5\n",
      "\tExpected: 5\n",
      "Test Case 2:\n",
      "\tResult: 4\n",
      "\tExpected: 4\n",
      "Test Case 3:\n",
      "\tResult: 9\n",
      "\tExpected: 9\n"
     ]
    }
   ],
   "source": [
    "test_case_1_ratings = [1, 0, 2]\n",
    "test_case_1_expected = 5\n",
    "test_testcase(1,\n",
    "              test_case_1_ratings,\n",
    "              test_case_1_expected)\n",
    "\n",
    "test_case_2_ratings = [1, 2, 2]\n",
    "test_case_2_expected = 4\n",
    "test_testcase(2,\n",
    "              test_case_2_ratings,\n",
    "              test_case_2_expected)\n",
    "\n",
    "test_case_3_ratings = [1, 3, 4, 2, 3]\n",
    "test_case_3_expected = 9\n",
    "test_testcase(3,\n",
    "              test_case_3_ratings,\n",
    "              test_case_3_expected)"
   ]
  }
 ],
 "metadata": {
  "kernelspec": {
   "display_name": "Python 3",
   "language": "python",
   "name": "python3"
  },
  "language_info": {
   "codemirror_mode": {
    "name": "ipython",
    "version": 3
   },
   "file_extension": ".py",
   "mimetype": "text/x-python",
   "name": "python",
   "nbconvert_exporter": "python",
   "pygments_lexer": "ipython3",
   "version": "3.11.9"
  }
 },
 "nbformat": 4,
 "nbformat_minor": 2
}
