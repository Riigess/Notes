{
 "cells": [
  {
   "cell_type": "code",
   "execution_count": 1,
   "metadata": {},
   "outputs": [],
   "source": [
    "class Solution:\n",
    "    def findMin(self, nums: list[int]) -> int:\n",
    "        l, r = 0, len(nums) - 1\n",
    "        curr_min = float(\"inf\")\n",
    "        while l < r:\n",
    "            mid = l + (r - l) // 2\n",
    "            curr_min = min(curr_min, nums[mid])\n",
    "\n",
    "            if nums[mid] > nums[r]:\n",
    "                l = mid + 1\n",
    "            else:\n",
    "                r = mid - 1\n",
    "        return min(curr_min, nums[l])\n",
    "\n",
    "sol = Solution()\n",
    "test_case_1_rot = [3, 4, 5, 6, 7, 0, 1, 2]\n",
    "test_case_1_min = 0\n",
    "ret = sol.findMin(test_case_1_rot)\n",
    "assert ret == test_case_1_min\n",
    "\n",
    "test_case_2_rot = [7, 8, 9, 10, 11, 12, 13, 14, 4, 5, 6]\n",
    "test_case_2_min = 4\n",
    "ret = sol.findMin(test_case_2_rot)\n",
    "assert ret == test_case_2_min"
   ]
  }
 ],
 "metadata": {
  "kernelspec": {
   "display_name": "Python 3",
   "language": "python",
   "name": "python3"
  },
  "language_info": {
   "codemirror_mode": {
    "name": "ipython",
    "version": 3
   },
   "file_extension": ".py",
   "mimetype": "text/x-python",
   "name": "python",
   "nbconvert_exporter": "python",
   "pygments_lexer": "ipython3",
   "version": "3.11.9"
  }
 },
 "nbformat": 4,
 "nbformat_minor": 2
}
