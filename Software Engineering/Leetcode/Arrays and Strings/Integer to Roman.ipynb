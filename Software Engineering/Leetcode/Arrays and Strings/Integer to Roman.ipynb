{
 "cells": [
  {
   "cell_type": "markdown",
   "metadata": {},
   "source": [
    "# Problem\n",
    "Seven different symbols represent Roman numerals with the following values:\n",
    "\n",
    "| Symbol | Value |\n",
    "| --- | --- |\n",
    "| I | 1 |\n",
    "| V | 5 |\n",
    "| X | 10 |\n",
    "| L | 50 |\n",
    "| C | 100 |\n",
    "| D | 500 |\n",
    "| M | 1000 |\n",
    "\n",
    "Roman numerals are formed by appending the conversions of decimal place values from highest to lowest. Converting a decimal place value into a Roman numeral has the following rules:\n",
    "1. If the value does not start with 4 or 9, select the symbol of the maximal value that can be subtracted from the input, append that symbol to the result, subtract its value, and convert the remainder to a Roman numeral.\n",
    "2. If the value starts with 4 or 9 use the subtractive form representing one symbol subtracted from the following symbol, for example, 4 is 1 (I) less than 5 (V): IV and 9 is 1 (I) less than 10 (X): IX. Only the following subtractive forms are used: 4 (IV), 9 (IX), 40 (XL), 90 (XC), 400 (CD) and 900 (CM).\n",
    "3. Only powers of 10 (I, X, C, M) can be appended consecutively at most 3 times to represent multiples of 10. You cannot append 5 (V), 50 (L), or 500 (D) multiple times. If you need to append a symbol 4 times use the subtractive form.\n",
    "Given an integer, convert it to a Roman numeral.\n",
    "\n",
    "## Example 1\n",
    "Input: num = 3749\n",
    "\n",
    "Output: \"MMMDCCXLIX\"\n",
    "\n",
    "Explanation:\n",
    "- 3000 = MMM as 1000 (M) + 1000 (M) + 1000 (M)\n",
    "- 700 = DCC as 500 (D) + 100 (C) + 100 (C)\n",
    "- 40 = XL as 10 (X) less of 50 (L)\n",
    "- 9 = IX as 1 (I) less of 10 (X)\n",
    "Note: 49 is not 1 (I) less of 50 (L) because the conversion is based on decimal places\n",
    "## Example 2\n",
    "Input: num = 58\n",
    "\n",
    "Output: \"LVIII\"\n",
    "\n",
    "Explanation:\n",
    "\n",
    "- 50 = L\n",
    "- 8 = VIII\n",
    "## Example 3\n",
    "Input: num = 1994\n",
    "\n",
    "Output: \"MCMXCIV\"\n",
    "\n",
    "Explanation:\n",
    "\n",
    "- 1000 = M\n",
    "- 900 = CM\n",
    "- 90 = XC\n",
    "- 4 = IV"
   ]
  },
  {
   "cell_type": "code",
   "execution_count": 4,
   "metadata": {},
   "outputs": [],
   "source": [
    "class Solution:\n",
    "    def intToRoman(self, num: int) -> str:\n",
    "        lookup = { #Can we find another way to check for lookup[\"M\"] - lookup[\"C\"] == \"CM\"?\n",
    "            \"M\": 1000,\n",
    "            \"CM\": 900,\n",
    "            \"D\": 500,\n",
    "            \"CD\": 400,\n",
    "            \"C\": 100,\n",
    "            \"XC\": 90,\n",
    "            \"L\": 50,\n",
    "            \"XL\": 40,\n",
    "            \"X\": 10,\n",
    "            \"IX\": 9,\n",
    "            \"V\": 5,\n",
    "            \"IV\": 4,\n",
    "            \"I\": 1\n",
    "        }\n",
    "        remainder = num\n",
    "        lookup_key = \"M\"\n",
    "        ret = \"\"\n",
    "        while remainder > 0:\n",
    "            while remainder >= lookup[lookup_key]:\n",
    "                remainder -= lookup[lookup_key]\n",
    "                ret += lookup_key\n",
    "            lookup_list = list(lookup)\n",
    "            lookup_idx = lookup_list.index(lookup_key) + 1\n",
    "            if lookup_idx > len(lookup_list)-1:\n",
    "                lookup_idx = 0\n",
    "            lookup_key = lookup_list[lookup_idx]\n",
    "        return ret"
   ]
  },
  {
   "cell_type": "code",
   "execution_count": 2,
   "metadata": {},
   "outputs": [],
   "source": [
    "def test_testcase(numb:int, num:int, expected:str):\n",
    "    sol = Solution()\n",
    "    ret = sol.intToRoman(num)\n",
    "    print(f\"Test Case {numb}:\")\n",
    "    print(\"\\tResults:\", ret)\n",
    "    assert ret == expected\n",
    "    print(\"\\tExpected:\", expected)\n"
   ]
  },
  {
   "cell_type": "code",
   "execution_count": 5,
   "metadata": {},
   "outputs": [
    {
     "name": "stdout",
     "output_type": "stream",
     "text": [
      "Test Case 1:\n",
      "\tResults: MMMDCCXLIX\n",
      "\tExpected: MMMDCCXLIX\n",
      "Test Case 2:\n",
      "\tResults: LVIII\n",
      "\tExpected: LVIII\n",
      "Test Case 3:\n",
      "\tResults: MCMXCIV\n",
      "\tExpected: MCMXCIV\n"
     ]
    }
   ],
   "source": [
    "test_case_1_num = 3749\n",
    "test_case_1_expected = \"MMMDCCXLIX\"\n",
    "test_testcase(1,\n",
    "              test_case_1_num,\n",
    "              test_case_1_expected)\n",
    "\n",
    "test_case_2_num = 58\n",
    "test_case_2_expected = \"LVIII\"\n",
    "test_testcase(2,\n",
    "              test_case_2_num,\n",
    "              test_case_2_expected)\n",
    "\n",
    "test_case_3_num = 1994\n",
    "test_case_3_expected = \"MCMXCIV\"\n",
    "test_testcase(3,\n",
    "              test_case_3_num,\n",
    "              test_case_3_expected)"
   ]
  }
 ],
 "metadata": {
  "kernelspec": {
   "display_name": "Python 3",
   "language": "python",
   "name": "python3"
  },
  "language_info": {
   "codemirror_mode": {
    "name": "ipython",
    "version": 3
   },
   "file_extension": ".py",
   "mimetype": "text/x-python",
   "name": "python",
   "nbconvert_exporter": "python",
   "pygments_lexer": "ipython3",
   "version": "3.11.9"
  }
 },
 "nbformat": 4,
 "nbformat_minor": 2
}
