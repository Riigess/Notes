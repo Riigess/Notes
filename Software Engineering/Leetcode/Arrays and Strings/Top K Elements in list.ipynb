{
 "cells": [
  {
   "cell_type": "markdown",
   "metadata": {},
   "source": [
    "# Problem\n",
    "Given an integer array `nums` and an integer `k`, return the `k` most frequent elements within the array.\n",
    "\n",
    "The test cases are generated such that the answer is always unique.\n",
    "\n",
    "You may return the output in any order.\n",
    "\n",
    "## Example 1\n",
    "Input: nums = [1, 2, 2, 3, 3, 3], k =2\n",
    "\n",
    "Output: [2, 3]\n",
    "\n",
    "## Example 2\n",
    "Input: nums = [7, 7], k = 1\n",
    "\n",
    "Output: [7]\n",
    "\n",
    "## Contraints\n",
    "- `1 <= nums.length <= 10^4`\n",
    "- `-1000 <= nums[i] <= 1000`\n",
    "- `1 <= k <= number of distinct elements in nums`"
   ]
  },
  {
   "cell_type": "code",
   "execution_count": null,
   "metadata": {},
   "outputs": [],
   "source": [
    "class Solution:\n",
    "    def topKFrequent(self, nums: list[int], k: int) -> list[int]:\n",
    "        count = {} #O(n) 'fuzzy' memory (hashing can take up more memory)\n",
    "        freq = [[] for i in range(len(nums) + 1)] #O(n) memory\n",
    "        for n in nums: #O(n) time\n",
    "            count[n] = 1 + count.get(n, 0) #Get n, or 0 - default to 0 if n is not in count\n",
    "        \n",
    "        for n,c in count.items(): #O(n) time\n",
    "            freq[c].append(n) #O(1) time inserted in to O(n) memory\n",
    "        \n",
    "        res = [] #O(k) memory\n",
    "        for i in range(len(freq) - 1, 0, -1):\n",
    "            for n in freq[i]: #O(n) time, O(n) memory\n",
    "                res.append(n)\n",
    "                if len(res) == k:\n",
    "                    return res\n"
   ]
  }
 ],
 "metadata": {
  "language_info": {
   "name": "python"
  }
 },
 "nbformat": 4,
 "nbformat_minor": 2
}
