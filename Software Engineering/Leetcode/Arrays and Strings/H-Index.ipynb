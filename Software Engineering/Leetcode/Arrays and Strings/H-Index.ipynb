{
 "cells": [
  {
   "cell_type": "markdown",
   "metadata": {},
   "source": [
    "# Problem\n",
    "Given an array of integers `citations` where `citations[i]` is the number of citations a researcher received for their `i^(th)` paper, return the researcher's h-index.\n",
    "\n",
    "According to the definition of h-index on Wikipedia: The h-index is defined as the maximum value of h such that the given researcher has published at least `h` papers that have been cited at least `h` times.\n",
    "\n",
    "## Example 1\n",
    "Input: citations = [3, 0, 6, 1, 5]\n",
    "Output: 3\n",
    "Explanation: [3, 0, 6, 1, 5] means the researcher has 5 papers in total and each of them had received 3, 0, 6, 1, 5 citations respectively. Since the researcher has 3 papers with at least 3 citations each and the remaining two with no more than 3 citations each, their h-index is 3.\n",
    "\n",
    "## Example 2\n",
    "Input: citations = [1, 3, 1]\n",
    "Output: 1\n",
    "\n",
    "## Constraints\n",
    "- `n == citations.length`\n",
    "- `1 <= n <= 5000`\n",
    "- `0 <= citations[i] <= 1000`"
   ]
  },
  {
   "cell_type": "code",
   "execution_count": 3,
   "metadata": {},
   "outputs": [],
   "source": [
    "class Solution:\n",
    "    def hIndex(self, citations:list[int]) -> int:\n",
    "        citations.sort()\n",
    "        potent = 0\n",
    "        for i in range(len(citations) - 1, -1, -1):\n",
    "            if citations[i] >= len(citations[i:]):\n",
    "                potent = len(citations[i:])\n",
    "        return potent\n"
   ]
  },
  {
   "cell_type": "code",
   "execution_count": 4,
   "metadata": {},
   "outputs": [],
   "source": [
    "\n",
    "def test_testcase(numb:int, citations:list[int], expected:int):\n",
    "    sol = Solution()\n",
    "    ret = sol.hIndex(citations)\n",
    "    print(f\"Test Case {numb}:\")\n",
    "    print(\"\\tResults:\", ret)\n",
    "    assert ret == expected\n",
    "    print(\"\\tExpected:\", expected)\n"
   ]
  },
  {
   "cell_type": "code",
   "execution_count": 5,
   "metadata": {},
   "outputs": [
    {
     "name": "stdout",
     "output_type": "stream",
     "text": [
      "Test Case 1:\n",
      "\tResults: 3\n",
      "\tExpected: 3\n",
      "Test Case 2:\n",
      "\tResults: 1\n",
      "\tExpected: 1\n",
      "Test Case 3:\n",
      "\tResults: 2\n",
      "\tExpected: 2\n"
     ]
    }
   ],
   "source": [
    "\n",
    "test_case_1 = [3, 0, 6, 1, 5]\n",
    "test_case_1_expected = 3\n",
    "test_testcase(1, test_case_1, test_case_1_expected)\n",
    "\n",
    "test_case_2 = [1, 3, 1]\n",
    "test_case_2_expected = 1\n",
    "test_testcase(2, test_case_2, test_case_2_expected)\n",
    "\n",
    "test_case_3 = [11, 15]\n",
    "test_case_3_expected = 2\n",
    "test_testcase(3, test_case_3, test_case_3_expected)\n"
   ]
  }
 ],
 "metadata": {
  "kernelspec": {
   "display_name": "Python 3",
   "language": "python",
   "name": "python3"
  },
  "language_info": {
   "codemirror_mode": {
    "name": "ipython",
    "version": 3
   },
   "file_extension": ".py",
   "mimetype": "text/x-python",
   "name": "python",
   "nbconvert_exporter": "python",
   "pygments_lexer": "ipython3",
   "version": "3.11.9"
  }
 },
 "nbformat": 4,
 "nbformat_minor": 2
}
