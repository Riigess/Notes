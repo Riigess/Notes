{
 "cells": [
  {
   "cell_type": "code",
   "execution_count": 1,
   "metadata": {},
   "outputs": [
    {
     "name": "stdout",
     "output_type": "stream",
     "text": [
      "Test Case 1:\n",
      "\tResult: 3\n",
      "\tExpected: 3\n",
      "Test Case 2:\n",
      "\tResult: 58\n",
      "\tExpected: 58\n",
      "Test Case 1:\n",
      "\tResult: 1994\n",
      "\tExpected: 1994\n"
     ]
    }
   ],
   "source": [
    "class Solution:\n",
    "    def romanToInt(self, s: str) -> int:\n",
    "        lookup = {\n",
    "            \"I\": 1,\n",
    "            \"V\": 5,\n",
    "            \"X\": 10,\n",
    "            \"L\": 50,\n",
    "            \"C\": 100,\n",
    "            \"D\": 500,\n",
    "            \"M\": 1000\n",
    "        }\n",
    "        total = 0\n",
    "        check_next = True\n",
    "        for i in range(len(s) - 1):\n",
    "            if check_next:\n",
    "                if lookup[s[i + 1]] > lookup[s[i]]:\n",
    "                    total += lookup[s[i + 1]] - lookup[s[i]]\n",
    "                    check_next = False\n",
    "                else:\n",
    "                    total += lookup[s[i]]\n",
    "            else:\n",
    "                check_next = True\n",
    "        if check_next:\n",
    "            total += lookup[s[-1]]\n",
    "        return total\n",
    "\n",
    "def test_testcase(numb:int, s:str, expected:int):\n",
    "    sol = Solution()\n",
    "    ret = sol.romanToInt(s)\n",
    "    print(f\"Test Case {numb}:\")\n",
    "    print(\"\\tResult:\", ret)\n",
    "    assert ret == expected\n",
    "    print(\"\\tExpected:\", expected)\n",
    "\n",
    "test_case_1_s = \"III\"\n",
    "test_case_1_expected = 3\n",
    "test_testcase(1, test_case_1_s, test_case_1_expected)\n",
    "\n",
    "test_case_2_s = \"LVIII\"\n",
    "test_case_2_expected = 58\n",
    "test_testcase(2, test_case_2_s, test_case_2_expected)\n",
    "\n",
    "test_case_3_s = \"MCMXCIV\"\n",
    "test_case_3_expected = 1994\n",
    "test_testcase(1, test_case_3_s, test_case_3_expected)"
   ]
  }
 ],
 "metadata": {
  "kernelspec": {
   "display_name": "Python 3",
   "language": "python",
   "name": "python3"
  },
  "language_info": {
   "codemirror_mode": {
    "name": "ipython",
    "version": 3
   },
   "file_extension": ".py",
   "mimetype": "text/x-python",
   "name": "python",
   "nbconvert_exporter": "python",
   "pygments_lexer": "ipython3",
   "version": "3.11.9"
  }
 },
 "nbformat": 4,
 "nbformat_minor": 2
}
