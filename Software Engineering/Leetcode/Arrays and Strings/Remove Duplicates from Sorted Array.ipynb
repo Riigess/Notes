{
 "cells": [
  {
   "cell_type": "markdown",
   "metadata": {},
   "source": [
    "# Problem\n",
    "Given an integer array `nums` sorted in increasing order, remove the duplicates in-place such that each unique element appears only once. The relative order of the elements should be kept the same. Then return the number of unique elements in `nums`."
   ]
  },
  {
   "cell_type": "code",
   "execution_count": 2,
   "metadata": {},
   "outputs": [],
   "source": [
    "class Solution:\n",
    "    def removeDuplicates(self, nums: list[int]) -> int:\n",
    "        i = 0\n",
    "        while i < len(nums) - 1:\n",
    "            if nums[i] == nums[i+1]:\n",
    "                del nums[i+1]\n",
    "            else:\n",
    "                i += 1\n",
    "        return i + 1\n",
    "\n",
    "sol = Solution()"
   ]
  },
  {
   "cell_type": "markdown",
   "metadata": {},
   "source": []
  },
  {
   "cell_type": "code",
   "execution_count": 3,
   "metadata": {},
   "outputs": [
    {
     "name": "stdout",
     "output_type": "stream",
     "text": [
      "Test Case 1:\n",
      "\tTest Case: [1, 1, 2]\n",
      "\tResults: [1, 2]\n"
     ]
    }
   ],
   "source": [
    "test_case_1 = [1, 1, 2]\n",
    "end = sol.removeDuplicates(test_case_1)\n",
    "print(\"Test Case 1:\")\n",
    "assert test_case_1[:end] == [1, 2]\n",
    "print(\"\\tTest Case: [1, 1, 2]\")\n",
    "print(\"\\tResults:\", test_case_1)"
   ]
  },
  {
   "cell_type": "markdown",
   "metadata": {},
   "source": []
  },
  {
   "cell_type": "code",
   "execution_count": 4,
   "metadata": {},
   "outputs": [
    {
     "name": "stdout",
     "output_type": "stream",
     "text": [
      "Test Case 2:\n",
      "\tTest Case: [0, 0, 1, 1, 1, 2, 2, 3, 3, 4]\n",
      "\tResults: [0, 1, 2, 3, 4]\n"
     ]
    }
   ],
   "source": [
    "test_case_2 = [0, 0, 1, 1, 1, 2, 2, 3, 3, 4]\n",
    "end = sol.removeDuplicates(test_case_2)\n",
    "print(\"Test Case 2:\")\n",
    "assert test_case_2[:end] == [0, 1, 2, 3, 4]\n",
    "print(\"\\tTest Case: [0, 0, 1, 1, 1, 2, 2, 3, 3, 4]\")\n",
    "print(\"\\tResults:\", test_case_2)"
   ]
  }
 ],
 "metadata": {
  "kernelspec": {
   "display_name": "Python 3",
   "language": "python",
   "name": "python3"
  },
  "language_info": {
   "codemirror_mode": {
    "name": "ipython",
    "version": 3
   },
   "file_extension": ".py",
   "mimetype": "text/x-python",
   "name": "python",
   "nbconvert_exporter": "python",
   "pygments_lexer": "ipython3",
   "version": "3.11.9"
  }
 },
 "nbformat": 4,
 "nbformat_minor": 2
}
