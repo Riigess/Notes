{
 "cells": [
  {
   "cell_type": "markdown",
   "metadata": {},
   "source": [
    "# Problem\n",
    "Given a string s consisting of words and spaces, return the length of the last word in the string.\n",
    "\n",
    "- A word is a maximal substring consisting of non-space characters only.\n",
    "\n",
    "## Example 1\n",
    "Input: s = \"Hello World\"\n",
    "\n",
    "Output: 5\n",
    "\n",
    "Explanation: The last word is \"World\" with length 5.\n",
    "\n",
    "## Example 2\n",
    "Input: s = \"   fly me   to   the moon  \"\n",
    "\n",
    "Output: 4\n",
    "\n",
    "Explanation: The last word is \"moon\" with length 4.\n",
    "\n",
    "## Example 3\n",
    "Input: s = \"luffy is still joyboy\"\n",
    "\n",
    "Output: 6\n",
    "\n",
    "Explanation: The last word is \"joyboy\" with length 6."
   ]
  },
  {
   "cell_type": "code",
   "execution_count": 1,
   "metadata": {},
   "outputs": [
    {
     "name": "stdout",
     "output_type": "stream",
     "text": [
      "Test Case 1:\n",
      "\tResults: 5\n",
      "\tExpected: 5\n",
      "Test Case 2:\n",
      "\tResults: 4\n",
      "\tExpected: 4\n",
      "Test Case 3:\n",
      "\tResults: 6\n",
      "\tExpected: 6\n"
     ]
    }
   ],
   "source": [
    "class Solution:\n",
    "    def lengthOfLastWord(self, s: str) -> int:\n",
    "\n",
    "        chars = [[]]\n",
    "        for i, v in enumerate(s):\n",
    "            if v == ' ' and len(chars[-1]) > 0:\n",
    "                chars.append([])\n",
    "            elif v != ' ':\n",
    "                chars[-1].append(v)\n",
    "        if len(chars[-1]) == 0 and len(chars) > 1:\n",
    "            return len(chars[-2])\n",
    "        elif len(chars) == 0:\n",
    "            return 0\n",
    "        else:\n",
    "            return len(chars[-1])\n",
    "\n",
    "def test_testcase(numb:int, s:str, expected:int):\n",
    "    sol = Solution()\n",
    "    ret = sol.lengthOfLastWord(s)\n",
    "    print(f\"Test Case {numb}:\")\n",
    "    print(\"\\tResults:\", ret)\n",
    "    assert ret == expected\n",
    "    print(\"\\tExpected:\", expected)\n",
    "\n",
    "test_case_1_s = \"Hello World\"\n",
    "test_case_1_expected = 5\n",
    "test_testcase(1,\n",
    "              test_case_1_s,\n",
    "              test_case_1_expected)\n",
    "\n",
    "test_case_2_s = \"   fly me   to   the moon  \"\n",
    "test_case_2_expected = 4\n",
    "test_testcase(2,\n",
    "              test_case_2_s,\n",
    "              test_case_2_expected)\n",
    "\n",
    "test_case_3_s = \"luffy is still joyboy\"\n",
    "test_case_3_expected = 6\n",
    "test_testcase(3,\n",
    "              test_case_3_s,\n",
    "              test_case_3_expected)"
   ]
  }
 ],
 "metadata": {
  "kernelspec": {
   "display_name": "Python 3",
   "language": "python",
   "name": "python3"
  },
  "language_info": {
   "codemirror_mode": {
    "name": "ipython",
    "version": 3
   },
   "file_extension": ".py",
   "mimetype": "text/x-python",
   "name": "python",
   "nbconvert_exporter": "python",
   "pygments_lexer": "ipython3",
   "version": "3.11.9"
  }
 },
 "nbformat": 4,
 "nbformat_minor": 2
}
