{
 "cells": [
  {
   "cell_type": "markdown",
   "metadata": {},
   "source": [
    "# Problem\n",
    "There are `n` gas stations along a circular route, where the amount of gas at the `i^th` stations is `gas[i]`.\n",
    "\n",
    "You have a car with an unlimited gas tank and it costs `cost[i]` of gas to travel from the `i^th` station to its next `(i + 1)^th` station. You begin the journey with an empty tank at one of the gas stations.\n",
    "\n",
    "Given two integer arrays `gas` and `cost`, return the starting gas station's index if you can travel around the circuit once in the clockwise direction, otherwise return `-1`. If there exists a solution, it is guaranteed to be unique.\n",
    "\n",
    "## Example 1\n",
    "Input: gas = [1, 2, 3, 4, 5], cost = [3, 4, 5, 1, 2]\n",
    "\n",
    "Output: 3\n",
    "\n",
    "Explanation:\n",
    "- Start at station 3 (index 3) and fill up with 4 units of gas. Your tank = 0 + 4 = 4\n",
    "- Travel to station 4. Your tank = 4 - 1 + 5 = 8\n",
    "- Travel to station 0. Your tank = 8 - 2 + 1 = 7\n",
    "- Travel to station 1. Your tank = 7 - 3 + 2 = 6\n",
    "- Travel to station 2. Your tank = 6 - 4 + 3 = 5\n",
    "- Travel to station 3. The cost is 5. Your gas is just enough to travel back to station 3.\n",
    "- Therefore, return 3 as the starting index.\n",
    "\n",
    "## Example 2\n",
    "Input: gas = [2, 3, 4], cost = [3, 4, 3]\n",
    "\n",
    "Output: -1\n",
    "\n",
    "Explanation:\n",
    "- You can't start at station 0 or 1, as there is not enough gas to travel to the next station.\n",
    "- Let's start at station 2 and fill up with 4 units of gas. Your tank = 0 + 4 = 4\n",
    "- Travel to station 0. Your tank = 4 - 3 + 2 = 3\n",
    "- Travel to station 1. Your tank = 3 - 3 + 3 = 3\n",
    "- You cannot travel back to station 2, as it requires 4 units of gas but you only have 3.\n",
    "- Therefore, you can't travel back around the circuit once no matter where you start."
   ]
  },
  {
   "cell_type": "code",
   "execution_count": 9,
   "metadata": {},
   "outputs": [
    {
     "name": "stdout",
     "output_type": "stream",
     "text": [
      "Test Case 1:\n",
      "\tResults: 3\n",
      "\tExpected: 3\n",
      "Test Case 2:\n",
      "\tResults: -1\n",
      "\tExpected: -1\n"
     ]
    }
   ],
   "source": [
    "class Solution:\n",
    "    def canCompleteCircuit(self, gas:list[int], cost:list[int]) -> int:\n",
    "        if sum(gas) < sum(cost):\n",
    "            return -1\n",
    "        \n",
    "        running_total = 0\n",
    "        start = 0\n",
    "        for i, v in enumerate(gas):\n",
    "            running_total += v - cost[i]\n",
    "            if running_total < 0:\n",
    "                running_total = 0\n",
    "                start = i + 1\n",
    "        return start\n",
    "\n",
    "def test_testcase(numb:int, gas:list[int], cost:list[int], expected:int):\n",
    "    sol = Solution()\n",
    "    ret = sol.canCompleteCircuit(gas, cost)\n",
    "    print(f\"Test Case {numb}:\")\n",
    "    print(\"\\tResults:\", ret)\n",
    "    assert ret == expected\n",
    "    print(\"\\tExpected:\", expected)\n",
    "\n",
    "test_case_1_gas = [1, 2, 3, 4, 5]\n",
    "test_case_1_cost = [3, 4, 5, 1, 2]\n",
    "test_case_1_expected = 3\n",
    "test_testcase(1, \n",
    "              test_case_1_gas,\n",
    "              test_case_1_cost,\n",
    "              test_case_1_expected)\n",
    "\n",
    "test_case_2_gas = [2, 3, 4]\n",
    "test_case_2_cost = [3, 4, 3]\n",
    "test_case_2_expected = -1\n",
    "test_testcase(2,\n",
    "              test_case_2_gas,\n",
    "              test_case_2_cost,\n",
    "              test_case_2_expected)"
   ]
  }
 ],
 "metadata": {
  "kernelspec": {
   "display_name": "Python 3",
   "language": "python",
   "name": "python3"
  },
  "language_info": {
   "codemirror_mode": {
    "name": "ipython",
    "version": 3
   },
   "file_extension": ".py",
   "mimetype": "text/x-python",
   "name": "python",
   "nbconvert_exporter": "python",
   "pygments_lexer": "ipython3",
   "version": "3.11.9"
  }
 },
 "nbformat": 4,
 "nbformat_minor": 2
}
