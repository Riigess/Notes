{
 "cells": [
  {
   "cell_type": "markdown",
   "metadata": {},
   "source": [
    "# Problem\n",
    "Given an input string s, reverse the order of the words.\n",
    "\n",
    "A word is defined as a sequence of non-space characters. The words in s will be separated by at least one space.\n",
    "\n",
    "Return a string of the words in reverse order concatenated by a single space.\n",
    "\n",
    "Note that s may contain leading or trailing spaces or multiple spaces between two words. The returned string should only have a single space separating the words. Do not include any extra spaces.\n",
    "\n",
    "## Example 1\n",
    "Input: s = \"the sky is blue\"\n",
    "\n",
    "Output: \"blue is sky the\"\n",
    "## Example 2\n",
    "Input: s = \"  hello world  \"\n",
    "\n",
    "Output: \"world hello\"\n",
    "\n",
    "Explanation: Your reversed string should not contain leading or trailing spaces.\n",
    "## Example 3\n",
    "Input: s = \"a good   example\"\n",
    "\n",
    "Output: \"example good a\"\n",
    "\n",
    "Explanation: You need to reduce multiple spaces between two words to a single space in the reversed string."
   ]
  },
  {
   "cell_type": "code",
   "execution_count": 1,
   "metadata": {},
   "outputs": [
    {
     "name": "stdout",
     "output_type": "stream",
     "text": [
      "Test Case 1:\n",
      "\tResults: blue is sky the\n",
      "\tExpected: blue is sky the\n",
      "Test Case 2:\n",
      "\tResults: world hello\n",
      "\tExpected: world hello\n",
      "Test Case 3:\n",
      "\tResults: example good a\n",
      "\tExpected: example good a\n"
     ]
    }
   ],
   "source": [
    "class Solution:\n",
    "    def reverseWords(self, s: str) -> str:\n",
    "        chars = [\"\"]\n",
    "        for i,v in enumerate(s):\n",
    "            if v == ' ' and len(chars[-1]) != 0:\n",
    "                chars.append(\"\")\n",
    "            elif v != ' ':\n",
    "                chars[-1] += v\n",
    "        if len(chars[-1]) == 0:\n",
    "            del chars[-1]\n",
    "        chars.reverse()\n",
    "        return ' '.join(chars)\n",
    "\n",
    "def test_testcase(numb:int, s:str, expected:str):\n",
    "    sol = Solution()\n",
    "    ret = sol.reverseWords(s)\n",
    "    print(f\"Test Case {numb}:\")\n",
    "    print(\"\\tResults:\", ret)\n",
    "    assert ret == expected\n",
    "    print(\"\\tExpected:\", expected)\n",
    "\n",
    "test_case_1_s = \"the sky is blue\"\n",
    "test_case_1_expected = \"blue is sky the\"\n",
    "test_testcase(1,\n",
    "              test_case_1_s,\n",
    "              test_case_1_expected)\n",
    "\n",
    "test_case_2_s = \"  hello world  \"\n",
    "test_case_2_expected = \"world hello\"\n",
    "test_testcase(2,\n",
    "              test_case_2_s,\n",
    "              test_case_2_expected)\n",
    "\n",
    "test_case_3_s = \"a good   example\"\n",
    "test_case_3_expected = \"example good a\"\n",
    "test_testcase(3,\n",
    "              test_case_3_s,\n",
    "              test_case_3_expected)"
   ]
  }
 ],
 "metadata": {
  "kernelspec": {
   "display_name": "Python 3",
   "language": "python",
   "name": "python3"
  },
  "language_info": {
   "codemirror_mode": {
    "name": "ipython",
    "version": 3
   },
   "file_extension": ".py",
   "mimetype": "text/x-python",
   "name": "python",
   "nbconvert_exporter": "python",
   "pygments_lexer": "ipython3",
   "version": "3.11.9"
  }
 },
 "nbformat": 4,
 "nbformat_minor": 2
}
