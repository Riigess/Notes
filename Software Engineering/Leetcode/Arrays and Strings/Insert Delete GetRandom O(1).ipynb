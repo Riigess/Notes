{
 "cells": [
  {
   "cell_type": "markdown",
   "metadata": {},
   "source": [
    "# Problem\n",
    "Implmenet the `RandomizedSet` class:\n",
    "- `RandomizedSet()` Initializes the `RandomizedSet` object.\n",
    "- `bool insert(int val)` Inserts an item `val` into the set if not present. Returns `true` if the item was not present, `false` otherwise\n",
    "- `bool remove(int val)` Removes an item `val` from the set if present. Returns `true` if the item was present, `false` otherwise\n",
    "- `int getRandom()` Returns a random element from the current set of elements (it's guaranteed that at least one element exists when this method is called). Each element must have the same probability of being returned\n",
    "\n",
    "You must implment the functions of the class such that each function works in average `O(1)` time complexity.\n",
    "\n",
    "## Example 1\n",
    "Input:\n",
    "    - [\"RandomizedSet\", \"insert\", \"remove\", \"insert\", \"getRandom\", \"remove\", \"insert\", \"getRandom\"]\n",
    "    - [[], [1], [2], [2], [], [1], [2], []]\n",
    "Output:\n",
    "    - [null, true, false, true, 2, true, false, 2]"
   ]
  },
  {
   "cell_type": "code",
   "execution_count": 2,
   "metadata": {},
   "outputs": [
    {
     "name": "stdout",
     "output_type": "stream",
     "text": [
      "All Assertions passed!\n"
     ]
    }
   ],
   "source": [
    "import random\n",
    "\n",
    "class RandomizedSet:\n",
    "    def __init__(self):\n",
    "        self.set = set()\n",
    "\n",
    "    def insert(self, val: int) -> bool:\n",
    "        is_not_present = val not in self.set\n",
    "        if is_not_present:\n",
    "            self.set.add(val)\n",
    "        return is_not_present\n",
    "\n",
    "    def remove(self, val: int) -> bool:\n",
    "        is_present = val in self.set\n",
    "        if is_present:\n",
    "            self.set.remove(val)\n",
    "        return is_present\n",
    "\n",
    "    def getRandom(self) -> int:\n",
    "        return list(self.set)[random.randint(0, len(self.set)-1)]\n",
    "\n",
    "\n",
    "# Example 1\n",
    "obj = RandomizedSet()\n",
    "ret_1 = obj.insert(1)\n",
    "assert ret_1 == True\n",
    "\n",
    "ret_2 = obj.remove(2)\n",
    "assert ret_2 == False\n",
    "\n",
    "ret_3 = obj.insert(2)\n",
    "assert ret_3 == True\n",
    "\n",
    "ret_4 = obj.getRandom()\n",
    "assert ret_4 == 1 or ret_4 == 2\n",
    "\n",
    "ret_5 = obj.remove(1)\n",
    "assert ret_5 == True\n",
    "\n",
    "ret_6 = obj.insert(2)\n",
    "assert ret_6 == False\n",
    "\n",
    "ret_7 = obj.getRandom()\n",
    "assert ret_7 == 2\n",
    "\n",
    "print(\"All Assertions passed!\")"
   ]
  }
 ],
 "metadata": {
  "kernelspec": {
   "display_name": "Python 3",
   "language": "python",
   "name": "python3"
  },
  "language_info": {
   "codemirror_mode": {
    "name": "ipython",
    "version": 3
   },
   "file_extension": ".py",
   "mimetype": "text/x-python",
   "name": "python",
   "nbconvert_exporter": "python",
   "pygments_lexer": "ipython3",
   "version": "3.11.9"
  }
 },
 "nbformat": 4,
 "nbformat_minor": 2
}
