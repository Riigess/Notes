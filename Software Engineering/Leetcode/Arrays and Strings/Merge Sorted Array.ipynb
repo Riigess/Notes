{
 "cells": [
  {
   "cell_type": "markdown",
   "metadata": {},
   "source": [
    "# Introduction\n",
    "Problem at hand: we have two lists of integers (a and b) that are sorted and that we would like to merge together.\n",
    "\n",
    "## Parameters\n",
    "- m is the number of values from list a we want in the final list (a) as a result\n",
    "- n is the number of values from list b we want in the final list (a) as a result\n",
    "- m + n == len(a)\n",
    "- n == len(b)\n",
    "- 1 <= m + n <= 200\n",
    "- 0 <= m, n <= 200"
   ]
  },
  {
   "cell_type": "code",
   "execution_count": 1,
   "metadata": {},
   "outputs": [],
   "source": [
    "test_case_1_a = [1,2,3,0,0,0]\n",
    "test_case_1_m = 3\n",
    "test_case_1_b = [2,5,6]\n",
    "test_case_1_n = 3\n",
    "\n",
    "test_case_2_a = [1]\n",
    "test_case_2_m = 1\n",
    "test_case_2_b = []\n",
    "test_case_2_n = 0\n",
    "\n",
    "test_case_3_a = [0]\n",
    "test_case_3_m = 0\n",
    "test_case_3_b = [1]\n",
    "test_case_3_n = 1"
   ]
  },
  {
   "cell_type": "markdown",
   "metadata": {},
   "source": [
    "## Solution\n",
    "We iterate through nums1 given that that is the total size of the array. Inherently, len(nums1) == m+n, which means that this algorithm currently has O(m+n) runtime before returning and currently creates additional overhead of 1 variable (temp). However, due to a nums2.sort() call this does make this O(m+(n^2)) runtime which would be nice to reduce down to O(m+2n) if possible.\n",
    "\n",
    "### Explain what we're doing\n",
    "- The temp variable is used to temporarily store values from nums1 when moving in values from nums2 (we can manually add these in to nums2 wherever we can find a slot later)\n",
    "- if we are not expecting to move anything over from nums2, then simply don't do that, and return from the function\n",
    "- Otherwise, let's proceed by iterating through nums1\n",
    "    - If nums1[i] is a larger number than nums2[0], AND i < m (meaning that we haven't iterated past the boundary we're setting for nums1)\n",
    "        - Store nums2[0] in temp\n",
    "        - Move nums2[0] to nums1[i]\n",
    "        - append temp to the end of nums2\n",
    "        - Remove nums2[0]\n",
    "        - Then sort the list\n",
    "    - Else If i >= m and len(nums2) > 0 (this should lend itself to if only values that are in nums2 are remaining)\n",
    "        - Move the first value from nums2 over\n",
    "        - Delete the first element from the nums2 list"
   ]
  },
  {
   "cell_type": "code",
   "execution_count": 2,
   "metadata": {},
   "outputs": [],
   "source": [
    "class Solution:\n",
    "    def merge(self, nums1:list[int], m:int, nums2:list[int], n:int) -> None:\n",
    "        temp = 0\n",
    "        if n == 0:\n",
    "            return\n",
    "        for i in range(len(nums1)): #len(nums1) == m + n\n",
    "            if nums1[i] > nums2[0] and i < m:\n",
    "                temp = nums1[i]\n",
    "                nums1[i] = nums2[0]\n",
    "                nums2.append(temp)\n",
    "                del nums2[0]\n",
    "                nums2.sort()\n",
    "            elif i > m - 1 and len(nums2) > 0:\n",
    "                nums1[i] = nums2[0]\n",
    "                del nums2[0]"
   ]
  },
  {
   "cell_type": "markdown",
   "metadata": {},
   "source": [
    "## Tests\n",
    "At the beginning, we created test cases (test_case_1, test_case_2, test_case_3). Now it's time to actually use those cases and build some generic tests against the results of each part of the code.\n",
    "\n",
    "test_case_1 should have an output of `[1,2,2,3,5,6]` so we test that against test_case_1_a - where we should have moved everything to in the Solution object above.\n",
    "\n",
    "test_case_2 should have an output of `[1]`.\n",
    "\n",
    "test_case_3 should also have an output of `[1]`.\n",
    "\n",
    "test_case_2 and test_case_3 should have the same result because our cases here are testing if we can move everything to list a regardless of the initial size of each list a. As long as that is completed successfully, then we can write this down as successful and completed. :)"
   ]
  },
  {
   "cell_type": "code",
   "execution_count": 3,
   "metadata": {},
   "outputs": [
    {
     "name": "stdout",
     "output_type": "stream",
     "text": [
      "Output to Test Case 1: [1, 2, 2, 3, 5, 6]\n",
      "\n",
      "Test Case 2:\n",
      "Output to Test Case 2: [1]\n",
      "\n",
      "Test Case 3:\n",
      "Output to Test Case 3: [1]\n"
     ]
    }
   ],
   "source": [
    "#Setup\n",
    "sol = Solution()\n",
    "\n",
    "#test_case_1\n",
    "sol.merge(test_case_1_a, test_case_1_m, test_case_1_b, test_case_1_n)\n",
    "print(\"Output to Test Case 1:\", test_case_1_a)\n",
    "assert test_case_1_a == [1,2,2,3,5,6]\n",
    "\n",
    "#test_case_2\n",
    "print(\"\\nTest Case 2:\")\n",
    "sol.merge(test_case_2_a, test_case_2_m, test_case_2_b, test_case_2_n)\n",
    "print(\"Output to Test Case 2:\", test_case_2_a)\n",
    "assert test_case_2_a == [1]\n",
    "\n",
    "#test_case_3\n",
    "print(\"\\nTest Case 3:\")\n",
    "sol.merge(test_case_3_a, test_case_3_m, test_case_3_b, test_case_3_n)\n",
    "print(\"Output to Test Case 3:\", test_case_3_a)\n",
    "assert test_case_3_a == [1]"
   ]
  }
 ],
 "metadata": {
  "kernelspec": {
   "display_name": "Python 3",
   "language": "python",
   "name": "python3"
  },
  "language_info": {
   "codemirror_mode": {
    "name": "ipython",
    "version": 3
   },
   "file_extension": ".py",
   "mimetype": "text/x-python",
   "name": "python",
   "nbconvert_exporter": "python",
   "pygments_lexer": "ipython3",
   "version": "3.11.9"
  }
 },
 "nbformat": 4,
 "nbformat_minor": 2
}
