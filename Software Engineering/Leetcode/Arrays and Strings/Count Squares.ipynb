{
 "cells": [
  {
   "cell_type": "markdown",
   "metadata": {},
   "source": [
    "# Problem\n",
    "\n",
    "You are given a stream o fpoints consisting of x-y coordinates on a 2-D plane. Points can be added and queried as follows:\n",
    "- Add - new points can be added to the stream into a data structure. Duplicate points are allowed and should be treated as separate points\n",
    "- Query - Given a single query pooint, count the number of ways to choose three additional points from the data structure such that the three points and the query point form a square. The square must have all sides parallel to the x-axis and y-axis, i.e. no diagonal squares are allowed. Recall that a square must have equal sides.\n",
    "\n",
    "Implement the `CountSquares` class:\n",
    "- `CountSquares()` Initializes the object\n",
    "- `void add(int[] point)` adds a new point `point = [x,y]`\n",
    "- `int count(int[] point)` Counts the number of ways to form valid squares with point `point = [x,y]` as described above\n",
    "\n",
    "## Example 1\n",
    "![](https://imagedelivery.net/CLfkmk9Wzy8_9HRyug4EVA/4ff69d9c-cd7d-43fa-bad1-e718fc207600/public)\n",
    "\n",
    "Input: [\"CountSquares\", \"add\", [[1,1]], \"add\", [[2,2]], \"add\", [[1,2]], \"count\", [[2, 1]], \"count\", [[3, 3]], \"add\", [[2, 2]], \"count\", [[2, 1]]]\n",
    "       \n",
    "Output:\n",
    "[null, null, null, null, 1, 0, null, 2]\n",
    "\n",
    "### Explanation\n",
    "CountSquares countSquares = new CountSquares();\n",
    "countSquares.add([1, 1]);\n",
    "countSquares.add([2, 2]);\n",
    "countSquares.add([1, 2]);\n",
    "\n",
    "countSquares.count([2, 1]);   // return 1.\n",
    "countSquares.count([3, 3]);   // return 0.\n",
    "countSquares.add([2, 2]);     // Duplicate points are allowed.\n",
    "countSquares.count([2, 1]);   // return 2. "
   ]
  },
  {
   "cell_type": "code",
   "execution_count": 2,
   "metadata": {},
   "outputs": [
    {
     "name": "stdout",
     "output_type": "stream",
     "text": [
      "COUNT 1: 1\n",
      "COUNT 2: 0\n",
      "COUNT 3: 2\n"
     ]
    }
   ],
   "source": [
    "from collections import defaultdict\n",
    "\n",
    "class CountSquares:\n",
    "    def __init__(self):\n",
    "        self.pts_count = defaultdict(int)\n",
    "        self.pts = []\n",
    "\n",
    "    def add(self, point: list[int]) -> None:\n",
    "        self.pts_count[tuple(point)] += 1\n",
    "        self.pts.append(point)\n",
    "\n",
    "    def count(self, point: list[int]) -> int:\n",
    "        res = 0\n",
    "        px, py = point\n",
    "        for x, y in self.pts:\n",
    "            if abs(py - y) != abs(px - x) or x == px or y == py:\n",
    "                continue\n",
    "            res += self.pts_count[(x, py)] * self.pts_count[(px, y)]\n",
    "        return res\n",
    "\n",
    "# Test Case #1 - [\"CountSquares\", \"add\", [[1, 1]], \"add\", [[2, 2]], \"add\", [[1, 2]], \"count\", [[2, 1]], \"count\", [[3, 3]], \"add\", [[2, 2]], \"count\", [[2, 1]]]\n",
    "cs = CountSquares()\n",
    "cs.add([1,1])\n",
    "cs.add([2,2])\n",
    "cs.add([1,2])\n",
    "print(\"COUNT 1:\", cs.count([2,1]))\n",
    "print(\"COUNT 2:\", cs.count([3,3]))\n",
    "cs.add([2,2])\n",
    "print(\"COUNT 3:\", cs.count([2,1]))"
   ]
  }
 ],
 "metadata": {
  "kernelspec": {
   "display_name": "Python 3",
   "language": "python",
   "name": "python3"
  },
  "language_info": {
   "codemirror_mode": {
    "name": "ipython",
    "version": 3
   },
   "file_extension": ".py",
   "mimetype": "text/x-python",
   "name": "python",
   "nbconvert_exporter": "python",
   "pygments_lexer": "ipython3",
   "version": "3.11.9"
  }
 },
 "nbformat": 4,
 "nbformat_minor": 2
}
