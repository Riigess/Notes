{
 "cells": [
  {
   "cell_type": "code",
   "execution_count": 4,
   "metadata": {},
   "outputs": [
    {
     "name": "stdout",
     "output_type": "stream",
     "text": [
      "Test Case 1:\n",
      "\tReturned: False\n",
      "\tExpected: False\n"
     ]
    }
   ],
   "source": [
    "class Solution:\n",
    "    def checkValidString(self, s: str) -> bool:\n",
    "        a = []\n",
    "        for i in range(len(s)):\n",
    "            if s[i] == '(':\n",
    "                a.append(')')\n",
    "            elif s[i] == '{':\n",
    "                a.append('}')\n",
    "            elif s[i] == '[':\n",
    "                a.append(']')\n",
    "            elif s[i] == ']':\n",
    "                if len(a) > 0 and (a[-1] == ']' or a[-1] == '*'):\n",
    "                    del a[-1]\n",
    "                else:\n",
    "                    return False\n",
    "            elif s[i] == '}':\n",
    "                if len(a) > 0 and (a[-1] == '}' or a[-1] == '*'):\n",
    "                    del a[-1]\n",
    "                else:\n",
    "                    return False\n",
    "            elif s[i] == ')':\n",
    "                if len(a) > 0 and (a[-1] == ')' or a[-1] == '*'):\n",
    "                    del a[-1]\n",
    "                else:\n",
    "                    return False\n",
    "            elif s[i] == '*':\n",
    "                a.append('*')\n",
    "        return len(a) == 0\n",
    "\n",
    "def test_testcase(s:str, expected:bool, numb:int):\n",
    "    sol = Solution()\n",
    "    ret = sol.checkValidString(s)\n",
    "    print(f\"Test Case {numb}:\")\n",
    "    print(\"\\tReturned:\", ret)\n",
    "    assert ret == expected\n",
    "    print(\"\\tExpected:\", expected)\n",
    "\n",
    "test_case_1_s = \"(((((*(()((((*((**(((()()*)()()()*((((**)())*)*)))))))(())(()))())((*()()(((()((()*(())*(()**)()(())\"\n",
    "test_testcase(test_case_1_s, False, 1)"
   ]
  }
 ],
 "metadata": {
  "kernelspec": {
   "display_name": "Python 3",
   "language": "python",
   "name": "python3"
  },
  "language_info": {
   "codemirror_mode": {
    "name": "ipython",
    "version": 3
   },
   "file_extension": ".py",
   "mimetype": "text/x-python",
   "name": "python",
   "nbconvert_exporter": "python",
   "pygments_lexer": "ipython3",
   "version": "3.11.9"
  }
 },
 "nbformat": 4,
 "nbformat_minor": 2
}
