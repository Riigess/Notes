{
 "cells": [
  {
   "cell_type": "markdown",
   "metadata": {},
   "source": [
    "# Problem\n",
    "Given n non-negative integers representing an elevation map where the width of each bar is 1, compute how much water it can trap after raining.\n",
    "\n",
    "## Example 1\n",
    "Input: height = [0, 1, 0, 2, 1, 0, 1, 3, 2, 1, 2, 1]\n",
    "\n",
    "Output: 6\n",
    "\n",
    "Explanation: The above elevation map (black section) is represented by array [0,1,0,2,1,0,1,3,2,1,2,1]. In this case, 6 units of rain water (blue section) are being trapped."
   ]
  },
  {
   "cell_type": "markdown",
   "metadata": {},
   "source": [
    "## Solution\n",
    "- We want to return 0 if height is initialized as None or of length 0\n",
    "- If not, then\n",
    "    - set left and right to either end of the height list\n",
    "    - set left_max and right_max to the value of either end of the height list\n",
    "    - set a total to 0 to use to track our progress through the code\n",
    "\n",
    "    - while left and right have not crossed paths\n",
    "        - if the left_max value (left wall) is less than the right_max (right wall)\n",
    "            - increment the left position by 1\n",
    "            - set left_max to the greater between left_max and the value of height at the left position\n",
    "            - add the difference of left_max and height[left] to total\n",
    "        - else\n",
    "            - move the right pointer closer to zero (moved by -1)\n",
    "            - set right_max to the greater between right_max and the value of height at the right position\n",
    "            - add the difference of right_max and height[right] to total\n",
    "    - return total"
   ]
  },
  {
   "cell_type": "code",
   "execution_count": 3,
   "metadata": {},
   "outputs": [],
   "source": [
    "class Solution:\n",
    "    def trap(self, height:list[int]) -> int:\n",
    "        if not height:\n",
    "            return 0\n",
    "        l, r = 0, len(height) - 1\n",
    "        left_max, right_max = height[l], height[r]\n",
    "        total = 0\n",
    "\n",
    "        while l < r:\n",
    "            if left_max < right_max:\n",
    "                l += 1\n",
    "                left_max = max(left_max, height[l])\n",
    "                total += left_max - height[l]\n",
    "            else:\n",
    "                r -= 1\n",
    "                right_max = max(right_max, height[r])\n",
    "                total += right_max - height[r]\n",
    "        return total\n"
   ]
  },
  {
   "cell_type": "markdown",
   "metadata": {},
   "source": []
  },
  {
   "cell_type": "code",
   "execution_count": 4,
   "metadata": {},
   "outputs": [],
   "source": [
    "\n",
    "def test_testcase(numb:int, height:list[int], expected:int):\n",
    "    sol = Solution()\n",
    "    ret = sol.trap(height)\n",
    "    print(f\"Test Case {numb}:\")\n",
    "    print(\"\\tResult:\", ret)\n",
    "    assert ret == expected\n",
    "    print(\"\\tExpected:\", expected)\n"
   ]
  },
  {
   "cell_type": "code",
   "execution_count": 5,
   "metadata": {},
   "outputs": [
    {
     "name": "stdout",
     "output_type": "stream",
     "text": [
      "Test Case 1:\n",
      "\tResult: 6\n",
      "\tExpected: 6\n",
      "Test Case 2:\n",
      "\tResult: 9\n",
      "\tExpected: 9\n"
     ]
    }
   ],
   "source": [
    "\n",
    "test_case_1_height = [0, 1, 0, 2, 1, 0, 1, 3, 2, 1, 2, 1]\n",
    "test_case_1_expected = 6\n",
    "test_testcase(1, test_case_1_height, test_case_1_expected)\n",
    "\n",
    "test_case_2_height = [4, 2, 0, 3, 2, 5]\n",
    "test_case_2_expected = 9\n",
    "test_testcase(2, test_case_2_height, test_case_2_expected)\n"
   ]
  }
 ],
 "metadata": {
  "kernelspec": {
   "display_name": "Python 3",
   "language": "python",
   "name": "python3"
  },
  "language_info": {
   "codemirror_mode": {
    "name": "ipython",
    "version": 3
   },
   "file_extension": ".py",
   "mimetype": "text/x-python",
   "name": "python",
   "nbconvert_exporter": "python",
   "pygments_lexer": "ipython3",
   "version": "3.11.9"
  }
 },
 "nbformat": 4,
 "nbformat_minor": 2
}
