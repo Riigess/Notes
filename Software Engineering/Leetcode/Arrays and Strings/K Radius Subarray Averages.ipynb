{
 "cells": [
  {
   "cell_type": "markdown",
   "metadata": {},
   "source": [
    "# Problem\n",
    "You are given a 0-indexed array `nums` of `n` integers, and an integer `k`.\n",
    "\n",
    "The k-radius average for a subarray of `nums` centered at some index `i` with the radius `k` is the average of all elements in `nums` between the indices `i - k` and `i + k` (inclusive). If there are less than `k` elements before or after the index `i`, then the k-radius average is `-1`.\n",
    "\n",
    "Build and return an array avgs of length `n` where `avgs[i]` is the k-radius average for the subarray centered at index `i`.\n",
    "\n",
    "The average of `x` elements is the sum of the `x` elements divided by `x`, using integer division. The integer division truncates toward `zero`, which means losing its fractional part.\n",
    "\n",
    "For example, the average of four elements `2, 3, 1, and 5` is `(2 + 3 + 1 + 5) / 4 = 11 / 4 = 2.75`, which truncates to `2`.\n",
    "\n",
    "## Example 1\n",
    "![](https://assets.leetcode.com/uploads/2021/11/07/eg1.png)\n",
    "\n",
    "Input: nums = [7,4,3,9,1,8,5,2,6], k = 3\n",
    "\n",
    "Output: [-1,-1,-1,5,4,4,-1,-1,-1]\n",
    "\n",
    "Explanation:\n",
    "- avg[0], avg[1], and avg[2] are -1 because there are less than k elements before each index.\n",
    "- The sum of the subarray centered at index 3 with radius 3 is: 7 + 4 + 3 + 9 + 1 + 8 + 5 = 37.\n",
    "  Using integer division, avg[3] = 37 / 7 = 5.\n",
    "- For the subarray centered at index 4, avg[4] = (4 + 3 + 9 + 1 + 8 + 5 + 2) / 7 = 4.\n",
    "- For the subarray centered at index 5, avg[5] = (3 + 9 + 1 + 8 + 5 + 2 + 6) / 7 = 4.\n",
    "- avg[6], avg[7], and avg[8] are -1 because there are less than k elements after each index.\n",
    "## Example 2\n",
    "\n",
    "Input: nums = [100000], k = 0\n",
    "\n",
    "Output: [100000]\n",
    "\n",
    "Explanation:\n",
    "- The sum of the subarray centered at index 0 with radius 0 is: 100000.\n",
    "  avg[0] = 100000 / 1 = 100000.\n",
    "## Example 3\n",
    "\n",
    "Input: nums = [8], k = 100000\n",
    "\n",
    "Output: [-1]\n",
    "\n",
    "Explanation: \n",
    "- avg[0] is -1 because there are less than k elements before and after index 0."
   ]
  },
  {
   "cell_type": "code",
   "execution_count": 2,
   "metadata": {},
   "outputs": [],
   "source": [
    "class Solution:\n",
    "    def getAverages(self, nums: list[int], k: int) -> list[int]:\n",
    "        n = len(nums)\n",
    "        ans = [-1] * n\n",
    "        r = 2*k + 1\n",
    "        if r > n:\n",
    "            return ans\n",
    "        s = 0\n",
    "        for i in range(r):\n",
    "            s+=nums[i]\n",
    "        span = k+k+1-n  # -n so wo dont have to deal with last iteration \n",
    "        for i in range(n-k-k):\n",
    "            ans[i+k] = s // r\n",
    "            s += nums[i+span] - nums[i]\n",
    "        return ans"
   ]
  },
  {
   "cell_type": "code",
   "execution_count": 3,
   "metadata": {},
   "outputs": [],
   "source": [
    "def test_testcase(numb:int, nums:list[int], k:int, expected:list[int]):\n",
    "    sol = Solution()\n",
    "    ret = sol.getAverages(nums, k)\n",
    "    print(f\"Test Case {numb}:\")\n",
    "    print(\"\\tResults:\", ret)\n",
    "    assert ret == expected\n",
    "    print(\"\\tExpected:\", expected)"
   ]
  },
  {
   "cell_type": "code",
   "execution_count": 4,
   "metadata": {},
   "outputs": [
    {
     "name": "stdout",
     "output_type": "stream",
     "text": [
      "Test Case 1:\n",
      "\tResults: [-1, -1, -1, 5, 4, 4, -1, -1, -1]\n",
      "\tExpected: [-1, -1, -1, 5, 4, 4, -1, -1, -1]\n",
      "Test Case 2:\n",
      "\tResults: [-1]\n",
      "\tExpected: [-1]\n",
      "Test Case 3:\n",
      "\tResults: [100000]\n",
      "\tExpected: [100000]\n"
     ]
    }
   ],
   "source": [
    "test_case_1_nums = [7, 4, 3, 9, 1, 8, 5, 2, 6]\n",
    "test_case_1_k = 3\n",
    "test_case_1_expected = [-1,-1,-1,5,4,4,-1,-1,-1]\n",
    "test_testcase(1,\n",
    "              test_case_1_nums,\n",
    "              test_case_1_k,\n",
    "              test_case_1_expected)\n",
    "\n",
    "test_case_2_nums = [8]\n",
    "test_case_2_k = 100000\n",
    "test_case_2_expected = [-1]\n",
    "test_testcase(2,\n",
    "              test_case_2_nums,\n",
    "              test_case_2_k,\n",
    "              test_case_2_expected)\n",
    "\n",
    "test_case_3_nums = [100000]\n",
    "test_case_3_k = 0\n",
    "test_case_3_expected = [100000]\n",
    "test_testcase(3,\n",
    "              test_case_3_nums,\n",
    "              test_case_3_k,\n",
    "              test_case_3_expected)"
   ]
  }
 ],
 "metadata": {
  "kernelspec": {
   "display_name": "Python 3",
   "language": "python",
   "name": "python3"
  },
  "language_info": {
   "codemirror_mode": {
    "name": "ipython",
    "version": 3
   },
   "file_extension": ".py",
   "mimetype": "text/x-python",
   "name": "python",
   "nbconvert_exporter": "python",
   "pygments_lexer": "ipython3",
   "version": "3.11.9"
  }
 },
 "nbformat": 4,
 "nbformat_minor": 2
}
