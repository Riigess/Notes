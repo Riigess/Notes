{
 "cells": [
  {
   "cell_type": "code",
   "execution_count": null,
   "metadata": {},
   "outputs": [],
   "source": [
    "class Solution:\n",
    "    def findMaxConsecutiveOnes(self, nums: List[int]) -> int:\n",
    "        potent = 0\n",
    "        longest = 0\n",
    "        for i,v in enumerate(nums):\n",
    "            if v == 1:\n",
    "                potent += 1\n",
    "            else:\n",
    "                potent = 0\n",
    "            if potent > longest:\n",
    "                longest = potent\n",
    "        return longest"
   ]
  }
 ],
 "metadata": {
  "language_info": {
   "name": "python"
  }
 },
 "nbformat": 4,
 "nbformat_minor": 2
}
