{
 "cells": [
  {
   "cell_type": "markdown",
   "metadata": {},
   "source": [
    "# Problem\n",
    "Given an array `nums` of size`n`, return the majority element.\n",
    "\n",
    "The majority element is the element that appears in more than `[n / 2]` times. You may assume that the majority element always exists in the array."
   ]
  },
  {
   "cell_type": "code",
   "execution_count": 1,
   "metadata": {},
   "outputs": [],
   "source": [
    "class Solution:\n",
    "    def majorityElement(self, nums: list[int]) -> int:\n",
    "        nums.sort()\n",
    "        n = len(nums)\n",
    "        return nums[n // 2]\n",
    "    \n",
    "sol = Solution()"
   ]
  },
  {
   "cell_type": "code",
   "execution_count": 2,
   "metadata": {},
   "outputs": [
    {
     "name": "stdout",
     "output_type": "stream",
     "text": [
      "Test Case 1:\n",
      "\tTest Case: [3, 2, 3]\n",
      "\tResults: 3\n"
     ]
    }
   ],
   "source": [
    "test_case_1 = [3, 2, 3]\n",
    "element = sol.majorityElement(test_case_1)\n",
    "print(\"Test Case 1:\")\n",
    "assert element == 3\n",
    "print(\"\\tTest Case: [3, 2, 3]\")\n",
    "print(\"\\tResults:\", element)"
   ]
  },
  {
   "cell_type": "code",
   "execution_count": 3,
   "metadata": {},
   "outputs": [
    {
     "name": "stdout",
     "output_type": "stream",
     "text": [
      "Test Case 2:\n",
      "\tTest Case: [2, 2, 1, 1, 1, 2, 2]\n",
      "\tResults: 2\n"
     ]
    }
   ],
   "source": [
    "\n",
    "test_case_2 = [2, 2, 1, 1, 1, 2, 2]\n",
    "element = sol.majorityElement(test_case_2)\n",
    "print(\"Test Case 2:\")\n",
    "assert element == 2\n",
    "print(\"\\tTest Case:\", [2, 2, 1, 1, 1, 2, 2])\n",
    "print(\"\\tResults:\", element)"
   ]
  }
 ],
 "metadata": {
  "kernelspec": {
   "display_name": "Python 3",
   "language": "python",
   "name": "python3"
  },
  "language_info": {
   "codemirror_mode": {
    "name": "ipython",
    "version": 3
   },
   "file_extension": ".py",
   "mimetype": "text/x-python",
   "name": "python",
   "nbconvert_exporter": "python",
   "pygments_lexer": "ipython3",
   "version": "3.11.9"
  }
 },
 "nbformat": 4,
 "nbformat_minor": 2
}
