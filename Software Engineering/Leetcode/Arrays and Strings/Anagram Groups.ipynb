{
 "cells": [
  {
   "cell_type": "markdown",
   "metadata": {},
   "source": [
    "# Problem\n",
    "Given an array of strings `strs`, group all *anagrams* together into sublists. You may return the output in **any order**.\n",
    "\n",
    "An **anagram** is a string that contains the exact same characters as another string, but the order of the characters can be different.\n",
    "\n",
    "## Example 1\n",
    "Input: strs = [\"act\", \"pots\", \"tops\", \"cat\", \"stop\", \"hat\"]\n",
    "\n",
    "output: [[\"hat\"], [\"act\", \"cat\"], [\"stop\", \"pots\", \"tops\"]]\n",
    "\n",
    "## Example 2\n",
    "Input: strs = [\"x\"]\n",
    "\n",
    "output: [[\"x\"]]\n",
    "\n",
    "## Example 3\n",
    "Input: strs = [\"\"]\n",
    "\n",
    "output: [[\"\"]]\n",
    "\n",
    "## Constraints\n",
    "- `1 <= strs.length <= 1000`\n",
    "- `0 <= strs[i].length <= 100`\n",
    "- `strs[i]` is made up of lowercase English letters"
   ]
  },
  {
   "cell_type": "code",
   "execution_count": null,
   "metadata": {},
   "outputs": [],
   "source": [
    "from collections import defaultdict #ex. https://docs.python.org/3/library/collections.html#defaultdict-examples\n",
    "\n",
    "class Solution:\n",
    "    def __init__(self, strs:list[str]) -> list[list[str]]:\n",
    "        res = defaultdict(list)\n",
    "        for s in strs:\n",
    "            count = [0] * 26\n",
    "            for c in s:\n",
    "                count[ord(c) - ord('a')] += 1 #Converting character to int (ascii table conversion - ex.'a' == 98, 'b' == 99)\n",
    "            res[tuple(count)].append(s) #Using tuple so Python can hash that\n",
    "        return res.values() #Returns an array of only the values in the dict"
   ]
  }
 ],
 "metadata": {
  "language_info": {
   "name": "python"
  }
 },
 "nbformat": 4,
 "nbformat_minor": 2
}
