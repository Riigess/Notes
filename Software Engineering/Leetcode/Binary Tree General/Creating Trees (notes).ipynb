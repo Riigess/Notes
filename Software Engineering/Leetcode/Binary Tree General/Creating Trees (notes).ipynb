{
 "cells": [
  {
   "cell_type": "code",
   "execution_count": 1,
   "metadata": {},
   "outputs": [],
   "source": [
    "class TreeNode:\n",
    "    def __init__(self, val=0, left=None, right=None):\n",
    "        self.val = val\n",
    "        self.left = left\n",
    "        self.right = right\n",
    "\n",
    "tree = TreeNode(val=1)\n",
    "#Build left path first\n",
    "tree.left = TreeNode(val=2)\n",
    "tree.left.left = TreeNode(val=4)\n",
    "tree.left.right = TreeNode(val=5)\n",
    "#Build right path last\n",
    "tree.right = TreeNode(val=3)\n",
    "tree.right.left = TreeNode(val=6)\n",
    "tree.right.right = TreeNode(val=7)"
   ]
  },
  {
   "cell_type": "markdown",
   "metadata": {},
   "source": [
    "# Preorder Tree Traversal\n",
    "![](https://media.geeksforgeeks.org/wp-content/uploads/20240429124832/Inorder-Traversal-of-Binary-Tree.webp)"
   ]
  },
  {
   "cell_type": "code",
   "execution_count": 2,
   "metadata": {},
   "outputs": [
    {
     "name": "stdout",
     "output_type": "stream",
     "text": [
      "[1, 2, 4, 5, 3, 6, 7]\n"
     ]
    }
   ],
   "source": [
    "def preorder_traversal(root:TreeNode) -> list[int]:\n",
    "    ret = []\n",
    "    if root != None:\n",
    "        ret.append(root.val)\n",
    "        ret += preorder_traversal(root.left) + preorder_traversal(root.right)\n",
    "    return ret\n",
    "\n",
    "print(preorder_traversal(tree))"
   ]
  },
  {
   "cell_type": "markdown",
   "metadata": {},
   "source": [
    "# Postorder Traversal\n",
    "![](https://media.geeksforgeeks.org/wp-content/uploads/20240429125100/Postorder-Traversal-of-Binary-Tree.webp)"
   ]
  },
  {
   "cell_type": "code",
   "execution_count": 6,
   "metadata": {},
   "outputs": [
    {
     "name": "stdout",
     "output_type": "stream",
     "text": [
      "[4, 5, 2, 6, 7, 3, 1]\n"
     ]
    }
   ],
   "source": [
    "def postorder_traversal(root:TreeNode) -> list[int]:\n",
    "    ret = []\n",
    "    if root != None:\n",
    "        ret += postorder_traversal(root.left)\n",
    "        ret += postorder_traversal(root.right)\n",
    "        ret.append(root.val)\n",
    "    return ret\n",
    "\n",
    "print(postorder_traversal(tree))"
   ]
  },
  {
   "cell_type": "markdown",
   "metadata": {},
   "source": [
    "# Level Order Traversal\n",
    "![](https://media.geeksforgeeks.org/wp-content/uploads/20240429134701/Level-Order-Traversal-of-Binary-Tree.webp)"
   ]
  },
  {
   "cell_type": "code",
   "execution_count": 9,
   "metadata": {},
   "outputs": [
    {
     "name": "stdout",
     "output_type": "stream",
     "text": [
      "[1, 2, 3, 4, 5, 6, 7]\n"
     ]
    }
   ],
   "source": [
    "from collections import deque\n",
    "\n",
    "def levelorder_traversal(root:TreeNode) -> list[int]:\n",
    "    ret = []\n",
    "    q = deque()\n",
    "    q.append(root)\n",
    "    while len(q) > 0:\n",
    "        cur = q.popleft() #In Java this is .poll()\n",
    "        ret.append(cur.val)\n",
    "        if cur.left != None:\n",
    "            q.append(cur.left)\n",
    "        if cur.right != None:\n",
    "            q.append(cur.right)\n",
    "    return ret\n",
    "\n",
    "print(levelorder_traversal(tree))"
   ]
  },
  {
   "cell_type": "markdown",
   "metadata": {},
   "source": [
    "# In Order Traversal\n",
    "![](https://media.geeksforgeeks.org/wp-content/uploads/20240429124538/Preorder-Traversal-of-Binary-Tree.webp)"
   ]
  },
  {
   "cell_type": "code",
   "execution_count": 10,
   "metadata": {},
   "outputs": [
    {
     "name": "stdout",
     "output_type": "stream",
     "text": [
      "[4, 2, 5, 1, 6, 3, 7]\n"
     ]
    }
   ],
   "source": [
    "def inorder_traversal(root:TreeNode) -> list[int]:\n",
    "    ret = []\n",
    "    if root != None:\n",
    "        ret += inorder_traversal(root.left)\n",
    "        ret.append(root.val)\n",
    "        ret += inorder_traversal(root.right)\n",
    "    return ret\n",
    "\n",
    "print(inorder_traversal(tree))"
   ]
  },
  {
   "cell_type": "markdown",
   "metadata": {},
   "source": [
    "# Automating the Creation of Trees\n"
   ]
  },
  {
   "cell_type": "code",
   "execution_count": null,
   "metadata": {},
   "outputs": [],
   "source": [
    "a = [1, 2, 3, 4, 5, 6, 7]\n",
    "class ListNode:\n",
    "    def __init__(self, val=0, next=None):\n",
    "        self.val = val\n",
    "        self.next = next\n",
    "\n",
    "def create_linked_list(b:list) -> ListNode:\n",
    "    root = ListNode()\n",
    "    cur = root\n",
    "    for i in b:\n",
    "        cur.next = ListNode(val=i)\n",
    "        cur = cur.next\n",
    "    return root.next\n",
    "\n",
    "def create_levelorder_tree(b:ListNode) -> TreeNode:\n",
    "    if b == None:\n",
    "        return None\n",
    "    root = TreeNode(val=b.val)\n",
    "    cur\n",
    "    while \n",
    "    return root\n",
    "\n",
    "tree = create_levelorder_tree(create_levelorder_tree(a))"
   ]
  }
 ],
 "metadata": {
  "kernelspec": {
   "display_name": "Python 3",
   "language": "python",
   "name": "python3"
  },
  "language_info": {
   "codemirror_mode": {
    "name": "ipython",
    "version": 3
   },
   "file_extension": ".py",
   "mimetype": "text/x-python",
   "name": "python",
   "nbconvert_exporter": "python",
   "pygments_lexer": "ipython3",
   "version": "3.11.9"
  }
 },
 "nbformat": 4,
 "nbformat_minor": 2
}
