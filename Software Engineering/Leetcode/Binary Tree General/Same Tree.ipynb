{
 "cells": [
  {
   "cell_type": "code",
   "execution_count": null,
   "metadata": {},
   "outputs": [],
   "source": [
    "class TreeNode:\n",
    "    def __init__(self, val=0, left=None, right=None):\n",
    "        self.val = val\n",
    "        self.left = left\n",
    "        self.right = right\n",
    "\n",
    "from typing import Optional\n",
    "class Solution:\n",
    "    def isSameTree(self, p: Optional[TreeNode], q: Optional[TreeNode]) -> bool:\n",
    "        if p == None and q == None:\n",
    "            return True\n",
    "        elif p == None and q != None:\n",
    "            return False\n",
    "        elif p != None and q == None:\n",
    "            return False\n",
    "        return p.val == q.val and self.isSameTree(p.left, q.left) and self.isSameTree(p.right, q.right)\n",
    "\n",
    "def test_testcase(numb:int, p:TreeNode, q:TreeNode, expected:bool);\n",
    "    sol = Solution()\n",
    "    ret = sol.isSameTree(p, q)\n",
    "    print(f\"Test Case {numb}:\")\n",
    "    print(\"\\tResult:\", ret)\n",
    "    assert ret == expected\n",
    "    print(\"\\tExpected:\", expected)\n",
    "\n",
    "def convert_list_to_node(l:list[int]) -> TreeNode:\n",
    "    root = TreeNode(val=l)\n",
    "    \n",
    "    return root\n",
    "\n",
    "test_case_1_p = "
   ]
  }
 ],
 "metadata": {
  "language_info": {
   "name": "python"
  }
 },
 "nbformat": 4,
 "nbformat_minor": 2
}
