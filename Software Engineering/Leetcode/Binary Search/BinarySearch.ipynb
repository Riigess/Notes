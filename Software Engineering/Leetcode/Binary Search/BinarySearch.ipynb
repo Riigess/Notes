{
 "cells": [
  {
   "cell_type": "markdown",
   "metadata": {},
   "source": [
    "# Problem\n",
    "You are given an array of distinct integers `nums`, sorted in ascending order, and an integer `target`.\n",
    "\n",
    "Implement a function to search for `target` within `nums`. If it exists, then return its index, otherwise, return `-1`.\n",
    "\n",
    "Your solution must run in O(log n) time.\n",
    "\n",
    "## Example 1\n",
    "Input:\n",
    "- nums = [-1, 0, 2, 4, 6, 8]\n",
    "- target = 4\n",
    "\n",
    "Output:\n",
    "- 3\n",
    "\n",
    "## Example 2\n",
    "Input:\n",
    "- nums = [-1, 0, 2, 4, 6, 8]\n",
    "- target = -1"
   ]
  },
  {
   "cell_type": "code",
   "execution_count": 7,
   "metadata": {},
   "outputs": [
    {
     "name": "stdout",
     "output_type": "stream",
     "text": [
      "Test Case 1:\n",
      "\tReturned: 3\n",
      "\tExpected: 3\n",
      "Test Case 2:\n",
      "\tReturned: -1\n",
      "\tExpected: -1\n",
      "Test Case 3:\n",
      "\tReturned: 4\n",
      "\tExpected: 4\n"
     ]
    }
   ],
   "source": [
    "class Solution:\n",
    "    def search(self, nums:list[int], target:int) -> int:\n",
    "        if len(nums) == 1:\n",
    "            return 0 if nums[0] == target else -1\n",
    "        l, r = 0, len(nums) - 1\n",
    "        mid = (l + r) // 2\n",
    "        while r > l:\n",
    "            mid = (r + l) // 2\n",
    "            if nums[mid] > target:\n",
    "                r = mid - 1\n",
    "            elif nums[mid] < target:\n",
    "                l = mid + 1\n",
    "            else:\n",
    "                return mid\n",
    "            if nums[l] == target:\n",
    "                return l\n",
    "            if nums[r] == target:\n",
    "                return r\n",
    "        return -1\n",
    "\n",
    "def test_testcase(nums:list[int], target:int, expected:int, numb:int):\n",
    "    sol = Solution()\n",
    "    ret = sol.search(nums, target)\n",
    "    print(f\"Test Case {numb}:\")\n",
    "    print(\"\\tReturned:\", ret)\n",
    "    assert ret == expected\n",
    "    print(\"\\tExpected:\", expected)\n",
    "\n",
    "test_case_1_nums = [-1, 0, 2, 4, 6, 8]\n",
    "test_case_1_target = 4\n",
    "test_case_1_expected = 3\n",
    "test_testcase(test_case_1_nums,\n",
    "              test_case_1_target,\n",
    "              test_case_1_expected,\n",
    "              1)\n",
    "\n",
    "test_case_2_nums = [-1, 0, 2, 4, 6, 8]\n",
    "test_case_2_target = 3\n",
    "test_case_2_expected = -1\n",
    "test_testcase(test_case_2_nums,\n",
    "              test_case_2_target,\n",
    "              test_case_2_expected,\n",
    "              2)\n",
    "\n",
    "test_case_3_nums = [-1, 0, 3, 5, 9, 12]\n",
    "test_case_3_target = 9\n",
    "test_case_3_expected = 4\n",
    "test_testcase(test_case_3_nums,\n",
    "              test_case_3_target,\n",
    "              test_case_3_expected,\n",
    "              3)"
   ]
  }
 ],
 "metadata": {
  "kernelspec": {
   "display_name": "Python 3",
   "language": "python",
   "name": "python3"
  },
  "language_info": {
   "codemirror_mode": {
    "name": "ipython",
    "version": 3
   },
   "file_extension": ".py",
   "mimetype": "text/x-python",
   "name": "python",
   "nbconvert_exporter": "python",
   "pygments_lexer": "ipython3",
   "version": "3.11.9"
  }
 },
 "nbformat": 4,
 "nbformat_minor": 2
}
