{
 "cells": [
  {
   "cell_type": "markdown",
   "metadata": {},
   "source": [
    "# Problem\n",
    "Suppose an array of length `n` sorted in ascending order is rotated between `1` and `n` times. For example, the array `nums = [0,1,2,4,5,6,7]` might become:\n",
    "\n",
    "- `[4,5,6,7,0,1,2]` if it was rotated 4 times.\n",
    "- `[0,1,2,4,5,6,7]` if it was rotated 7 times.\n",
    "Notice that rotating an array [a[0], a[1], a[2], ..., a[n-1]] 1 time results in the array [a[n-1], a[0], a[1], a[2], ..., a[n-2]].\n",
    "\n",
    "Given the sorted rotated array nums of unique elements, return the minimum element of this array.\n",
    "\n",
    "You must write an algorithm that runs in `O(log n)` time.\n",
    "\n",
    "## Example 1\n",
    "\n",
    "Input: nums = [3, 4, 5, 1, 2]\n",
    "\n",
    "Output: 1\n",
    "\n",
    "Explanation: The original array was [1, 2, 3, 4, 5] rotated 3 times.\n",
    "## Example 2\n",
    "\n",
    "Input: nums = [4, 5, 6, 7, 0, 1, 2]\n",
    "\n",
    "Output: 0\n",
    "\n",
    "Explanation: The original array was [0, 1, 2, 4, 5, 6, 7] and it was rotated 4 times.\n",
    "## Example 3\n",
    "\n",
    "Input: nums = [11, 13, 15, 17]\n",
    "\n",
    "Output: 11\n",
    "\n",
    "Explanation: The original array was [11, 13, 15, 17] and it was rotated 4 times."
   ]
  },
  {
   "cell_type": "code",
   "execution_count": 3,
   "metadata": {},
   "outputs": [],
   "source": [
    "class Solution:\n",
    "    def findMin(self, nums: list[int]) -> int:\n",
    "        def find_pivot(nums:list[int], low:int, high:int):\n",
    "            if high < low:\n",
    "                return -1\n",
    "            if high == low:\n",
    "                return low\n",
    "            mid = (low + high) // 2\n",
    "            if mid < high and nums[mid + 1] < nums[mid]:\n",
    "                return mid\n",
    "            if mid > low and nums[mid] < nums[mid - 1]:\n",
    "                return mid - 1\n",
    "            if nums[low] > nums[mid]:\n",
    "                return find_pivot(nums, low, mid - 1)\n",
    "            else:\n",
    "                return find_pivot(nums, mid+1, high)\n",
    "        l, r = 0, len(nums) - 1\n",
    "        temp = find_pivot(nums, l, r) + 1\n",
    "        temp %= len(nums)\n",
    "        return nums[temp]\n"
   ]
  },
  {
   "cell_type": "code",
   "execution_count": 4,
   "metadata": {},
   "outputs": [],
   "source": [
    "\n",
    "def test_testcase(numb:int, nums:list[int], expected:int):\n",
    "    sol = Solution()\n",
    "    ret = sol.findMin(nums)\n",
    "    print(f\"Test Case {numb}:\")\n",
    "    print(\"\\tResults:\", ret)\n",
    "    assert ret == expected\n",
    "    print(\"\\tExpected:\", expected)\n"
   ]
  },
  {
   "cell_type": "code",
   "execution_count": 5,
   "metadata": {},
   "outputs": [
    {
     "name": "stdout",
     "output_type": "stream",
     "text": [
      "Test Case 1:\n",
      "\tResults: 1\n",
      "\tExpected: 1\n",
      "Test Case 2:\n",
      "\tResults: 0\n",
      "\tExpected: 0\n",
      "Test Case 3:\n",
      "\tResults: 11\n",
      "\tExpected: 11\n"
     ]
    }
   ],
   "source": [
    "\n",
    "test_testcase(1, [3, 4, 5, 1, 2], 1)\n",
    "test_testcase(2, [4, 5, 6, 7, 0, 1, 2], 0)\n",
    "test_testcase(3, [11, 13, 15, 17], 11)"
   ]
  }
 ],
 "metadata": {
  "kernelspec": {
   "display_name": "Python 3",
   "language": "python",
   "name": "python3"
  },
  "language_info": {
   "codemirror_mode": {
    "name": "ipython",
    "version": 3
   },
   "file_extension": ".py",
   "mimetype": "text/x-python",
   "name": "python",
   "nbconvert_exporter": "python",
   "pygments_lexer": "ipython3",
   "version": "3.11.9"
  }
 },
 "nbformat": 4,
 "nbformat_minor": 2
}
